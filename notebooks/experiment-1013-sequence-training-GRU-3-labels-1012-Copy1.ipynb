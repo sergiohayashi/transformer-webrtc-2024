{
 "cells": [
  {
   "cell_type": "code",
   "execution_count": null,
   "id": "36c6b36f-d815-4815-87b4-781233203c54",
   "metadata": {},
   "outputs": [],
   "source": [
    "import os\n",
    "from pathlib import Path\n",
    "import pickle\n",
    "import numpy as np\n",
    "import pandas as pd\n",
    "import tensorflow as tf"
   ]
  },
  {
   "cell_type": "code",
   "execution_count": 2,
   "id": "b0c837e5-9187-4067-aca3-f7fdbc72d8aa",
   "metadata": {},
   "outputs": [],
   "source": [
    "def load_data(filename):\n",
    "    with open(filename, 'rb') as file:\n",
    "        return pickle.load(file)"
   ]
  },
  {
   "cell_type": "code",
   "execution_count": 3,
   "id": "e42d9e52-a659-4c98-b7f5-bd5e33a26325",
   "metadata": {},
   "outputs": [],
   "source": [
    "data_root = r\"C:/Users/hayashi/doutorado/mac6958--dados-redes/webrtc\"\n"
   ]
  },
  {
   "cell_type": "code",
   "execution_count": 4,
   "id": "365294d9-9d9a-4141-8aaf-ba450ea5f974",
   "metadata": {},
   "outputs": [],
   "source": [
    "file_path = Path(data_root, 'data/processed/facial-1012-sequential.pkl')"
   ]
  },
  {
   "cell_type": "code",
   "execution_count": 5,
   "id": "9627749b-e6c2-4529-8e48-afd3370c114c",
   "metadata": {},
   "outputs": [],
   "source": [
    "data = load_data(file_path)"
   ]
  },
  {
   "cell_type": "code",
   "execution_count": 6,
   "id": "82d4860e-5b12-4a6d-8850-5678dcea60d9",
   "metadata": {},
   "outputs": [],
   "source": [
    "X,Y = data"
   ]
  },
  {
   "cell_type": "code",
   "execution_count": 7,
   "id": "d76fcd76-0304-4de3-8d10-38bbf04f8c7b",
   "metadata": {},
   "outputs": [
    {
     "data": {
      "text/plain": [
       "((34880, 30, 323), (34880, 5))"
      ]
     },
     "execution_count": 7,
     "metadata": {},
     "output_type": "execute_result"
    }
   ],
   "source": [
    "X.shape, Y.shape"
   ]
  },
  {
   "cell_type": "markdown",
   "id": "14c72276-5682-4118-a3ed-346439053b19",
   "metadata": {},
   "source": [
    "'user_id': -1.647508942095828,\n",
    "'test_condition': 0.4629100498862757,\n",
    "'delay': 1.0690449676496976,\n",
    "'jitter': 1.224744871391589,\n",
    "'packet_loss_rate': 0.0"
   ]
  },
  {
   "cell_type": "code",
   "execution_count": 8,
   "id": "748dc0b4-529a-4f26-ab87-b1a1a2c8d497",
   "metadata": {},
   "outputs": [
    {
     "data": {
      "text/plain": [
       "array([-1.64750894,  0.46291005,  1.06904497,  1.22474487,  0.        ])"
      ]
     },
     "execution_count": 8,
     "metadata": {},
     "output_type": "execute_result"
    }
   ],
   "source": [
    "Y[0]"
   ]
  },
  {
   "cell_type": "code",
   "execution_count": 9,
   "id": "94e14553-59da-42b0-bdb8-7f580a664ef9",
   "metadata": {},
   "outputs": [
    {
     "data": {
      "text/plain": [
       "array([1.06904497, 1.22474487, 0.        ])"
      ]
     },
     "execution_count": 9,
     "metadata": {},
     "output_type": "execute_result"
    }
   ],
   "source": [
    "Y[0,2:]"
   ]
  },
  {
   "cell_type": "code",
   "execution_count": 10,
   "id": "a9559e3f-c091-40be-8e01-57292cce403c",
   "metadata": {},
   "outputs": [],
   "source": [
    "Y_factor = Y[:,2:]"
   ]
  },
  {
   "cell_type": "code",
   "execution_count": 11,
   "id": "85f30869-a0c8-449b-8fe4-135cc8aab9e7",
   "metadata": {},
   "outputs": [
    {
     "data": {
      "text/plain": [
       "((34880, 30, 323), (34880, 3))"
      ]
     },
     "execution_count": 11,
     "metadata": {},
     "output_type": "execute_result"
    }
   ],
   "source": [
    "X.shape, Y_factor.shape"
   ]
  },
  {
   "cell_type": "code",
   "execution_count": 12,
   "id": "cc78ace6-9616-4081-8aa4-65b5a32d7e9a",
   "metadata": {},
   "outputs": [],
   "source": [
    "Y = Y_factor"
   ]
  },
  {
   "cell_type": "code",
   "execution_count": null,
   "id": "1c2def91-577d-4601-a5df-e874db739eec",
   "metadata": {},
   "outputs": [],
   "source": []
  },
  {
   "cell_type": "code",
   "execution_count": null,
   "id": "598d197c-1870-43b8-98dd-93db94e17595",
   "metadata": {},
   "outputs": [],
   "source": []
  },
  {
   "cell_type": "code",
   "execution_count": null,
   "id": "d368e8fc-f2c7-4ee3-827f-d729711825a2",
   "metadata": {},
   "outputs": [],
   "source": []
  },
  {
   "cell_type": "code",
   "execution_count": 13,
   "id": "11c5c3f5-4a31-4e3e-a042-8d51127d2496",
   "metadata": {},
   "outputs": [],
   "source": [
    "import tensorflow as tf\n",
    "from tensorflow.keras.models import Sequential\n",
    "from tensorflow.keras.layers import GRU, Dense, Dropout\n",
    "from tensorflow.keras.optimizers import Adam\n",
    "from sklearn.model_selection import train_test_split"
   ]
  },
  {
   "cell_type": "code",
   "execution_count": 14,
   "id": "4830b184-36ab-4a1f-b106-721e8326903e",
   "metadata": {},
   "outputs": [],
   "source": [
    "# Split the data into training and validation sets\n",
    "X_train, X_val, Y_train, Y_val = train_test_split(X, Y, test_size=0.2, random_state=42)"
   ]
  },
  {
   "cell_type": "code",
   "execution_count": 20,
   "id": "15e593a7-384c-4fb5-9d2a-f59fefba7ff5",
   "metadata": {},
   "outputs": [
    {
     "name": "stdout",
     "output_type": "stream",
     "text": [
      "0 [-1.60356745 -0.26726124  1.06904497]\n",
      "1 [-0.81649658  1.22474487]\n",
      "2 [-1.22474487  0.          1.22474487]\n"
     ]
    }
   ],
   "source": [
    "for i in range(Y_train.shape[1]):\n",
    "    print(i, np.unique(Y_train[:,i]))"
   ]
  },
  {
   "cell_type": "code",
   "execution_count": 21,
   "id": "eef5d05d-d9a8-4238-80d6-a3e2dd9f0835",
   "metadata": {},
   "outputs": [
    {
     "name": "stdout",
     "output_type": "stream",
     "text": [
      "0 [-1.60356745 -0.26726124  1.06904497]\n",
      "1 [-0.81649658  1.22474487]\n",
      "2 [-1.22474487  0.          1.22474487]\n"
     ]
    }
   ],
   "source": [
    "for i in range(Y_val.shape[1]):\n",
    "    print(i, np.unique(Y_val[:,i]))"
   ]
  },
  {
   "cell_type": "code",
   "execution_count": null,
   "id": "5274f588-abc7-4b32-8847-9e03a49f5e5c",
   "metadata": {},
   "outputs": [],
   "source": []
  },
  {
   "cell_type": "code",
   "execution_count": null,
   "id": "2e10ec8c-eaba-4e17-8904-ce7f73fc2c62",
   "metadata": {},
   "outputs": [],
   "source": []
  },
  {
   "cell_type": "code",
   "execution_count": 29,
   "id": "b0c1b842-2d71-4d7d-8b15-7e3ef2db3833",
   "metadata": {},
   "outputs": [
    {
     "name": "stderr",
     "output_type": "stream",
     "text": [
      "C:\\Users\\hayashi\\doutorado\\mac6958--dados-redes\\webrtc\\venv.2\\lib\\site-packages\\keras\\src\\layers\\rnn\\rnn.py:204: UserWarning: Do not pass an `input_shape`/`input_dim` argument to a layer. When using Sequential models, prefer using an `Input(shape)` object as the first layer in the model instead.\n",
      "  super().__init__(**kwargs)\n"
     ]
    }
   ],
   "source": [
    "# Build the model\n",
    "model = Sequential([\n",
    "    GRU(50, input_shape=(X_train.shape[1], X_train.shape[2]), return_sequences=True),\n",
    "    Dropout(0.2),\n",
    "    GRU(50, return_sequences=False),\n",
    "    Dropout(0.2),\n",
    "    Dense(3)  # Linear activation for regression\n",
    "])"
   ]
  },
  {
   "cell_type": "code",
   "execution_count": 30,
   "id": "2e9bfac4-f73e-4299-b10b-a5f33414c0ed",
   "metadata": {},
   "outputs": [],
   "source": [
    "# Compile the model\n",
    "model.compile(optimizer=Adam(learning_rate=0.001), loss='mean_squared_error', metrics=['mse'])"
   ]
  },
  {
   "cell_type": "code",
   "execution_count": 31,
   "id": "67440498-36b0-457a-aa5a-6460ea3fd673",
   "metadata": {},
   "outputs": [
    {
     "data": {
      "text/html": [
       "<pre style=\"white-space:pre;overflow-x:auto;line-height:normal;font-family:Menlo,'DejaVu Sans Mono',consolas,'Courier New',monospace\"><span style=\"font-weight: bold\">Model: \"sequential_1\"</span>\n",
       "</pre>\n"
      ],
      "text/plain": [
       "\u001b[1mModel: \"sequential_1\"\u001b[0m\n"
      ]
     },
     "metadata": {},
     "output_type": "display_data"
    },
    {
     "data": {
      "text/html": [
       "<pre style=\"white-space:pre;overflow-x:auto;line-height:normal;font-family:Menlo,'DejaVu Sans Mono',consolas,'Courier New',monospace\">┏━━━━━━━━━━━━━━━━━━━━━━━━━━━━━━━━━━━━━━┳━━━━━━━━━━━━━━━━━━━━━━━━━━━━━┳━━━━━━━━━━━━━━━━━┓\n",
       "┃<span style=\"font-weight: bold\"> Layer (type)                         </span>┃<span style=\"font-weight: bold\"> Output Shape                </span>┃<span style=\"font-weight: bold\">         Param # </span>┃\n",
       "┡━━━━━━━━━━━━━━━━━━━━━━━━━━━━━━━━━━━━━━╇━━━━━━━━━━━━━━━━━━━━━━━━━━━━━╇━━━━━━━━━━━━━━━━━┩\n",
       "│ gru_2 (<span style=\"color: #0087ff; text-decoration-color: #0087ff\">GRU</span>)                          │ (<span style=\"color: #00d7ff; text-decoration-color: #00d7ff\">None</span>, <span style=\"color: #00af00; text-decoration-color: #00af00\">30</span>, <span style=\"color: #00af00; text-decoration-color: #00af00\">50</span>)              │          <span style=\"color: #00af00; text-decoration-color: #00af00\">56,250</span> │\n",
       "├──────────────────────────────────────┼─────────────────────────────┼─────────────────┤\n",
       "│ dropout_2 (<span style=\"color: #0087ff; text-decoration-color: #0087ff\">Dropout</span>)                  │ (<span style=\"color: #00d7ff; text-decoration-color: #00d7ff\">None</span>, <span style=\"color: #00af00; text-decoration-color: #00af00\">30</span>, <span style=\"color: #00af00; text-decoration-color: #00af00\">50</span>)              │               <span style=\"color: #00af00; text-decoration-color: #00af00\">0</span> │\n",
       "├──────────────────────────────────────┼─────────────────────────────┼─────────────────┤\n",
       "│ gru_3 (<span style=\"color: #0087ff; text-decoration-color: #0087ff\">GRU</span>)                          │ (<span style=\"color: #00d7ff; text-decoration-color: #00d7ff\">None</span>, <span style=\"color: #00af00; text-decoration-color: #00af00\">50</span>)                  │          <span style=\"color: #00af00; text-decoration-color: #00af00\">15,300</span> │\n",
       "├──────────────────────────────────────┼─────────────────────────────┼─────────────────┤\n",
       "│ dropout_3 (<span style=\"color: #0087ff; text-decoration-color: #0087ff\">Dropout</span>)                  │ (<span style=\"color: #00d7ff; text-decoration-color: #00d7ff\">None</span>, <span style=\"color: #00af00; text-decoration-color: #00af00\">50</span>)                  │               <span style=\"color: #00af00; text-decoration-color: #00af00\">0</span> │\n",
       "├──────────────────────────────────────┼─────────────────────────────┼─────────────────┤\n",
       "│ dense_1 (<span style=\"color: #0087ff; text-decoration-color: #0087ff\">Dense</span>)                      │ (<span style=\"color: #00d7ff; text-decoration-color: #00d7ff\">None</span>, <span style=\"color: #00af00; text-decoration-color: #00af00\">3</span>)                   │             <span style=\"color: #00af00; text-decoration-color: #00af00\">153</span> │\n",
       "└──────────────────────────────────────┴─────────────────────────────┴─────────────────┘\n",
       "</pre>\n"
      ],
      "text/plain": [
       "┏━━━━━━━━━━━━━━━━━━━━━━━━━━━━━━━━━━━━━━┳━━━━━━━━━━━━━━━━━━━━━━━━━━━━━┳━━━━━━━━━━━━━━━━━┓\n",
       "┃\u001b[1m \u001b[0m\u001b[1mLayer (type)                        \u001b[0m\u001b[1m \u001b[0m┃\u001b[1m \u001b[0m\u001b[1mOutput Shape               \u001b[0m\u001b[1m \u001b[0m┃\u001b[1m \u001b[0m\u001b[1m        Param #\u001b[0m\u001b[1m \u001b[0m┃\n",
       "┡━━━━━━━━━━━━━━━━━━━━━━━━━━━━━━━━━━━━━━╇━━━━━━━━━━━━━━━━━━━━━━━━━━━━━╇━━━━━━━━━━━━━━━━━┩\n",
       "│ gru_2 (\u001b[38;5;33mGRU\u001b[0m)                          │ (\u001b[38;5;45mNone\u001b[0m, \u001b[38;5;34m30\u001b[0m, \u001b[38;5;34m50\u001b[0m)              │          \u001b[38;5;34m56,250\u001b[0m │\n",
       "├──────────────────────────────────────┼─────────────────────────────┼─────────────────┤\n",
       "│ dropout_2 (\u001b[38;5;33mDropout\u001b[0m)                  │ (\u001b[38;5;45mNone\u001b[0m, \u001b[38;5;34m30\u001b[0m, \u001b[38;5;34m50\u001b[0m)              │               \u001b[38;5;34m0\u001b[0m │\n",
       "├──────────────────────────────────────┼─────────────────────────────┼─────────────────┤\n",
       "│ gru_3 (\u001b[38;5;33mGRU\u001b[0m)                          │ (\u001b[38;5;45mNone\u001b[0m, \u001b[38;5;34m50\u001b[0m)                  │          \u001b[38;5;34m15,300\u001b[0m │\n",
       "├──────────────────────────────────────┼─────────────────────────────┼─────────────────┤\n",
       "│ dropout_3 (\u001b[38;5;33mDropout\u001b[0m)                  │ (\u001b[38;5;45mNone\u001b[0m, \u001b[38;5;34m50\u001b[0m)                  │               \u001b[38;5;34m0\u001b[0m │\n",
       "├──────────────────────────────────────┼─────────────────────────────┼─────────────────┤\n",
       "│ dense_1 (\u001b[38;5;33mDense\u001b[0m)                      │ (\u001b[38;5;45mNone\u001b[0m, \u001b[38;5;34m3\u001b[0m)                   │             \u001b[38;5;34m153\u001b[0m │\n",
       "└──────────────────────────────────────┴─────────────────────────────┴─────────────────┘\n"
      ]
     },
     "metadata": {},
     "output_type": "display_data"
    },
    {
     "data": {
      "text/html": [
       "<pre style=\"white-space:pre;overflow-x:auto;line-height:normal;font-family:Menlo,'DejaVu Sans Mono',consolas,'Courier New',monospace\"><span style=\"font-weight: bold\"> Total params: </span><span style=\"color: #00af00; text-decoration-color: #00af00\">71,703</span> (280.09 KB)\n",
       "</pre>\n"
      ],
      "text/plain": [
       "\u001b[1m Total params: \u001b[0m\u001b[38;5;34m71,703\u001b[0m (280.09 KB)\n"
      ]
     },
     "metadata": {},
     "output_type": "display_data"
    },
    {
     "data": {
      "text/html": [
       "<pre style=\"white-space:pre;overflow-x:auto;line-height:normal;font-family:Menlo,'DejaVu Sans Mono',consolas,'Courier New',monospace\"><span style=\"font-weight: bold\"> Trainable params: </span><span style=\"color: #00af00; text-decoration-color: #00af00\">71,703</span> (280.09 KB)\n",
       "</pre>\n"
      ],
      "text/plain": [
       "\u001b[1m Trainable params: \u001b[0m\u001b[38;5;34m71,703\u001b[0m (280.09 KB)\n"
      ]
     },
     "metadata": {},
     "output_type": "display_data"
    },
    {
     "data": {
      "text/html": [
       "<pre style=\"white-space:pre;overflow-x:auto;line-height:normal;font-family:Menlo,'DejaVu Sans Mono',consolas,'Courier New',monospace\"><span style=\"font-weight: bold\"> Non-trainable params: </span><span style=\"color: #00af00; text-decoration-color: #00af00\">0</span> (0.00 B)\n",
       "</pre>\n"
      ],
      "text/plain": [
       "\u001b[1m Non-trainable params: \u001b[0m\u001b[38;5;34m0\u001b[0m (0.00 B)\n"
      ]
     },
     "metadata": {},
     "output_type": "display_data"
    }
   ],
   "source": [
    "# Summary of the model\n",
    "model.summary()"
   ]
  },
  {
   "cell_type": "code",
   "execution_count": null,
   "id": "d4ee7eee-6ef3-4b5e-86ab-b6a0e5c9f0bf",
   "metadata": {},
   "outputs": [
    {
     "name": "stdout",
     "output_type": "stream",
     "text": [
      "Epoch 1/500\n",
      "\u001b[1m436/436\u001b[0m \u001b[32m━━━━━━━━━━━━━━━━━━━━\u001b[0m\u001b[37m\u001b[0m \u001b[1m9s\u001b[0m 16ms/step - loss: 1.0654 - mse: 1.0654 - val_loss: 1.0059 - val_mse: 1.0059\n",
      "Epoch 2/500\n",
      "\u001b[1m436/436\u001b[0m \u001b[32m━━━━━━━━━━━━━━━━━━━━\u001b[0m\u001b[37m\u001b[0m \u001b[1m7s\u001b[0m 15ms/step - loss: 1.0103 - mse: 1.0103 - val_loss: 1.0040 - val_mse: 1.0040\n",
      "Epoch 3/500\n",
      "\u001b[1m436/436\u001b[0m \u001b[32m━━━━━━━━━━━━━━━━━━━━\u001b[0m\u001b[37m\u001b[0m \u001b[1m7s\u001b[0m 15ms/step - loss: 1.0091 - mse: 1.0091 - val_loss: 1.0038 - val_mse: 1.0038\n",
      "Epoch 4/500\n",
      "\u001b[1m436/436\u001b[0m \u001b[32m━━━━━━━━━━━━━━━━━━━━\u001b[0m\u001b[37m\u001b[0m \u001b[1m7s\u001b[0m 17ms/step - loss: 1.0048 - mse: 1.0048 - val_loss: 1.0046 - val_mse: 1.0046\n",
      "Epoch 5/500\n",
      "\u001b[1m436/436\u001b[0m \u001b[32m━━━━━━━━━━━━━━━━━━━━\u001b[0m\u001b[37m\u001b[0m \u001b[1m8s\u001b[0m 17ms/step - loss: 1.0010 - mse: 1.0010 - val_loss: 1.0051 - val_mse: 1.0051\n",
      "Epoch 6/500\n",
      "\u001b[1m436/436\u001b[0m \u001b[32m━━━━━━━━━━━━━━━━━━━━\u001b[0m\u001b[37m\u001b[0m \u001b[1m7s\u001b[0m 15ms/step - loss: 1.0006 - mse: 1.0006 - val_loss: 1.0043 - val_mse: 1.0043\n",
      "Epoch 7/500\n",
      "\u001b[1m436/436\u001b[0m \u001b[32m━━━━━━━━━━━━━━━━━━━━\u001b[0m\u001b[37m\u001b[0m \u001b[1m7s\u001b[0m 15ms/step - loss: 1.0031 - mse: 1.0031 - val_loss: 1.0024 - val_mse: 1.0024\n",
      "Epoch 8/500\n",
      "\u001b[1m436/436\u001b[0m \u001b[32m━━━━━━━━━━━━━━━━━━━━\u001b[0m\u001b[37m\u001b[0m \u001b[1m7s\u001b[0m 16ms/step - loss: 1.0019 - mse: 1.0019 - val_loss: 1.0032 - val_mse: 1.0032\n",
      "Epoch 9/500\n",
      "\u001b[1m436/436\u001b[0m \u001b[32m━━━━━━━━━━━━━━━━━━━━\u001b[0m\u001b[37m\u001b[0m \u001b[1m7s\u001b[0m 16ms/step - loss: 0.9996 - mse: 0.9996 - val_loss: 1.0024 - val_mse: 1.0024\n",
      "Epoch 10/500\n",
      "\u001b[1m436/436\u001b[0m \u001b[32m━━━━━━━━━━━━━━━━━━━━\u001b[0m\u001b[37m\u001b[0m \u001b[1m7s\u001b[0m 15ms/step - loss: 1.0046 - mse: 1.0046 - val_loss: 1.0038 - val_mse: 1.0038\n",
      "Epoch 11/500\n",
      "\u001b[1m436/436\u001b[0m \u001b[32m━━━━━━━━━━━━━━━━━━━━\u001b[0m\u001b[37m\u001b[0m \u001b[1m7s\u001b[0m 15ms/step - loss: 1.0004 - mse: 1.0004 - val_loss: 1.0023 - val_mse: 1.0023\n",
      "Epoch 12/500\n",
      "\u001b[1m436/436\u001b[0m \u001b[32m━━━━━━━━━━━━━━━━━━━━\u001b[0m\u001b[37m\u001b[0m \u001b[1m10s\u001b[0m 15ms/step - loss: 0.9992 - mse: 0.9992 - val_loss: 1.0025 - val_mse: 1.0025\n",
      "Epoch 13/500\n",
      "\u001b[1m436/436\u001b[0m \u001b[32m━━━━━━━━━━━━━━━━━━━━\u001b[0m\u001b[37m\u001b[0m \u001b[1m7s\u001b[0m 15ms/step - loss: 1.0006 - mse: 1.0006 - val_loss: 1.0024 - val_mse: 1.0024\n",
      "Epoch 14/500\n",
      "\u001b[1m436/436\u001b[0m \u001b[32m━━━━━━━━━━━━━━━━━━━━\u001b[0m\u001b[37m\u001b[0m \u001b[1m7s\u001b[0m 15ms/step - loss: 0.9991 - mse: 0.9991 - val_loss: 1.0023 - val_mse: 1.0023\n",
      "Epoch 15/500\n",
      "\u001b[1m436/436\u001b[0m \u001b[32m━━━━━━━━━━━━━━━━━━━━\u001b[0m\u001b[37m\u001b[0m \u001b[1m6s\u001b[0m 15ms/step - loss: 1.0012 - mse: 1.0012 - val_loss: 1.0024 - val_mse: 1.0024\n",
      "Epoch 16/500\n",
      "\u001b[1m436/436\u001b[0m \u001b[32m━━━━━━━━━━━━━━━━━━━━\u001b[0m\u001b[37m\u001b[0m \u001b[1m7s\u001b[0m 15ms/step - loss: 1.0031 - mse: 1.0031 - val_loss: 1.0024 - val_mse: 1.0024\n",
      "Epoch 17/500\n",
      "\u001b[1m436/436\u001b[0m \u001b[32m━━━━━━━━━━━━━━━━━━━━\u001b[0m\u001b[37m\u001b[0m \u001b[1m7s\u001b[0m 15ms/step - loss: 0.9983 - mse: 0.9983 - val_loss: 1.0024 - val_mse: 1.0024\n",
      "Epoch 18/500\n",
      "\u001b[1m436/436\u001b[0m \u001b[32m━━━━━━━━━━━━━━━━━━━━\u001b[0m\u001b[37m\u001b[0m \u001b[1m7s\u001b[0m 15ms/step - loss: 0.9988 - mse: 0.9988 - val_loss: 1.0023 - val_mse: 1.0023\n",
      "Epoch 19/500\n",
      "\u001b[1m436/436\u001b[0m \u001b[32m━━━━━━━━━━━━━━━━━━━━\u001b[0m\u001b[37m\u001b[0m \u001b[1m6s\u001b[0m 14ms/step - loss: 1.0019 - mse: 1.0019 - val_loss: 1.0024 - val_mse: 1.0024\n",
      "Epoch 20/500\n",
      "\u001b[1m436/436\u001b[0m \u001b[32m━━━━━━━━━━━━━━━━━━━━\u001b[0m\u001b[37m\u001b[0m \u001b[1m6s\u001b[0m 15ms/step - loss: 1.0029 - mse: 1.0029 - val_loss: 1.0026 - val_mse: 1.0026\n",
      "Epoch 21/500\n",
      "\u001b[1m436/436\u001b[0m \u001b[32m━━━━━━━━━━━━━━━━━━━━\u001b[0m\u001b[37m\u001b[0m \u001b[1m6s\u001b[0m 15ms/step - loss: 1.0038 - mse: 1.0038 - val_loss: 1.0025 - val_mse: 1.0025\n",
      "Epoch 22/500\n",
      "\u001b[1m436/436\u001b[0m \u001b[32m━━━━━━━━━━━━━━━━━━━━\u001b[0m\u001b[37m\u001b[0m \u001b[1m6s\u001b[0m 14ms/step - loss: 0.9965 - mse: 0.9965 - val_loss: 1.0025 - val_mse: 1.0025\n",
      "Epoch 23/500\n",
      "\u001b[1m436/436\u001b[0m \u001b[32m━━━━━━━━━━━━━━━━━━━━\u001b[0m\u001b[37m\u001b[0m \u001b[1m6s\u001b[0m 15ms/step - loss: 1.0035 - mse: 1.0035 - val_loss: 1.0023 - val_mse: 1.0023\n",
      "Epoch 24/500\n",
      "\u001b[1m436/436\u001b[0m \u001b[32m━━━━━━━━━━━━━━━━━━━━\u001b[0m\u001b[37m\u001b[0m \u001b[1m6s\u001b[0m 14ms/step - loss: 1.0057 - mse: 1.0057 - val_loss: 1.0024 - val_mse: 1.0024\n",
      "Epoch 25/500\n",
      "\u001b[1m436/436\u001b[0m \u001b[32m━━━━━━━━━━━━━━━━━━━━\u001b[0m\u001b[37m\u001b[0m \u001b[1m6s\u001b[0m 14ms/step - loss: 0.9978 - mse: 0.9978 - val_loss: 1.0027 - val_mse: 1.0027\n",
      "Epoch 26/500\n",
      "\u001b[1m436/436\u001b[0m \u001b[32m━━━━━━━━━━━━━━━━━━━━\u001b[0m\u001b[37m\u001b[0m \u001b[1m6s\u001b[0m 14ms/step - loss: 1.0008 - mse: 1.0008 - val_loss: 1.0024 - val_mse: 1.0024\n",
      "Epoch 27/500\n",
      "\u001b[1m436/436\u001b[0m \u001b[32m━━━━━━━━━━━━━━━━━━━━\u001b[0m\u001b[37m\u001b[0m \u001b[1m6s\u001b[0m 14ms/step - loss: 1.0005 - mse: 1.0005 - val_loss: 1.0026 - val_mse: 1.0026\n",
      "Epoch 28/500\n",
      "\u001b[1m436/436\u001b[0m \u001b[32m━━━━━━━━━━━━━━━━━━━━\u001b[0m\u001b[37m\u001b[0m \u001b[1m6s\u001b[0m 14ms/step - loss: 0.9985 - mse: 0.9985 - val_loss: 1.0024 - val_mse: 1.0024\n",
      "Epoch 29/500\n",
      "\u001b[1m436/436\u001b[0m \u001b[32m━━━━━━━━━━━━━━━━━━━━\u001b[0m\u001b[37m\u001b[0m \u001b[1m6s\u001b[0m 14ms/step - loss: 1.0023 - mse: 1.0023 - val_loss: 1.0025 - val_mse: 1.0025\n",
      "Epoch 30/500\n",
      "\u001b[1m436/436\u001b[0m \u001b[32m━━━━━━━━━━━━━━━━━━━━\u001b[0m\u001b[37m\u001b[0m \u001b[1m6s\u001b[0m 14ms/step - loss: 0.9990 - mse: 0.9990 - val_loss: 1.0023 - val_mse: 1.0023\n",
      "Epoch 31/500\n",
      "\u001b[1m436/436\u001b[0m \u001b[32m━━━━━━━━━━━━━━━━━━━━\u001b[0m\u001b[37m\u001b[0m \u001b[1m6s\u001b[0m 14ms/step - loss: 1.0020 - mse: 1.0020 - val_loss: 1.0024 - val_mse: 1.0024\n",
      "Epoch 32/500\n",
      "\u001b[1m436/436\u001b[0m \u001b[32m━━━━━━━━━━━━━━━━━━━━\u001b[0m\u001b[37m\u001b[0m \u001b[1m6s\u001b[0m 14ms/step - loss: 1.0031 - mse: 1.0031 - val_loss: 1.0023 - val_mse: 1.0023\n",
      "Epoch 33/500\n",
      "\u001b[1m436/436\u001b[0m \u001b[32m━━━━━━━━━━━━━━━━━━━━\u001b[0m\u001b[37m\u001b[0m \u001b[1m6s\u001b[0m 14ms/step - loss: 1.0019 - mse: 1.0019 - val_loss: 1.0026 - val_mse: 1.0026\n",
      "Epoch 34/500\n",
      "\u001b[1m436/436\u001b[0m \u001b[32m━━━━━━━━━━━━━━━━━━━━\u001b[0m\u001b[37m\u001b[0m \u001b[1m6s\u001b[0m 14ms/step - loss: 0.9963 - mse: 0.9963 - val_loss: 1.0024 - val_mse: 1.0024\n",
      "Epoch 35/500\n",
      "\u001b[1m436/436\u001b[0m \u001b[32m━━━━━━━━━━━━━━━━━━━━\u001b[0m\u001b[37m\u001b[0m \u001b[1m6s\u001b[0m 14ms/step - loss: 1.0019 - mse: 1.0019 - val_loss: 1.0024 - val_mse: 1.0024\n",
      "Epoch 36/500\n",
      "\u001b[1m436/436\u001b[0m \u001b[32m━━━━━━━━━━━━━━━━━━━━\u001b[0m\u001b[37m\u001b[0m \u001b[1m6s\u001b[0m 14ms/step - loss: 1.0014 - mse: 1.0014 - val_loss: 1.0023 - val_mse: 1.0023\n",
      "Epoch 37/500\n",
      "\u001b[1m436/436\u001b[0m \u001b[32m━━━━━━━━━━━━━━━━━━━━\u001b[0m\u001b[37m\u001b[0m \u001b[1m6s\u001b[0m 14ms/step - loss: 1.0000 - mse: 1.0000 - val_loss: 1.0024 - val_mse: 1.0024\n",
      "Epoch 38/500\n",
      "\u001b[1m436/436\u001b[0m \u001b[32m━━━━━━━━━━━━━━━━━━━━\u001b[0m\u001b[37m\u001b[0m \u001b[1m6s\u001b[0m 14ms/step - loss: 1.0057 - mse: 1.0057 - val_loss: 1.0025 - val_mse: 1.0025\n",
      "Epoch 39/500\n",
      "\u001b[1m436/436\u001b[0m \u001b[32m━━━━━━━━━━━━━━━━━━━━\u001b[0m\u001b[37m\u001b[0m \u001b[1m6s\u001b[0m 14ms/step - loss: 1.0003 - mse: 1.0003 - val_loss: 1.0023 - val_mse: 1.0023\n",
      "Epoch 40/500\n",
      "\u001b[1m436/436\u001b[0m \u001b[32m━━━━━━━━━━━━━━━━━━━━\u001b[0m\u001b[37m\u001b[0m \u001b[1m6s\u001b[0m 14ms/step - loss: 1.0026 - mse: 1.0026 - val_loss: 1.0030 - val_mse: 1.0030\n",
      "Epoch 41/500\n",
      "\u001b[1m436/436\u001b[0m \u001b[32m━━━━━━━━━━━━━━━━━━━━\u001b[0m\u001b[37m\u001b[0m \u001b[1m6s\u001b[0m 14ms/step - loss: 0.9981 - mse: 0.9981 - val_loss: 1.0024 - val_mse: 1.0024\n",
      "Epoch 42/500\n",
      "\u001b[1m436/436\u001b[0m \u001b[32m━━━━━━━━━━━━━━━━━━━━\u001b[0m\u001b[37m\u001b[0m \u001b[1m6s\u001b[0m 14ms/step - loss: 1.0021 - mse: 1.0021 - val_loss: 1.0023 - val_mse: 1.0023\n",
      "Epoch 43/500\n",
      "\u001b[1m436/436\u001b[0m \u001b[32m━━━━━━━━━━━━━━━━━━━━\u001b[0m\u001b[37m\u001b[0m \u001b[1m6s\u001b[0m 14ms/step - loss: 1.0019 - mse: 1.0019 - val_loss: 1.0023 - val_mse: 1.0023\n",
      "Epoch 44/500\n",
      "\u001b[1m436/436\u001b[0m \u001b[32m━━━━━━━━━━━━━━━━━━━━\u001b[0m\u001b[37m\u001b[0m \u001b[1m6s\u001b[0m 15ms/step - loss: 0.9997 - mse: 0.9997 - val_loss: 1.0024 - val_mse: 1.0024\n",
      "Epoch 45/500\n",
      "\u001b[1m436/436\u001b[0m \u001b[32m━━━━━━━━━━━━━━━━━━━━\u001b[0m\u001b[37m\u001b[0m \u001b[1m6s\u001b[0m 15ms/step - loss: 0.9991 - mse: 0.9991 - val_loss: 1.0023 - val_mse: 1.0023\n",
      "Epoch 46/500\n",
      "\u001b[1m436/436\u001b[0m \u001b[32m━━━━━━━━━━━━━━━━━━━━\u001b[0m\u001b[37m\u001b[0m \u001b[1m6s\u001b[0m 15ms/step - loss: 1.0057 - mse: 1.0057 - val_loss: 1.0023 - val_mse: 1.0023\n",
      "Epoch 47/500\n",
      "\u001b[1m436/436\u001b[0m \u001b[32m━━━━━━━━━━━━━━━━━━━━\u001b[0m\u001b[37m\u001b[0m \u001b[1m6s\u001b[0m 15ms/step - loss: 1.0049 - mse: 1.0049 - val_loss: 1.0024 - val_mse: 1.0024\n",
      "Epoch 48/500\n",
      "\u001b[1m436/436\u001b[0m \u001b[32m━━━━━━━━━━━━━━━━━━━━\u001b[0m\u001b[37m\u001b[0m \u001b[1m6s\u001b[0m 15ms/step - loss: 1.0011 - mse: 1.0011 - val_loss: 1.0024 - val_mse: 1.0024\n",
      "Epoch 49/500\n",
      "\u001b[1m436/436\u001b[0m \u001b[32m━━━━━━━━━━━━━━━━━━━━\u001b[0m\u001b[37m\u001b[0m \u001b[1m6s\u001b[0m 14ms/step - loss: 0.9993 - mse: 0.9993 - val_loss: 1.0023 - val_mse: 1.0023\n",
      "Epoch 50/500\n",
      "\u001b[1m436/436\u001b[0m \u001b[32m━━━━━━━━━━━━━━━━━━━━\u001b[0m\u001b[37m\u001b[0m \u001b[1m6s\u001b[0m 14ms/step - loss: 1.0003 - mse: 1.0003 - val_loss: 1.0023 - val_mse: 1.0023\n",
      "Epoch 51/500\n",
      "\u001b[1m436/436\u001b[0m \u001b[32m━━━━━━━━━━━━━━━━━━━━\u001b[0m\u001b[37m\u001b[0m \u001b[1m6s\u001b[0m 14ms/step - loss: 1.0027 - mse: 1.0027 - val_loss: 1.0023 - val_mse: 1.0023\n",
      "Epoch 52/500\n",
      "\u001b[1m436/436\u001b[0m \u001b[32m━━━━━━━━━━━━━━━━━━━━\u001b[0m\u001b[37m\u001b[0m \u001b[1m6s\u001b[0m 14ms/step - loss: 1.0028 - mse: 1.0028 - val_loss: 1.0023 - val_mse: 1.0023\n",
      "Epoch 53/500\n",
      "\u001b[1m436/436\u001b[0m \u001b[32m━━━━━━━━━━━━━━━━━━━━\u001b[0m\u001b[37m\u001b[0m \u001b[1m6s\u001b[0m 14ms/step - loss: 1.0015 - mse: 1.0015 - val_loss: 1.0023 - val_mse: 1.0023\n",
      "Epoch 54/500\n",
      "\u001b[1m436/436\u001b[0m \u001b[32m━━━━━━━━━━━━━━━━━━━━\u001b[0m\u001b[37m\u001b[0m \u001b[1m6s\u001b[0m 14ms/step - loss: 0.9990 - mse: 0.9990 - val_loss: 1.0024 - val_mse: 1.0024\n",
      "Epoch 55/500\n",
      "\u001b[1m436/436\u001b[0m \u001b[32m━━━━━━━━━━━━━━━━━━━━\u001b[0m\u001b[37m\u001b[0m \u001b[1m6s\u001b[0m 14ms/step - loss: 1.0014 - mse: 1.0014 - val_loss: 1.0023 - val_mse: 1.0023\n",
      "Epoch 56/500\n",
      "\u001b[1m436/436\u001b[0m \u001b[32m━━━━━━━━━━━━━━━━━━━━\u001b[0m\u001b[37m\u001b[0m \u001b[1m6s\u001b[0m 14ms/step - loss: 0.9978 - mse: 0.9978 - val_loss: 1.0024 - val_mse: 1.0024\n",
      "Epoch 57/500\n",
      "\u001b[1m436/436\u001b[0m \u001b[32m━━━━━━━━━━━━━━━━━━━━\u001b[0m\u001b[37m\u001b[0m \u001b[1m6s\u001b[0m 14ms/step - loss: 1.0028 - mse: 1.0028 - val_loss: 1.0024 - val_mse: 1.0024\n",
      "Epoch 58/500\n",
      "\u001b[1m436/436\u001b[0m \u001b[32m━━━━━━━━━━━━━━━━━━━━\u001b[0m\u001b[37m\u001b[0m \u001b[1m6s\u001b[0m 14ms/step - loss: 1.0058 - mse: 1.0058 - val_loss: 1.0023 - val_mse: 1.0023\n",
      "Epoch 59/500\n",
      "\u001b[1m436/436\u001b[0m \u001b[32m━━━━━━━━━━━━━━━━━━━━\u001b[0m\u001b[37m\u001b[0m \u001b[1m6s\u001b[0m 14ms/step - loss: 1.0003 - mse: 1.0003 - val_loss: 1.0024 - val_mse: 1.0024\n",
      "Epoch 60/500\n",
      "\u001b[1m436/436\u001b[0m \u001b[32m━━━━━━━━━━━━━━━━━━━━\u001b[0m\u001b[37m\u001b[0m \u001b[1m6s\u001b[0m 14ms/step - loss: 0.9998 - mse: 0.9998 - val_loss: 1.0023 - val_mse: 1.0023\n",
      "Epoch 61/500\n",
      "\u001b[1m436/436\u001b[0m \u001b[32m━━━━━━━━━━━━━━━━━━━━\u001b[0m\u001b[37m\u001b[0m \u001b[1m6s\u001b[0m 14ms/step - loss: 1.0013 - mse: 1.0013 - val_loss: 1.0023 - val_mse: 1.0023\n",
      "Epoch 62/500\n",
      "\u001b[1m436/436\u001b[0m \u001b[32m━━━━━━━━━━━━━━━━━━━━\u001b[0m\u001b[37m\u001b[0m \u001b[1m6s\u001b[0m 14ms/step - loss: 1.0021 - mse: 1.0021 - val_loss: 1.0023 - val_mse: 1.0023\n",
      "Epoch 63/500\n",
      "\u001b[1m436/436\u001b[0m \u001b[32m━━━━━━━━━━━━━━━━━━━━\u001b[0m\u001b[37m\u001b[0m \u001b[1m6s\u001b[0m 15ms/step - loss: 1.0000 - mse: 1.0000 - val_loss: 1.0023 - val_mse: 1.0023\n",
      "Epoch 64/500\n",
      "\u001b[1m436/436\u001b[0m \u001b[32m━━━━━━━━━━━━━━━━━━━━\u001b[0m\u001b[37m\u001b[0m \u001b[1m6s\u001b[0m 14ms/step - loss: 1.0041 - mse: 1.0041 - val_loss: 1.0024 - val_mse: 1.0024\n",
      "Epoch 65/500\n",
      "\u001b[1m436/436\u001b[0m \u001b[32m━━━━━━━━━━━━━━━━━━━━\u001b[0m\u001b[37m\u001b[0m \u001b[1m6s\u001b[0m 14ms/step - loss: 1.0051 - mse: 1.0051 - val_loss: 1.0024 - val_mse: 1.0024\n",
      "Epoch 66/500\n",
      "\u001b[1m436/436\u001b[0m \u001b[32m━━━━━━━━━━━━━━━━━━━━\u001b[0m\u001b[37m\u001b[0m \u001b[1m6s\u001b[0m 14ms/step - loss: 1.0021 - mse: 1.0021 - val_loss: 1.0024 - val_mse: 1.0024\n",
      "Epoch 67/500\n",
      "\u001b[1m436/436\u001b[0m \u001b[32m━━━━━━━━━━━━━━━━━━━━\u001b[0m\u001b[37m\u001b[0m \u001b[1m6s\u001b[0m 14ms/step - loss: 1.0001 - mse: 1.0001 - val_loss: 1.0024 - val_mse: 1.0024\n",
      "Epoch 68/500\n",
      "\u001b[1m436/436\u001b[0m \u001b[32m━━━━━━━━━━━━━━━━━━━━\u001b[0m\u001b[37m\u001b[0m \u001b[1m6s\u001b[0m 14ms/step - loss: 1.0041 - mse: 1.0041 - val_loss: 1.0024 - val_mse: 1.0024\n",
      "Epoch 69/500\n",
      "\u001b[1m436/436\u001b[0m \u001b[32m━━━━━━━━━━━━━━━━━━━━\u001b[0m\u001b[37m\u001b[0m \u001b[1m6s\u001b[0m 14ms/step - loss: 1.0038 - mse: 1.0038 - val_loss: 1.0023 - val_mse: 1.0023\n",
      "Epoch 70/500\n",
      "\u001b[1m436/436\u001b[0m \u001b[32m━━━━━━━━━━━━━━━━━━━━\u001b[0m\u001b[37m\u001b[0m \u001b[1m6s\u001b[0m 14ms/step - loss: 0.9997 - mse: 0.9997 - val_loss: 1.0023 - val_mse: 1.0023\n",
      "Epoch 71/500\n",
      "\u001b[1m436/436\u001b[0m \u001b[32m━━━━━━━━━━━━━━━━━━━━\u001b[0m\u001b[37m\u001b[0m \u001b[1m6s\u001b[0m 14ms/step - loss: 1.0026 - mse: 1.0026 - val_loss: 1.0024 - val_mse: 1.0024\n",
      "Epoch 72/500\n",
      "\u001b[1m436/436\u001b[0m \u001b[32m━━━━━━━━━━━━━━━━━━━━\u001b[0m\u001b[37m\u001b[0m \u001b[1m6s\u001b[0m 14ms/step - loss: 1.0022 - mse: 1.0022 - val_loss: 1.0027 - val_mse: 1.0027\n",
      "Epoch 73/500\n",
      "\u001b[1m436/436\u001b[0m \u001b[32m━━━━━━━━━━━━━━━━━━━━\u001b[0m\u001b[37m\u001b[0m \u001b[1m6s\u001b[0m 14ms/step - loss: 0.9991 - mse: 0.9991 - val_loss: 1.0023 - val_mse: 1.0023\n",
      "Epoch 74/500\n",
      "\u001b[1m436/436\u001b[0m \u001b[32m━━━━━━━━━━━━━━━━━━━━\u001b[0m\u001b[37m\u001b[0m \u001b[1m6s\u001b[0m 14ms/step - loss: 1.0012 - mse: 1.0012 - val_loss: 1.0023 - val_mse: 1.0023\n",
      "Epoch 75/500\n",
      "\u001b[1m436/436\u001b[0m \u001b[32m━━━━━━━━━━━━━━━━━━━━\u001b[0m\u001b[37m\u001b[0m \u001b[1m6s\u001b[0m 14ms/step - loss: 1.0043 - mse: 1.0043 - val_loss: 1.0023 - val_mse: 1.0023\n",
      "Epoch 76/500\n",
      "\u001b[1m436/436\u001b[0m \u001b[32m━━━━━━━━━━━━━━━━━━━━\u001b[0m\u001b[37m\u001b[0m \u001b[1m6s\u001b[0m 14ms/step - loss: 1.0039 - mse: 1.0039 - val_loss: 1.0025 - val_mse: 1.0025\n",
      "Epoch 77/500\n",
      "\u001b[1m436/436\u001b[0m \u001b[32m━━━━━━━━━━━━━━━━━━━━\u001b[0m\u001b[37m\u001b[0m \u001b[1m6s\u001b[0m 14ms/step - loss: 1.0003 - mse: 1.0003 - val_loss: 1.0024 - val_mse: 1.0024\n",
      "Epoch 78/500\n",
      "\u001b[1m436/436\u001b[0m \u001b[32m━━━━━━━━━━━━━━━━━━━━\u001b[0m\u001b[37m\u001b[0m \u001b[1m6s\u001b[0m 14ms/step - loss: 0.9990 - mse: 0.9990 - val_loss: 1.0024 - val_mse: 1.0024\n",
      "Epoch 79/500\n",
      "\u001b[1m436/436\u001b[0m \u001b[32m━━━━━━━━━━━━━━━━━━━━\u001b[0m\u001b[37m\u001b[0m \u001b[1m6s\u001b[0m 14ms/step - loss: 0.9974 - mse: 0.9974 - val_loss: 1.0024 - val_mse: 1.0024\n",
      "Epoch 80/500\n",
      "\u001b[1m436/436\u001b[0m \u001b[32m━━━━━━━━━━━━━━━━━━━━\u001b[0m\u001b[37m\u001b[0m \u001b[1m6s\u001b[0m 14ms/step - loss: 1.0016 - mse: 1.0016 - val_loss: 1.0024 - val_mse: 1.0024\n",
      "Epoch 81/500\n",
      "\u001b[1m436/436\u001b[0m \u001b[32m━━━━━━━━━━━━━━━━━━━━\u001b[0m\u001b[37m\u001b[0m \u001b[1m6s\u001b[0m 15ms/step - loss: 0.9992 - mse: 0.9992 - val_loss: 1.0024 - val_mse: 1.0024\n",
      "Epoch 82/500\n",
      "\u001b[1m436/436\u001b[0m \u001b[32m━━━━━━━━━━━━━━━━━━━━\u001b[0m\u001b[37m\u001b[0m \u001b[1m7s\u001b[0m 15ms/step - loss: 0.9985 - mse: 0.9985 - val_loss: 1.0023 - val_mse: 1.0023\n",
      "Epoch 83/500\n",
      "\u001b[1m436/436\u001b[0m \u001b[32m━━━━━━━━━━━━━━━━━━━━\u001b[0m\u001b[37m\u001b[0m \u001b[1m7s\u001b[0m 15ms/step - loss: 1.0002 - mse: 1.0002 - val_loss: 1.0023 - val_mse: 1.0023\n",
      "Epoch 84/500\n",
      "\u001b[1m436/436\u001b[0m \u001b[32m━━━━━━━━━━━━━━━━━━━━\u001b[0m\u001b[37m\u001b[0m \u001b[1m7s\u001b[0m 15ms/step - loss: 1.0029 - mse: 1.0029 - val_loss: 1.0024 - val_mse: 1.0024\n",
      "Epoch 85/500\n",
      "\u001b[1m436/436\u001b[0m \u001b[32m━━━━━━━━━━━━━━━━━━━━\u001b[0m\u001b[37m\u001b[0m \u001b[1m7s\u001b[0m 15ms/step - loss: 1.0014 - mse: 1.0014 - val_loss: 1.0023 - val_mse: 1.0023\n",
      "Epoch 86/500\n",
      "\u001b[1m436/436\u001b[0m \u001b[32m━━━━━━━━━━━━━━━━━━━━\u001b[0m\u001b[37m\u001b[0m \u001b[1m7s\u001b[0m 15ms/step - loss: 1.0011 - mse: 1.0011 - val_loss: 1.0023 - val_mse: 1.0023\n",
      "Epoch 87/500\n",
      "\u001b[1m436/436\u001b[0m \u001b[32m━━━━━━━━━━━━━━━━━━━━\u001b[0m\u001b[37m\u001b[0m \u001b[1m7s\u001b[0m 15ms/step - loss: 1.0030 - mse: 1.0030 - val_loss: 1.0023 - val_mse: 1.0023\n",
      "Epoch 88/500\n",
      "\u001b[1m436/436\u001b[0m \u001b[32m━━━━━━━━━━━━━━━━━━━━\u001b[0m\u001b[37m\u001b[0m \u001b[1m7s\u001b[0m 15ms/step - loss: 1.0027 - mse: 1.0027 - val_loss: 1.0023 - val_mse: 1.0023\n",
      "Epoch 89/500\n",
      "\u001b[1m436/436\u001b[0m \u001b[32m━━━━━━━━━━━━━━━━━━━━\u001b[0m\u001b[37m\u001b[0m \u001b[1m6s\u001b[0m 15ms/step - loss: 1.0005 - mse: 1.0005 - val_loss: 1.0024 - val_mse: 1.0024\n",
      "Epoch 90/500\n",
      "\u001b[1m436/436\u001b[0m \u001b[32m━━━━━━━━━━━━━━━━━━━━\u001b[0m\u001b[37m\u001b[0m \u001b[1m7s\u001b[0m 15ms/step - loss: 1.0020 - mse: 1.0020 - val_loss: 1.0023 - val_mse: 1.0023\n",
      "Epoch 91/500\n",
      "\u001b[1m436/436\u001b[0m \u001b[32m━━━━━━━━━━━━━━━━━━━━\u001b[0m\u001b[37m\u001b[0m \u001b[1m7s\u001b[0m 15ms/step - loss: 1.0021 - mse: 1.0021 - val_loss: 1.0024 - val_mse: 1.0024\n",
      "Epoch 92/500\n",
      "\u001b[1m436/436\u001b[0m \u001b[32m━━━━━━━━━━━━━━━━━━━━\u001b[0m\u001b[37m\u001b[0m \u001b[1m7s\u001b[0m 15ms/step - loss: 1.0029 - mse: 1.0029 - val_loss: 1.0023 - val_mse: 1.0023\n",
      "Epoch 93/500\n",
      "\u001b[1m436/436\u001b[0m \u001b[32m━━━━━━━━━━━━━━━━━━━━\u001b[0m\u001b[37m\u001b[0m \u001b[1m6s\u001b[0m 15ms/step - loss: 1.0004 - mse: 1.0004 - val_loss: 1.0023 - val_mse: 1.0023\n",
      "Epoch 94/500\n",
      "\u001b[1m436/436\u001b[0m \u001b[32m━━━━━━━━━━━━━━━━━━━━\u001b[0m\u001b[37m\u001b[0m \u001b[1m6s\u001b[0m 14ms/step - loss: 1.0030 - mse: 1.0030 - val_loss: 1.0024 - val_mse: 1.0024\n",
      "Epoch 95/500\n",
      "\u001b[1m436/436\u001b[0m \u001b[32m━━━━━━━━━━━━━━━━━━━━\u001b[0m\u001b[37m\u001b[0m \u001b[1m6s\u001b[0m 14ms/step - loss: 1.0038 - mse: 1.0038 - val_loss: 1.0024 - val_mse: 1.0024\n",
      "Epoch 96/500\n",
      "\u001b[1m436/436\u001b[0m \u001b[32m━━━━━━━━━━━━━━━━━━━━\u001b[0m\u001b[37m\u001b[0m \u001b[1m6s\u001b[0m 14ms/step - loss: 1.0036 - mse: 1.0036 - val_loss: 1.0024 - val_mse: 1.0024\n",
      "Epoch 97/500\n",
      "\u001b[1m436/436\u001b[0m \u001b[32m━━━━━━━━━━━━━━━━━━━━\u001b[0m\u001b[37m\u001b[0m \u001b[1m6s\u001b[0m 14ms/step - loss: 1.0034 - mse: 1.0034 - val_loss: 1.0023 - val_mse: 1.0023\n",
      "Epoch 98/500\n",
      "\u001b[1m436/436\u001b[0m \u001b[32m━━━━━━━━━━━━━━━━━━━━\u001b[0m\u001b[37m\u001b[0m \u001b[1m6s\u001b[0m 14ms/step - loss: 0.9999 - mse: 0.9999 - val_loss: 1.0024 - val_mse: 1.0024\n",
      "Epoch 99/500\n",
      "\u001b[1m436/436\u001b[0m \u001b[32m━━━━━━━━━━━━━━━━━━━━\u001b[0m\u001b[37m\u001b[0m \u001b[1m6s\u001b[0m 14ms/step - loss: 1.0022 - mse: 1.0022 - val_loss: 1.0024 - val_mse: 1.0024\n",
      "Epoch 100/500\n",
      "\u001b[1m436/436\u001b[0m \u001b[32m━━━━━━━━━━━━━━━━━━━━\u001b[0m\u001b[37m\u001b[0m \u001b[1m6s\u001b[0m 14ms/step - loss: 1.0016 - mse: 1.0016 - val_loss: 1.0024 - val_mse: 1.0024\n",
      "Epoch 101/500\n",
      "\u001b[1m436/436\u001b[0m \u001b[32m━━━━━━━━━━━━━━━━━━━━\u001b[0m\u001b[37m\u001b[0m \u001b[1m6s\u001b[0m 15ms/step - loss: 0.9972 - mse: 0.9972 - val_loss: 1.0023 - val_mse: 1.0023\n",
      "Epoch 102/500\n",
      "\u001b[1m436/436\u001b[0m \u001b[32m━━━━━━━━━━━━━━━━━━━━\u001b[0m\u001b[37m\u001b[0m \u001b[1m6s\u001b[0m 15ms/step - loss: 1.0032 - mse: 1.0032 - val_loss: 1.0024 - val_mse: 1.0024\n",
      "Epoch 103/500\n",
      "\u001b[1m436/436\u001b[0m \u001b[32m━━━━━━━━━━━━━━━━━━━━\u001b[0m\u001b[37m\u001b[0m \u001b[1m6s\u001b[0m 15ms/step - loss: 1.0018 - mse: 1.0018 - val_loss: 1.0024 - val_mse: 1.0024\n",
      "Epoch 104/500\n",
      "\u001b[1m436/436\u001b[0m \u001b[32m━━━━━━━━━━━━━━━━━━━━\u001b[0m\u001b[37m\u001b[0m \u001b[1m7s\u001b[0m 15ms/step - loss: 1.0023 - mse: 1.0023 - val_loss: 1.0023 - val_mse: 1.0023\n",
      "Epoch 105/500\n",
      "\u001b[1m436/436\u001b[0m \u001b[32m━━━━━━━━━━━━━━━━━━━━\u001b[0m\u001b[37m\u001b[0m \u001b[1m7s\u001b[0m 15ms/step - loss: 1.0051 - mse: 1.0051 - val_loss: 1.0023 - val_mse: 1.0023\n",
      "Epoch 106/500\n",
      "\u001b[1m436/436\u001b[0m \u001b[32m━━━━━━━━━━━━━━━━━━━━\u001b[0m\u001b[37m\u001b[0m \u001b[1m6s\u001b[0m 14ms/step - loss: 1.0015 - mse: 1.0015 - val_loss: 1.0025 - val_mse: 1.0025\n",
      "Epoch 107/500\n",
      "\u001b[1m436/436\u001b[0m \u001b[32m━━━━━━━━━━━━━━━━━━━━\u001b[0m\u001b[37m\u001b[0m \u001b[1m6s\u001b[0m 15ms/step - loss: 1.0050 - mse: 1.0050 - val_loss: 1.0024 - val_mse: 1.0024\n",
      "Epoch 108/500\n",
      "\u001b[1m436/436\u001b[0m \u001b[32m━━━━━━━━━━━━━━━━━━━━\u001b[0m\u001b[37m\u001b[0m \u001b[1m6s\u001b[0m 15ms/step - loss: 1.0000 - mse: 1.0000 - val_loss: 1.0024 - val_mse: 1.0024\n",
      "Epoch 109/500\n",
      "\u001b[1m436/436\u001b[0m \u001b[32m━━━━━━━━━━━━━━━━━━━━\u001b[0m\u001b[37m\u001b[0m \u001b[1m6s\u001b[0m 15ms/step - loss: 1.0040 - mse: 1.0040 - val_loss: 1.0024 - val_mse: 1.0024\n",
      "Epoch 110/500\n",
      "\u001b[1m436/436\u001b[0m \u001b[32m━━━━━━━━━━━━━━━━━━━━\u001b[0m\u001b[37m\u001b[0m \u001b[1m6s\u001b[0m 15ms/step - loss: 1.0012 - mse: 1.0012 - val_loss: 1.0024 - val_mse: 1.0024\n",
      "Epoch 111/500\n",
      "\u001b[1m436/436\u001b[0m \u001b[32m━━━━━━━━━━━━━━━━━━━━\u001b[0m\u001b[37m\u001b[0m \u001b[1m6s\u001b[0m 15ms/step - loss: 1.0017 - mse: 1.0017 - val_loss: 1.0023 - val_mse: 1.0023\n",
      "Epoch 112/500\n",
      "\u001b[1m436/436\u001b[0m \u001b[32m━━━━━━━━━━━━━━━━━━━━\u001b[0m\u001b[37m\u001b[0m \u001b[1m6s\u001b[0m 15ms/step - loss: 1.0034 - mse: 1.0034 - val_loss: 1.0023 - val_mse: 1.0023\n",
      "Epoch 113/500\n",
      "\u001b[1m436/436\u001b[0m \u001b[32m━━━━━━━━━━━━━━━━━━━━\u001b[0m\u001b[37m\u001b[0m \u001b[1m6s\u001b[0m 15ms/step - loss: 1.0016 - mse: 1.0016 - val_loss: 1.0023 - val_mse: 1.0023\n",
      "Epoch 114/500\n",
      "\u001b[1m436/436\u001b[0m \u001b[32m━━━━━━━━━━━━━━━━━━━━\u001b[0m\u001b[37m\u001b[0m \u001b[1m6s\u001b[0m 15ms/step - loss: 1.0009 - mse: 1.0009 - val_loss: 1.0023 - val_mse: 1.0023\n",
      "Epoch 115/500\n",
      "\u001b[1m436/436\u001b[0m \u001b[32m━━━━━━━━━━━━━━━━━━━━\u001b[0m\u001b[37m\u001b[0m \u001b[1m6s\u001b[0m 15ms/step - loss: 1.0015 - mse: 1.0015 - val_loss: 1.0023 - val_mse: 1.0023\n",
      "Epoch 116/500\n",
      "\u001b[1m436/436\u001b[0m \u001b[32m━━━━━━━━━━━━━━━━━━━━\u001b[0m\u001b[37m\u001b[0m \u001b[1m6s\u001b[0m 15ms/step - loss: 1.0000 - mse: 1.0000 - val_loss: 1.0024 - val_mse: 1.0024\n",
      "Epoch 117/500\n",
      "\u001b[1m436/436\u001b[0m \u001b[32m━━━━━━━━━━━━━━━━━━━━\u001b[0m\u001b[37m\u001b[0m \u001b[1m6s\u001b[0m 14ms/step - loss: 0.9989 - mse: 0.9989 - val_loss: 1.0023 - val_mse: 1.0023\n",
      "Epoch 118/500\n",
      "\u001b[1m436/436\u001b[0m \u001b[32m━━━━━━━━━━━━━━━━━━━━\u001b[0m\u001b[37m\u001b[0m \u001b[1m7s\u001b[0m 15ms/step - loss: 1.0032 - mse: 1.0032 - val_loss: 1.0024 - val_mse: 1.0024\n",
      "Epoch 119/500\n",
      "\u001b[1m436/436\u001b[0m \u001b[32m━━━━━━━━━━━━━━━━━━━━\u001b[0m\u001b[37m\u001b[0m \u001b[1m7s\u001b[0m 16ms/step - loss: 1.0025 - mse: 1.0025 - val_loss: 1.0024 - val_mse: 1.0024\n",
      "Epoch 120/500\n",
      "\u001b[1m436/436\u001b[0m \u001b[32m━━━━━━━━━━━━━━━━━━━━\u001b[0m\u001b[37m\u001b[0m \u001b[1m7s\u001b[0m 16ms/step - loss: 1.0012 - mse: 1.0012 - val_loss: 1.0023 - val_mse: 1.0023\n",
      "Epoch 121/500\n",
      "\u001b[1m436/436\u001b[0m \u001b[32m━━━━━━━━━━━━━━━━━━━━\u001b[0m\u001b[37m\u001b[0m \u001b[1m8s\u001b[0m 17ms/step - loss: 1.0037 - mse: 1.0037 - val_loss: 1.0024 - val_mse: 1.0024\n",
      "Epoch 122/500\n",
      "\u001b[1m436/436\u001b[0m \u001b[32m━━━━━━━━━━━━━━━━━━━━\u001b[0m\u001b[37m\u001b[0m \u001b[1m7s\u001b[0m 16ms/step - loss: 0.9984 - mse: 0.9984 - val_loss: 1.0024 - val_mse: 1.0024\n",
      "Epoch 123/500\n",
      "\u001b[1m436/436\u001b[0m \u001b[32m━━━━━━━━━━━━━━━━━━━━\u001b[0m\u001b[37m\u001b[0m \u001b[1m7s\u001b[0m 16ms/step - loss: 1.0010 - mse: 1.0010 - val_loss: 1.0024 - val_mse: 1.0024\n",
      "Epoch 124/500\n",
      "\u001b[1m436/436\u001b[0m \u001b[32m━━━━━━━━━━━━━━━━━━━━\u001b[0m\u001b[37m\u001b[0m \u001b[1m8s\u001b[0m 18ms/step - loss: 1.0019 - mse: 1.0019 - val_loss: 1.0024 - val_mse: 1.0024\n",
      "Epoch 125/500\n",
      "\u001b[1m436/436\u001b[0m \u001b[32m━━━━━━━━━━━━━━━━━━━━\u001b[0m\u001b[37m\u001b[0m \u001b[1m9s\u001b[0m 21ms/step - loss: 1.0069 - mse: 1.0069 - val_loss: 1.0024 - val_mse: 1.0024\n",
      "Epoch 126/500\n",
      "\u001b[1m436/436\u001b[0m \u001b[32m━━━━━━━━━━━━━━━━━━━━\u001b[0m\u001b[37m\u001b[0m \u001b[1m9s\u001b[0m 20ms/step - loss: 1.0028 - mse: 1.0028 - val_loss: 1.0024 - val_mse: 1.0024\n",
      "Epoch 127/500\n",
      "\u001b[1m436/436\u001b[0m \u001b[32m━━━━━━━━━━━━━━━━━━━━\u001b[0m\u001b[37m\u001b[0m \u001b[1m9s\u001b[0m 21ms/step - loss: 1.0011 - mse: 1.0011 - val_loss: 1.0023 - val_mse: 1.0023\n",
      "Epoch 128/500\n",
      "\u001b[1m436/436\u001b[0m \u001b[32m━━━━━━━━━━━━━━━━━━━━\u001b[0m\u001b[37m\u001b[0m \u001b[1m9s\u001b[0m 21ms/step - loss: 1.0028 - mse: 1.0028 - val_loss: 1.0023 - val_mse: 1.0023\n",
      "Epoch 129/500\n",
      "\u001b[1m436/436\u001b[0m \u001b[32m━━━━━━━━━━━━━━━━━━━━\u001b[0m\u001b[37m\u001b[0m \u001b[1m10s\u001b[0m 24ms/step - loss: 1.0005 - mse: 1.0005 - val_loss: 1.0024 - val_mse: 1.0024\n",
      "Epoch 130/500\n",
      "\u001b[1m436/436\u001b[0m \u001b[32m━━━━━━━━━━━━━━━━━━━━\u001b[0m\u001b[37m\u001b[0m \u001b[1m11s\u001b[0m 26ms/step - loss: 1.0038 - mse: 1.0038 - val_loss: 1.0024 - val_mse: 1.0024\n",
      "Epoch 131/500\n",
      "\u001b[1m436/436\u001b[0m \u001b[32m━━━━━━━━━━━━━━━━━━━━\u001b[0m\u001b[37m\u001b[0m \u001b[1m10s\u001b[0m 23ms/step - loss: 1.0015 - mse: 1.0015 - val_loss: 1.0023 - val_mse: 1.0023\n",
      "Epoch 132/500\n",
      "\u001b[1m436/436\u001b[0m \u001b[32m━━━━━━━━━━━━━━━━━━━━\u001b[0m\u001b[37m\u001b[0m \u001b[1m9s\u001b[0m 21ms/step - loss: 1.0009 - mse: 1.0009 - val_loss: 1.0024 - val_mse: 1.0024\n",
      "Epoch 133/500\n",
      "\u001b[1m436/436\u001b[0m \u001b[32m━━━━━━━━━━━━━━━━━━━━\u001b[0m\u001b[37m\u001b[0m \u001b[1m10s\u001b[0m 22ms/step - loss: 1.0021 - mse: 1.0021 - val_loss: 1.0024 - val_mse: 1.0024\n",
      "Epoch 134/500\n",
      "\u001b[1m436/436\u001b[0m \u001b[32m━━━━━━━━━━━━━━━━━━━━\u001b[0m\u001b[37m\u001b[0m \u001b[1m10s\u001b[0m 22ms/step - loss: 0.9949 - mse: 0.9949 - val_loss: 1.0024 - val_mse: 1.0024\n",
      "Epoch 135/500\n",
      "\u001b[1m436/436\u001b[0m \u001b[32m━━━━━━━━━━━━━━━━━━━━\u001b[0m\u001b[37m\u001b[0m \u001b[1m7s\u001b[0m 17ms/step - loss: 1.0048 - mse: 1.0048 - val_loss: 1.0024 - val_mse: 1.0024\n",
      "Epoch 136/500\n",
      "\u001b[1m436/436\u001b[0m \u001b[32m━━━━━━━━━━━━━━━━━━━━\u001b[0m\u001b[37m\u001b[0m \u001b[1m7s\u001b[0m 16ms/step - loss: 0.9998 - mse: 0.9998 - val_loss: 1.0023 - val_mse: 1.0023\n",
      "Epoch 137/500\n",
      "\u001b[1m436/436\u001b[0m \u001b[32m━━━━━━━━━━━━━━━━━━━━\u001b[0m\u001b[37m\u001b[0m \u001b[1m8s\u001b[0m 17ms/step - loss: 1.0045 - mse: 1.0045 - val_loss: 1.0023 - val_mse: 1.0023\n",
      "Epoch 138/500\n",
      "\u001b[1m436/436\u001b[0m \u001b[32m━━━━━━━━━━━━━━━━━━━━\u001b[0m\u001b[37m\u001b[0m \u001b[1m8s\u001b[0m 18ms/step - loss: 1.0016 - mse: 1.0016 - val_loss: 1.0023 - val_mse: 1.0023\n",
      "Epoch 139/500\n",
      "\u001b[1m436/436\u001b[0m \u001b[32m━━━━━━━━━━━━━━━━━━━━\u001b[0m\u001b[37m\u001b[0m \u001b[1m7s\u001b[0m 16ms/step - loss: 1.0047 - mse: 1.0047 - val_loss: 1.0024 - val_mse: 1.0024\n",
      "Epoch 140/500\n",
      "\u001b[1m436/436\u001b[0m \u001b[32m━━━━━━━━━━━━━━━━━━━━\u001b[0m\u001b[37m\u001b[0m \u001b[1m7s\u001b[0m 16ms/step - loss: 1.0054 - mse: 1.0054 - val_loss: 1.0024 - val_mse: 1.0024\n",
      "Epoch 141/500\n",
      "\u001b[1m436/436\u001b[0m \u001b[32m━━━━━━━━━━━━━━━━━━━━\u001b[0m\u001b[37m\u001b[0m \u001b[1m7s\u001b[0m 17ms/step - loss: 1.0003 - mse: 1.0003 - val_loss: 1.0023 - val_mse: 1.0023\n",
      "Epoch 142/500\n",
      "\u001b[1m436/436\u001b[0m \u001b[32m━━━━━━━━━━━━━━━━━━━━\u001b[0m\u001b[37m\u001b[0m \u001b[1m7s\u001b[0m 16ms/step - loss: 1.0036 - mse: 1.0036 - val_loss: 1.0025 - val_mse: 1.0025\n",
      "Epoch 143/500\n",
      "\u001b[1m436/436\u001b[0m \u001b[32m━━━━━━━━━━━━━━━━━━━━\u001b[0m\u001b[37m\u001b[0m \u001b[1m7s\u001b[0m 16ms/step - loss: 1.0049 - mse: 1.0049 - val_loss: 1.0024 - val_mse: 1.0024\n",
      "Epoch 144/500\n",
      "\u001b[1m436/436\u001b[0m \u001b[32m━━━━━━━━━━━━━━━━━━━━\u001b[0m\u001b[37m\u001b[0m \u001b[1m7s\u001b[0m 16ms/step - loss: 1.0000 - mse: 1.0000 - val_loss: 1.0023 - val_mse: 1.0023\n",
      "Epoch 145/500\n",
      "\u001b[1m436/436\u001b[0m \u001b[32m━━━━━━━━━━━━━━━━━━━━\u001b[0m\u001b[37m\u001b[0m \u001b[1m7s\u001b[0m 16ms/step - loss: 0.9991 - mse: 0.9991 - val_loss: 1.0024 - val_mse: 1.0024\n",
      "Epoch 146/500\n",
      "\u001b[1m436/436\u001b[0m \u001b[32m━━━━━━━━━━━━━━━━━━━━\u001b[0m\u001b[37m\u001b[0m \u001b[1m7s\u001b[0m 16ms/step - loss: 1.0026 - mse: 1.0026 - val_loss: 1.0024 - val_mse: 1.0024\n",
      "Epoch 147/500\n",
      "\u001b[1m436/436\u001b[0m \u001b[32m━━━━━━━━━━━━━━━━━━━━\u001b[0m\u001b[37m\u001b[0m \u001b[1m7s\u001b[0m 16ms/step - loss: 0.9991 - mse: 0.9991 - val_loss: 1.0024 - val_mse: 1.0024\n",
      "Epoch 148/500\n",
      "\u001b[1m436/436\u001b[0m \u001b[32m━━━━━━━━━━━━━━━━━━━━\u001b[0m\u001b[37m\u001b[0m \u001b[1m7s\u001b[0m 15ms/step - loss: 1.0035 - mse: 1.0035 - val_loss: 1.0024 - val_mse: 1.0024\n",
      "Epoch 149/500\n",
      "\u001b[1m436/436\u001b[0m \u001b[32m━━━━━━━━━━━━━━━━━━━━\u001b[0m\u001b[37m\u001b[0m \u001b[1m7s\u001b[0m 15ms/step - loss: 1.0011 - mse: 1.0011 - val_loss: 1.0024 - val_mse: 1.0024\n",
      "Epoch 150/500\n",
      "\u001b[1m436/436\u001b[0m \u001b[32m━━━━━━━━━━━━━━━━━━━━\u001b[0m\u001b[37m\u001b[0m \u001b[1m6s\u001b[0m 15ms/step - loss: 1.0010 - mse: 1.0010 - val_loss: 1.0024 - val_mse: 1.0024\n",
      "Epoch 151/500\n",
      "\u001b[1m436/436\u001b[0m \u001b[32m━━━━━━━━━━━━━━━━━━━━\u001b[0m\u001b[37m\u001b[0m \u001b[1m7s\u001b[0m 15ms/step - loss: 1.0020 - mse: 1.0020 - val_loss: 1.0023 - val_mse: 1.0023\n",
      "Epoch 152/500\n",
      "\u001b[1m436/436\u001b[0m \u001b[32m━━━━━━━━━━━━━━━━━━━━\u001b[0m\u001b[37m\u001b[0m \u001b[1m6s\u001b[0m 15ms/step - loss: 1.0005 - mse: 1.0005 - val_loss: 1.0024 - val_mse: 1.0024\n",
      "Epoch 153/500\n",
      "\u001b[1m436/436\u001b[0m \u001b[32m━━━━━━━━━━━━━━━━━━━━\u001b[0m\u001b[37m\u001b[0m \u001b[1m7s\u001b[0m 15ms/step - loss: 1.0014 - mse: 1.0014 - val_loss: 1.0024 - val_mse: 1.0024\n",
      "Epoch 154/500\n",
      "\u001b[1m436/436\u001b[0m \u001b[32m━━━━━━━━━━━━━━━━━━━━\u001b[0m\u001b[37m\u001b[0m \u001b[1m7s\u001b[0m 15ms/step - loss: 0.9997 - mse: 0.9997 - val_loss: 1.0024 - val_mse: 1.0024\n",
      "Epoch 155/500\n",
      "\u001b[1m436/436\u001b[0m \u001b[32m━━━━━━━━━━━━━━━━━━━━\u001b[0m\u001b[37m\u001b[0m \u001b[1m7s\u001b[0m 17ms/step - loss: 0.9998 - mse: 0.9998 - val_loss: 1.0023 - val_mse: 1.0023\n",
      "Epoch 156/500\n",
      "\u001b[1m436/436\u001b[0m \u001b[32m━━━━━━━━━━━━━━━━━━━━\u001b[0m\u001b[37m\u001b[0m \u001b[1m7s\u001b[0m 15ms/step - loss: 1.0023 - mse: 1.0023 - val_loss: 1.0024 - val_mse: 1.0024\n",
      "Epoch 157/500\n",
      "\u001b[1m436/436\u001b[0m \u001b[32m━━━━━━━━━━━━━━━━━━━━\u001b[0m\u001b[37m\u001b[0m \u001b[1m7s\u001b[0m 15ms/step - loss: 0.9991 - mse: 0.9991 - val_loss: 1.0024 - val_mse: 1.0024\n",
      "Epoch 158/500\n",
      "\u001b[1m436/436\u001b[0m \u001b[32m━━━━━━━━━━━━━━━━━━━━\u001b[0m\u001b[37m\u001b[0m \u001b[1m7s\u001b[0m 15ms/step - loss: 0.9996 - mse: 0.9996 - val_loss: 1.0024 - val_mse: 1.0024\n",
      "Epoch 159/500\n",
      "\u001b[1m436/436\u001b[0m \u001b[32m━━━━━━━━━━━━━━━━━━━━\u001b[0m\u001b[37m\u001b[0m \u001b[1m7s\u001b[0m 15ms/step - loss: 1.0049 - mse: 1.0049 - val_loss: 1.0025 - val_mse: 1.0025\n",
      "Epoch 160/500\n",
      "\u001b[1m425/436\u001b[0m \u001b[32m━━━━━━━━━━━━━━━━━━━\u001b[0m\u001b[37m━\u001b[0m \u001b[1m0s\u001b[0m 14ms/step - loss: 1.0024 - mse: 1.0024"
     ]
    }
   ],
   "source": [
    "# Train the model\n",
    "history = model.fit(X_train, Y_train, epochs=500, batch_size=64, validation_data=(X_val, Y_val))"
   ]
  },
  {
   "cell_type": "code",
   "execution_count": null,
   "id": "7e32aa59-c63e-4834-950f-cdeea5d65c2b",
   "metadata": {},
   "outputs": [],
   "source": [
    "# Evaluate the model on the validation set\n",
    "val_loss, val_mse = model.evaluate(X_val, Y_val)\n",
    "print(f\"Validation Loss: {val_loss}\")\n",
    "print(f\"Validation MSE: {val_mse}\")"
   ]
  },
  {
   "cell_type": "code",
   "execution_count": 27,
   "id": "8d0c5d4d-f358-47bc-9a54-12b61e17d9fa",
   "metadata": {},
   "outputs": [],
   "source": [
    "import matplotlib.pyplot as plt"
   ]
  },
  {
   "cell_type": "code",
   "execution_count": null,
   "id": "b56a2656-0a68-41f6-ab36-b43201751167",
   "metadata": {},
   "outputs": [],
   "source": [
    "# Plot training & validation loss values\n",
    "plt.figure(figsize=(10, 5))\n",
    "plt.plot(history.history['loss'], label='Train Loss')\n",
    "plt.plot(history.history['val_loss'], label='Validation Loss')\n",
    "plt.title('Model Loss')\n",
    "plt.ylabel('Loss')\n",
    "plt.xlabel('Epoch')\n",
    "plt.legend(loc='upper right')\n",
    "plt.grid(True)\n",
    "plt.show()"
   ]
  },
  {
   "cell_type": "code",
   "execution_count": null,
   "id": "924389cb-7e82-4c73-afc1-392d29a1e75a",
   "metadata": {},
   "outputs": [],
   "source": []
  },
  {
   "cell_type": "code",
   "execution_count": null,
   "id": "c6cabdce-7444-4210-a239-302df28464d5",
   "metadata": {},
   "outputs": [],
   "source": []
  },
  {
   "cell_type": "code",
   "execution_count": null,
   "id": "5433af1d-a3da-4d93-9093-b14654cc952f",
   "metadata": {},
   "outputs": [],
   "source": []
  },
  {
   "cell_type": "code",
   "execution_count": null,
   "id": "61a8e9d4-1ffe-43a3-baf9-668181e9065c",
   "metadata": {},
   "outputs": [],
   "source": []
  },
  {
   "cell_type": "code",
   "execution_count": null,
   "id": "7f7f7481-6efc-40c2-9a63-e123a65190e8",
   "metadata": {},
   "outputs": [],
   "source": []
  },
  {
   "cell_type": "code",
   "execution_count": null,
   "id": "8b210d3e-f8bd-40e3-b3d1-76e2a9425d1e",
   "metadata": {},
   "outputs": [],
   "source": []
  },
  {
   "cell_type": "code",
   "execution_count": null,
   "id": "a05f9500-fad6-4002-a50f-35ffcdd4d2a4",
   "metadata": {},
   "outputs": [],
   "source": []
  },
  {
   "cell_type": "code",
   "execution_count": null,
   "id": "9c793bb0-36b8-4dfe-9a35-94077e6a2f60",
   "metadata": {},
   "outputs": [],
   "source": []
  },
  {
   "cell_type": "code",
   "execution_count": null,
   "id": "f1ce7241-99ca-4184-9685-99540fd0b572",
   "metadata": {},
   "outputs": [],
   "source": []
  },
  {
   "cell_type": "code",
   "execution_count": null,
   "id": "9d121d6a-a436-46ba-921f-4d6ca3cc12a5",
   "metadata": {},
   "outputs": [],
   "source": []
  }
 ],
 "metadata": {
  "kernelspec": {
   "display_name": "Python 3 (ipykernel)",
   "language": "python",
   "name": "python3"
  },
  "language_info": {
   "codemirror_mode": {
    "name": "ipython",
    "version": 3
   },
   "file_extension": ".py",
   "mimetype": "text/x-python",
   "name": "python",
   "nbconvert_exporter": "python",
   "pygments_lexer": "ipython3",
   "version": "3.10.2"
  }
 },
 "nbformat": 4,
 "nbformat_minor": 5
}
