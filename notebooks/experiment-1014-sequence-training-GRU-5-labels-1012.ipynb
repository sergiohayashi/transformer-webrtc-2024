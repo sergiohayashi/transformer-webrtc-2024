{
 "cells": [
  {
   "cell_type": "code",
   "execution_count": 1,
   "id": "36c6b36f-d815-4815-87b4-781233203c54",
   "metadata": {},
   "outputs": [],
   "source": [
    "import os\n",
    "from pathlib import Path\n",
    "import pickle\n",
    "import numpy as np\n",
    "import pandas as pd\n",
    "import tensorflow as tf"
   ]
  },
  {
   "cell_type": "code",
   "execution_count": 2,
   "id": "b0c837e5-9187-4067-aca3-f7fdbc72d8aa",
   "metadata": {},
   "outputs": [],
   "source": [
    "def load_data(filename):\n",
    "    with open(filename, 'rb') as file:\n",
    "        return pickle.load(file)"
   ]
  },
  {
   "cell_type": "code",
   "execution_count": 3,
   "id": "e42d9e52-a659-4c98-b7f5-bd5e33a26325",
   "metadata": {},
   "outputs": [],
   "source": [
    "data_root = r\"C:/Users/hayashi/doutorado/mac6958--dados-redes/webrtc\"\n"
   ]
  },
  {
   "cell_type": "code",
   "execution_count": 4,
   "id": "365294d9-9d9a-4141-8aaf-ba450ea5f974",
   "metadata": {},
   "outputs": [],
   "source": [
    "file_path = Path(data_root, 'data/processed/facial-1012-sequential.pkl')"
   ]
  },
  {
   "cell_type": "code",
   "execution_count": 5,
   "id": "9627749b-e6c2-4529-8e48-afd3370c114c",
   "metadata": {},
   "outputs": [],
   "source": [
    "data = load_data(file_path)"
   ]
  },
  {
   "cell_type": "code",
   "execution_count": 6,
   "id": "82d4860e-5b12-4a6d-8850-5678dcea60d9",
   "metadata": {},
   "outputs": [],
   "source": [
    "X,Y = data"
   ]
  },
  {
   "cell_type": "code",
   "execution_count": 7,
   "id": "d76fcd76-0304-4de3-8d10-38bbf04f8c7b",
   "metadata": {},
   "outputs": [
    {
     "data": {
      "text/plain": [
       "((34880, 30, 323), (34880, 5))"
      ]
     },
     "execution_count": 7,
     "metadata": {},
     "output_type": "execute_result"
    }
   ],
   "source": [
    "X.shape, Y.shape"
   ]
  },
  {
   "cell_type": "markdown",
   "id": "14c72276-5682-4118-a3ed-346439053b19",
   "metadata": {},
   "source": [
    "'user_id': -1.647508942095828,\n",
    "'test_condition': 0.4629100498862757,\n",
    "'delay': 1.0690449676496976,\n",
    "'jitter': 1.224744871391589,\n",
    "'packet_loss_rate': 0.0"
   ]
  },
  {
   "cell_type": "code",
   "execution_count": null,
   "id": "1c2def91-577d-4601-a5df-e874db739eec",
   "metadata": {},
   "outputs": [],
   "source": []
  },
  {
   "cell_type": "code",
   "execution_count": null,
   "id": "598d197c-1870-43b8-98dd-93db94e17595",
   "metadata": {},
   "outputs": [],
   "source": []
  },
  {
   "cell_type": "code",
   "execution_count": 8,
   "id": "11c5c3f5-4a31-4e3e-a042-8d51127d2496",
   "metadata": {},
   "outputs": [],
   "source": [
    "import tensorflow as tf\n",
    "from tensorflow.keras.models import Sequential\n",
    "from tensorflow.keras.layers import GRU, Dense, Dropout\n",
    "from tensorflow.keras.optimizers import Adam\n",
    "from sklearn.model_selection import train_test_split"
   ]
  },
  {
   "cell_type": "code",
   "execution_count": 9,
   "id": "4830b184-36ab-4a1f-b106-721e8326903e",
   "metadata": {},
   "outputs": [],
   "source": [
    "# Split the data into training and validation sets\n",
    "X_train, X_val, Y_train, Y_val = train_test_split(X, Y, test_size=0.2, random_state=42)"
   ]
  },
  {
   "cell_type": "code",
   "execution_count": 10,
   "id": "15e593a7-384c-4fb5-9d2a-f59fefba7ff5",
   "metadata": {},
   "outputs": [
    {
     "name": "stdout",
     "output_type": "stream",
     "text": [
      "0 [-1.64750894 -1.47408695 -1.30066495 -1.12724296 -0.95382097 -0.78039897\n",
      " -0.60697698 -0.43355498 -0.26013299 -0.086711    0.086711    0.26013299\n",
      "  0.43355498  0.60697698  0.78039897  0.95382097  1.12724296  1.30066495\n",
      "  1.47408695  1.64750894]\n",
      "1 [-1.62018517 -1.38873015 -1.15727512 -0.9258201  -0.69436507 -0.46291005\n",
      " -0.23145502  0.          0.23145502  0.46291005  0.69436507  0.9258201\n",
      "  1.15727512  1.38873015  1.62018517]\n",
      "2 [-1.60356745 -0.26726124  1.06904497]\n",
      "3 [-0.81649658  1.22474487]\n",
      "4 [-1.22474487  0.          1.22474487]\n"
     ]
    }
   ],
   "source": [
    "for i in range(Y_train.shape[1]):\n",
    "    print(i, np.unique(Y_train[:,i]))"
   ]
  },
  {
   "cell_type": "code",
   "execution_count": 11,
   "id": "eef5d05d-d9a8-4238-80d6-a3e2dd9f0835",
   "metadata": {},
   "outputs": [
    {
     "name": "stdout",
     "output_type": "stream",
     "text": [
      "0 [-1.64750894 -1.47408695 -1.30066495 -1.12724296 -0.95382097 -0.78039897\n",
      " -0.60697698 -0.43355498 -0.26013299 -0.086711    0.086711    0.26013299\n",
      "  0.43355498  0.60697698  0.78039897  0.95382097  1.12724296  1.30066495\n",
      "  1.47408695  1.64750894]\n",
      "1 [-1.62018517 -1.38873015 -1.15727512 -0.9258201  -0.69436507 -0.46291005\n",
      " -0.23145502  0.          0.23145502  0.46291005  0.69436507  0.9258201\n",
      "  1.15727512  1.38873015  1.62018517]\n",
      "2 [-1.60356745 -0.26726124  1.06904497]\n",
      "3 [-0.81649658  1.22474487]\n",
      "4 [-1.22474487  0.          1.22474487]\n"
     ]
    }
   ],
   "source": [
    "for i in range(Y_val.shape[1]):\n",
    "    print(i, np.unique(Y_val[:,i]))"
   ]
  },
  {
   "cell_type": "code",
   "execution_count": null,
   "id": "5274f588-abc7-4b32-8847-9e03a49f5e5c",
   "metadata": {},
   "outputs": [],
   "source": []
  },
  {
   "cell_type": "code",
   "execution_count": null,
   "id": "2e10ec8c-eaba-4e17-8904-ce7f73fc2c62",
   "metadata": {},
   "outputs": [],
   "source": []
  },
  {
   "cell_type": "code",
   "execution_count": 16,
   "id": "b0c1b842-2d71-4d7d-8b15-7e3ef2db3833",
   "metadata": {},
   "outputs": [],
   "source": [
    "# Build the model\n",
    "model = Sequential([\n",
    "    GRU(50, input_shape=(X_train.shape[1], X_train.shape[2]), return_sequences=True),\n",
    "    Dropout(0.2),\n",
    "    GRU(50, return_sequences=False),\n",
    "    Dropout(0.2),\n",
    "    Dense(5)  # Linear activation for regression\n",
    "])"
   ]
  },
  {
   "cell_type": "code",
   "execution_count": 17,
   "id": "2e9bfac4-f73e-4299-b10b-a5f33414c0ed",
   "metadata": {},
   "outputs": [],
   "source": [
    "# Compile the model\n",
    "model.compile(optimizer=Adam(learning_rate=0.001), loss='mean_squared_error', metrics=['mse'])"
   ]
  },
  {
   "cell_type": "code",
   "execution_count": 18,
   "id": "67440498-36b0-457a-aa5a-6460ea3fd673",
   "metadata": {},
   "outputs": [
    {
     "data": {
      "text/html": [
       "<pre style=\"white-space:pre;overflow-x:auto;line-height:normal;font-family:Menlo,'DejaVu Sans Mono',consolas,'Courier New',monospace\"><span style=\"font-weight: bold\">Model: \"sequential_1\"</span>\n",
       "</pre>\n"
      ],
      "text/plain": [
       "\u001b[1mModel: \"sequential_1\"\u001b[0m\n"
      ]
     },
     "metadata": {},
     "output_type": "display_data"
    },
    {
     "data": {
      "text/html": [
       "<pre style=\"white-space:pre;overflow-x:auto;line-height:normal;font-family:Menlo,'DejaVu Sans Mono',consolas,'Courier New',monospace\">┏━━━━━━━━━━━━━━━━━━━━━━━━━━━━━━━━━━━━━━┳━━━━━━━━━━━━━━━━━━━━━━━━━━━━━┳━━━━━━━━━━━━━━━━━┓\n",
       "┃<span style=\"font-weight: bold\"> Layer (type)                         </span>┃<span style=\"font-weight: bold\"> Output Shape                </span>┃<span style=\"font-weight: bold\">         Param # </span>┃\n",
       "┡━━━━━━━━━━━━━━━━━━━━━━━━━━━━━━━━━━━━━━╇━━━━━━━━━━━━━━━━━━━━━━━━━━━━━╇━━━━━━━━━━━━━━━━━┩\n",
       "│ gru_2 (<span style=\"color: #0087ff; text-decoration-color: #0087ff\">GRU</span>)                          │ (<span style=\"color: #00d7ff; text-decoration-color: #00d7ff\">None</span>, <span style=\"color: #00af00; text-decoration-color: #00af00\">30</span>, <span style=\"color: #00af00; text-decoration-color: #00af00\">50</span>)              │          <span style=\"color: #00af00; text-decoration-color: #00af00\">56,250</span> │\n",
       "├──────────────────────────────────────┼─────────────────────────────┼─────────────────┤\n",
       "│ dropout_2 (<span style=\"color: #0087ff; text-decoration-color: #0087ff\">Dropout</span>)                  │ (<span style=\"color: #00d7ff; text-decoration-color: #00d7ff\">None</span>, <span style=\"color: #00af00; text-decoration-color: #00af00\">30</span>, <span style=\"color: #00af00; text-decoration-color: #00af00\">50</span>)              │               <span style=\"color: #00af00; text-decoration-color: #00af00\">0</span> │\n",
       "├──────────────────────────────────────┼─────────────────────────────┼─────────────────┤\n",
       "│ gru_3 (<span style=\"color: #0087ff; text-decoration-color: #0087ff\">GRU</span>)                          │ (<span style=\"color: #00d7ff; text-decoration-color: #00d7ff\">None</span>, <span style=\"color: #00af00; text-decoration-color: #00af00\">50</span>)                  │          <span style=\"color: #00af00; text-decoration-color: #00af00\">15,300</span> │\n",
       "├──────────────────────────────────────┼─────────────────────────────┼─────────────────┤\n",
       "│ dropout_3 (<span style=\"color: #0087ff; text-decoration-color: #0087ff\">Dropout</span>)                  │ (<span style=\"color: #00d7ff; text-decoration-color: #00d7ff\">None</span>, <span style=\"color: #00af00; text-decoration-color: #00af00\">50</span>)                  │               <span style=\"color: #00af00; text-decoration-color: #00af00\">0</span> │\n",
       "├──────────────────────────────────────┼─────────────────────────────┼─────────────────┤\n",
       "│ dense_1 (<span style=\"color: #0087ff; text-decoration-color: #0087ff\">Dense</span>)                      │ (<span style=\"color: #00d7ff; text-decoration-color: #00d7ff\">None</span>, <span style=\"color: #00af00; text-decoration-color: #00af00\">5</span>)                   │             <span style=\"color: #00af00; text-decoration-color: #00af00\">255</span> │\n",
       "└──────────────────────────────────────┴─────────────────────────────┴─────────────────┘\n",
       "</pre>\n"
      ],
      "text/plain": [
       "┏━━━━━━━━━━━━━━━━━━━━━━━━━━━━━━━━━━━━━━┳━━━━━━━━━━━━━━━━━━━━━━━━━━━━━┳━━━━━━━━━━━━━━━━━┓\n",
       "┃\u001b[1m \u001b[0m\u001b[1mLayer (type)                        \u001b[0m\u001b[1m \u001b[0m┃\u001b[1m \u001b[0m\u001b[1mOutput Shape               \u001b[0m\u001b[1m \u001b[0m┃\u001b[1m \u001b[0m\u001b[1m        Param #\u001b[0m\u001b[1m \u001b[0m┃\n",
       "┡━━━━━━━━━━━━━━━━━━━━━━━━━━━━━━━━━━━━━━╇━━━━━━━━━━━━━━━━━━━━━━━━━━━━━╇━━━━━━━━━━━━━━━━━┩\n",
       "│ gru_2 (\u001b[38;5;33mGRU\u001b[0m)                          │ (\u001b[38;5;45mNone\u001b[0m, \u001b[38;5;34m30\u001b[0m, \u001b[38;5;34m50\u001b[0m)              │          \u001b[38;5;34m56,250\u001b[0m │\n",
       "├──────────────────────────────────────┼─────────────────────────────┼─────────────────┤\n",
       "│ dropout_2 (\u001b[38;5;33mDropout\u001b[0m)                  │ (\u001b[38;5;45mNone\u001b[0m, \u001b[38;5;34m30\u001b[0m, \u001b[38;5;34m50\u001b[0m)              │               \u001b[38;5;34m0\u001b[0m │\n",
       "├──────────────────────────────────────┼─────────────────────────────┼─────────────────┤\n",
       "│ gru_3 (\u001b[38;5;33mGRU\u001b[0m)                          │ (\u001b[38;5;45mNone\u001b[0m, \u001b[38;5;34m50\u001b[0m)                  │          \u001b[38;5;34m15,300\u001b[0m │\n",
       "├──────────────────────────────────────┼─────────────────────────────┼─────────────────┤\n",
       "│ dropout_3 (\u001b[38;5;33mDropout\u001b[0m)                  │ (\u001b[38;5;45mNone\u001b[0m, \u001b[38;5;34m50\u001b[0m)                  │               \u001b[38;5;34m0\u001b[0m │\n",
       "├──────────────────────────────────────┼─────────────────────────────┼─────────────────┤\n",
       "│ dense_1 (\u001b[38;5;33mDense\u001b[0m)                      │ (\u001b[38;5;45mNone\u001b[0m, \u001b[38;5;34m5\u001b[0m)                   │             \u001b[38;5;34m255\u001b[0m │\n",
       "└──────────────────────────────────────┴─────────────────────────────┴─────────────────┘\n"
      ]
     },
     "metadata": {},
     "output_type": "display_data"
    },
    {
     "data": {
      "text/html": [
       "<pre style=\"white-space:pre;overflow-x:auto;line-height:normal;font-family:Menlo,'DejaVu Sans Mono',consolas,'Courier New',monospace\"><span style=\"font-weight: bold\"> Total params: </span><span style=\"color: #00af00; text-decoration-color: #00af00\">71,805</span> (280.49 KB)\n",
       "</pre>\n"
      ],
      "text/plain": [
       "\u001b[1m Total params: \u001b[0m\u001b[38;5;34m71,805\u001b[0m (280.49 KB)\n"
      ]
     },
     "metadata": {},
     "output_type": "display_data"
    },
    {
     "data": {
      "text/html": [
       "<pre style=\"white-space:pre;overflow-x:auto;line-height:normal;font-family:Menlo,'DejaVu Sans Mono',consolas,'Courier New',monospace\"><span style=\"font-weight: bold\"> Trainable params: </span><span style=\"color: #00af00; text-decoration-color: #00af00\">71,805</span> (280.49 KB)\n",
       "</pre>\n"
      ],
      "text/plain": [
       "\u001b[1m Trainable params: \u001b[0m\u001b[38;5;34m71,805\u001b[0m (280.49 KB)\n"
      ]
     },
     "metadata": {},
     "output_type": "display_data"
    },
    {
     "data": {
      "text/html": [
       "<pre style=\"white-space:pre;overflow-x:auto;line-height:normal;font-family:Menlo,'DejaVu Sans Mono',consolas,'Courier New',monospace\"><span style=\"font-weight: bold\"> Non-trainable params: </span><span style=\"color: #00af00; text-decoration-color: #00af00\">0</span> (0.00 B)\n",
       "</pre>\n"
      ],
      "text/plain": [
       "\u001b[1m Non-trainable params: \u001b[0m\u001b[38;5;34m0\u001b[0m (0.00 B)\n"
      ]
     },
     "metadata": {},
     "output_type": "display_data"
    }
   ],
   "source": [
    "# Summary of the model\n",
    "model.summary()"
   ]
  },
  {
   "cell_type": "code",
   "execution_count": 19,
   "id": "d4ee7eee-6ef3-4b5e-86ab-b6a0e5c9f0bf",
   "metadata": {},
   "outputs": [
    {
     "name": "stdout",
     "output_type": "stream",
     "text": [
      "Epoch 1/70\n",
      "\u001b[1m436/436\u001b[0m \u001b[32m━━━━━━━━━━━━━━━━━━━━\u001b[0m\u001b[37m\u001b[0m \u001b[1m8s\u001b[0m 14ms/step - loss: 1.0791 - mse: 1.0791 - val_loss: 0.9966 - val_mse: 0.9966\n",
      "Epoch 2/70\n",
      "\u001b[1m436/436\u001b[0m \u001b[32m━━━━━━━━━━━━━━━━━━━━\u001b[0m\u001b[37m\u001b[0m \u001b[1m6s\u001b[0m 13ms/step - loss: 1.0125 - mse: 1.0125 - val_loss: 0.9970 - val_mse: 0.9970\n",
      "Epoch 3/70\n",
      "\u001b[1m436/436\u001b[0m \u001b[32m━━━━━━━━━━━━━━━━━━━━\u001b[0m\u001b[37m\u001b[0m \u001b[1m6s\u001b[0m 13ms/step - loss: 1.0042 - mse: 1.0042 - val_loss: 0.9980 - val_mse: 0.9980\n",
      "Epoch 4/70\n",
      "\u001b[1m436/436\u001b[0m \u001b[32m━━━━━━━━━━━━━━━━━━━━\u001b[0m\u001b[37m\u001b[0m \u001b[1m6s\u001b[0m 14ms/step - loss: 1.0062 - mse: 1.0062 - val_loss: 0.9968 - val_mse: 0.9968\n",
      "Epoch 5/70\n",
      "\u001b[1m436/436\u001b[0m \u001b[32m━━━━━━━━━━━━━━━━━━━━\u001b[0m\u001b[37m\u001b[0m \u001b[1m6s\u001b[0m 13ms/step - loss: 0.9993 - mse: 0.9993 - val_loss: 0.9984 - val_mse: 0.9984\n",
      "Epoch 6/70\n",
      "\u001b[1m436/436\u001b[0m \u001b[32m━━━━━━━━━━━━━━━━━━━━\u001b[0m\u001b[37m\u001b[0m \u001b[1m6s\u001b[0m 13ms/step - loss: 1.0008 - mse: 1.0008 - val_loss: 0.9964 - val_mse: 0.9964\n",
      "Epoch 7/70\n",
      "\u001b[1m436/436\u001b[0m \u001b[32m━━━━━━━━━━━━━━━━━━━━\u001b[0m\u001b[37m\u001b[0m \u001b[1m6s\u001b[0m 13ms/step - loss: 1.0005 - mse: 1.0005 - val_loss: 0.9962 - val_mse: 0.9962\n",
      "Epoch 8/70\n",
      "\u001b[1m436/436\u001b[0m \u001b[32m━━━━━━━━━━━━━━━━━━━━\u001b[0m\u001b[37m\u001b[0m \u001b[1m6s\u001b[0m 13ms/step - loss: 1.0017 - mse: 1.0017 - val_loss: 0.9960 - val_mse: 0.9960\n",
      "Epoch 9/70\n",
      "\u001b[1m436/436\u001b[0m \u001b[32m━━━━━━━━━━━━━━━━━━━━\u001b[0m\u001b[37m\u001b[0m \u001b[1m6s\u001b[0m 13ms/step - loss: 0.9999 - mse: 0.9999 - val_loss: 0.9960 - val_mse: 0.9960\n",
      "Epoch 10/70\n",
      "\u001b[1m436/436\u001b[0m \u001b[32m━━━━━━━━━━━━━━━━━━━━\u001b[0m\u001b[37m\u001b[0m \u001b[1m6s\u001b[0m 13ms/step - loss: 0.9976 - mse: 0.9976 - val_loss: 0.9964 - val_mse: 0.9964\n",
      "Epoch 11/70\n",
      "\u001b[1m436/436\u001b[0m \u001b[32m━━━━━━━━━━━━━━━━━━━━\u001b[0m\u001b[37m\u001b[0m \u001b[1m6s\u001b[0m 13ms/step - loss: 1.0013 - mse: 1.0013 - val_loss: 0.9958 - val_mse: 0.9958\n",
      "Epoch 12/70\n",
      "\u001b[1m436/436\u001b[0m \u001b[32m━━━━━━━━━━━━━━━━━━━━\u001b[0m\u001b[37m\u001b[0m \u001b[1m6s\u001b[0m 14ms/step - loss: 1.0017 - mse: 1.0017 - val_loss: 0.9959 - val_mse: 0.9959\n",
      "Epoch 13/70\n",
      "\u001b[1m436/436\u001b[0m \u001b[32m━━━━━━━━━━━━━━━━━━━━\u001b[0m\u001b[37m\u001b[0m \u001b[1m6s\u001b[0m 13ms/step - loss: 0.9998 - mse: 0.9998 - val_loss: 0.9959 - val_mse: 0.9959\n",
      "Epoch 14/70\n",
      "\u001b[1m436/436\u001b[0m \u001b[32m━━━━━━━━━━━━━━━━━━━━\u001b[0m\u001b[37m\u001b[0m \u001b[1m6s\u001b[0m 14ms/step - loss: 1.0001 - mse: 1.0001 - val_loss: 0.9958 - val_mse: 0.9958\n",
      "Epoch 15/70\n",
      "\u001b[1m436/436\u001b[0m \u001b[32m━━━━━━━━━━━━━━━━━━━━\u001b[0m\u001b[37m\u001b[0m \u001b[1m6s\u001b[0m 14ms/step - loss: 1.0019 - mse: 1.0019 - val_loss: 0.9958 - val_mse: 0.9958\n",
      "Epoch 16/70\n",
      "\u001b[1m436/436\u001b[0m \u001b[32m━━━━━━━━━━━━━━━━━━━━\u001b[0m\u001b[37m\u001b[0m \u001b[1m6s\u001b[0m 13ms/step - loss: 1.0034 - mse: 1.0034 - val_loss: 0.9961 - val_mse: 0.9961\n",
      "Epoch 17/70\n",
      "\u001b[1m436/436\u001b[0m \u001b[32m━━━━━━━━━━━━━━━━━━━━\u001b[0m\u001b[37m\u001b[0m \u001b[1m6s\u001b[0m 13ms/step - loss: 1.0009 - mse: 1.0009 - val_loss: 0.9957 - val_mse: 0.9957\n",
      "Epoch 18/70\n",
      "\u001b[1m436/436\u001b[0m \u001b[32m━━━━━━━━━━━━━━━━━━━━\u001b[0m\u001b[37m\u001b[0m \u001b[1m6s\u001b[0m 14ms/step - loss: 1.0034 - mse: 1.0034 - val_loss: 0.9959 - val_mse: 0.9959\n",
      "Epoch 19/70\n",
      "\u001b[1m436/436\u001b[0m \u001b[32m━━━━━━━━━━━━━━━━━━━━\u001b[0m\u001b[37m\u001b[0m \u001b[1m6s\u001b[0m 14ms/step - loss: 0.9974 - mse: 0.9974 - val_loss: 0.9963 - val_mse: 0.9963\n",
      "Epoch 20/70\n",
      "\u001b[1m436/436\u001b[0m \u001b[32m━━━━━━━━━━━━━━━━━━━━\u001b[0m\u001b[37m\u001b[0m \u001b[1m6s\u001b[0m 13ms/step - loss: 1.0009 - mse: 1.0009 - val_loss: 0.9959 - val_mse: 0.9959\n",
      "Epoch 21/70\n",
      "\u001b[1m436/436\u001b[0m \u001b[32m━━━━━━━━━━━━━━━━━━━━\u001b[0m\u001b[37m\u001b[0m \u001b[1m6s\u001b[0m 14ms/step - loss: 1.0026 - mse: 1.0026 - val_loss: 0.9958 - val_mse: 0.9958\n",
      "Epoch 22/70\n",
      "\u001b[1m436/436\u001b[0m \u001b[32m━━━━━━━━━━━━━━━━━━━━\u001b[0m\u001b[37m\u001b[0m \u001b[1m6s\u001b[0m 13ms/step - loss: 0.9980 - mse: 0.9980 - val_loss: 0.9958 - val_mse: 0.9958\n",
      "Epoch 23/70\n",
      "\u001b[1m436/436\u001b[0m \u001b[32m━━━━━━━━━━━━━━━━━━━━\u001b[0m\u001b[37m\u001b[0m \u001b[1m6s\u001b[0m 14ms/step - loss: 1.0012 - mse: 1.0012 - val_loss: 0.9958 - val_mse: 0.9958\n",
      "Epoch 24/70\n",
      "\u001b[1m436/436\u001b[0m \u001b[32m━━━━━━━━━━━━━━━━━━━━\u001b[0m\u001b[37m\u001b[0m \u001b[1m6s\u001b[0m 14ms/step - loss: 0.9987 - mse: 0.9987 - val_loss: 0.9958 - val_mse: 0.9958\n",
      "Epoch 25/70\n",
      "\u001b[1m436/436\u001b[0m \u001b[32m━━━━━━━━━━━━━━━━━━━━\u001b[0m\u001b[37m\u001b[0m \u001b[1m6s\u001b[0m 14ms/step - loss: 1.0021 - mse: 1.0021 - val_loss: 0.9958 - val_mse: 0.9958\n",
      "Epoch 26/70\n",
      "\u001b[1m436/436\u001b[0m \u001b[32m━━━━━━━━━━━━━━━━━━━━\u001b[0m\u001b[37m\u001b[0m \u001b[1m6s\u001b[0m 14ms/step - loss: 1.0014 - mse: 1.0014 - val_loss: 0.9958 - val_mse: 0.9958\n",
      "Epoch 27/70\n",
      "\u001b[1m436/436\u001b[0m \u001b[32m━━━━━━━━━━━━━━━━━━━━\u001b[0m\u001b[37m\u001b[0m \u001b[1m6s\u001b[0m 14ms/step - loss: 1.0022 - mse: 1.0022 - val_loss: 0.9958 - val_mse: 0.9958\n",
      "Epoch 28/70\n",
      "\u001b[1m436/436\u001b[0m \u001b[32m━━━━━━━━━━━━━━━━━━━━\u001b[0m\u001b[37m\u001b[0m \u001b[1m6s\u001b[0m 14ms/step - loss: 1.0027 - mse: 1.0027 - val_loss: 0.9958 - val_mse: 0.9958\n",
      "Epoch 29/70\n",
      "\u001b[1m436/436\u001b[0m \u001b[32m━━━━━━━━━━━━━━━━━━━━\u001b[0m\u001b[37m\u001b[0m \u001b[1m6s\u001b[0m 14ms/step - loss: 0.9957 - mse: 0.9957 - val_loss: 0.9943 - val_mse: 0.9943\n",
      "Epoch 30/70\n",
      "\u001b[1m436/436\u001b[0m \u001b[32m━━━━━━━━━━━━━━━━━━━━\u001b[0m\u001b[37m\u001b[0m \u001b[1m6s\u001b[0m 14ms/step - loss: 0.9957 - mse: 0.9957 - val_loss: 0.9951 - val_mse: 0.9951\n",
      "Epoch 31/70\n",
      "\u001b[1m436/436\u001b[0m \u001b[32m━━━━━━━━━━━━━━━━━━━━\u001b[0m\u001b[37m\u001b[0m \u001b[1m6s\u001b[0m 14ms/step - loss: 0.9968 - mse: 0.9968 - val_loss: 0.9868 - val_mse: 0.9868\n",
      "Epoch 32/70\n",
      "\u001b[1m436/436\u001b[0m \u001b[32m━━━━━━━━━━━━━━━━━━━━\u001b[0m\u001b[37m\u001b[0m \u001b[1m6s\u001b[0m 14ms/step - loss: 0.9929 - mse: 0.9929 - val_loss: 0.9908 - val_mse: 0.9908\n",
      "Epoch 33/70\n",
      "\u001b[1m436/436\u001b[0m \u001b[32m━━━━━━━━━━━━━━━━━━━━\u001b[0m\u001b[37m\u001b[0m \u001b[1m6s\u001b[0m 14ms/step - loss: 0.9925 - mse: 0.9925 - val_loss: 0.9820 - val_mse: 0.9820\n",
      "Epoch 34/70\n",
      "\u001b[1m436/436\u001b[0m \u001b[32m━━━━━━━━━━━━━━━━━━━━\u001b[0m\u001b[37m\u001b[0m \u001b[1m6s\u001b[0m 14ms/step - loss: 0.9847 - mse: 0.9847 - val_loss: 0.9830 - val_mse: 0.9830\n",
      "Epoch 35/70\n",
      "\u001b[1m436/436\u001b[0m \u001b[32m━━━━━━━━━━━━━━━━━━━━\u001b[0m\u001b[37m\u001b[0m \u001b[1m6s\u001b[0m 14ms/step - loss: 0.9861 - mse: 0.9861 - val_loss: 0.9821 - val_mse: 0.9821\n",
      "Epoch 36/70\n",
      "\u001b[1m436/436\u001b[0m \u001b[32m━━━━━━━━━━━━━━━━━━━━\u001b[0m\u001b[37m\u001b[0m \u001b[1m6s\u001b[0m 14ms/step - loss: 0.9847 - mse: 0.9847 - val_loss: 0.9781 - val_mse: 0.9781\n",
      "Epoch 37/70\n",
      "\u001b[1m436/436\u001b[0m \u001b[32m━━━━━━━━━━━━━━━━━━━━\u001b[0m\u001b[37m\u001b[0m \u001b[1m6s\u001b[0m 14ms/step - loss: 0.9886 - mse: 0.9886 - val_loss: 0.9803 - val_mse: 0.9803\n",
      "Epoch 38/70\n",
      "\u001b[1m436/436\u001b[0m \u001b[32m━━━━━━━━━━━━━━━━━━━━\u001b[0m\u001b[37m\u001b[0m \u001b[1m6s\u001b[0m 14ms/step - loss: 0.9838 - mse: 0.9838 - val_loss: 0.9781 - val_mse: 0.9781\n",
      "Epoch 39/70\n",
      "\u001b[1m436/436\u001b[0m \u001b[32m━━━━━━━━━━━━━━━━━━━━\u001b[0m\u001b[37m\u001b[0m \u001b[1m6s\u001b[0m 13ms/step - loss: 0.9818 - mse: 0.9818 - val_loss: 0.9762 - val_mse: 0.9762\n",
      "Epoch 40/70\n",
      "\u001b[1m436/436\u001b[0m \u001b[32m━━━━━━━━━━━━━━━━━━━━\u001b[0m\u001b[37m\u001b[0m \u001b[1m6s\u001b[0m 14ms/step - loss: 0.9842 - mse: 0.9842 - val_loss: 0.9759 - val_mse: 0.9759\n",
      "Epoch 41/70\n",
      "\u001b[1m436/436\u001b[0m \u001b[32m━━━━━━━━━━━━━━━━━━━━\u001b[0m\u001b[37m\u001b[0m \u001b[1m6s\u001b[0m 14ms/step - loss: 0.9805 - mse: 0.9805 - val_loss: 0.9814 - val_mse: 0.9814\n",
      "Epoch 42/70\n",
      "\u001b[1m436/436\u001b[0m \u001b[32m━━━━━━━━━━━━━━━━━━━━\u001b[0m\u001b[37m\u001b[0m \u001b[1m6s\u001b[0m 13ms/step - loss: 0.9828 - mse: 0.9828 - val_loss: 0.9812 - val_mse: 0.9812\n",
      "Epoch 43/70\n",
      "\u001b[1m436/436\u001b[0m \u001b[32m━━━━━━━━━━━━━━━━━━━━\u001b[0m\u001b[37m\u001b[0m \u001b[1m6s\u001b[0m 14ms/step - loss: 0.9802 - mse: 0.9802 - val_loss: 0.9749 - val_mse: 0.9749\n",
      "Epoch 44/70\n",
      "\u001b[1m436/436\u001b[0m \u001b[32m━━━━━━━━━━━━━━━━━━━━\u001b[0m\u001b[37m\u001b[0m \u001b[1m6s\u001b[0m 13ms/step - loss: 0.9792 - mse: 0.9792 - val_loss: 0.9813 - val_mse: 0.9813\n",
      "Epoch 45/70\n",
      "\u001b[1m436/436\u001b[0m \u001b[32m━━━━━━━━━━━━━━━━━━━━\u001b[0m\u001b[37m\u001b[0m \u001b[1m6s\u001b[0m 13ms/step - loss: 0.9835 - mse: 0.9835 - val_loss: 0.9773 - val_mse: 0.9773\n",
      "Epoch 46/70\n",
      "\u001b[1m436/436\u001b[0m \u001b[32m━━━━━━━━━━━━━━━━━━━━\u001b[0m\u001b[37m\u001b[0m \u001b[1m6s\u001b[0m 14ms/step - loss: 0.9799 - mse: 0.9799 - val_loss: 0.9786 - val_mse: 0.9786\n",
      "Epoch 47/70\n",
      "\u001b[1m436/436\u001b[0m \u001b[32m━━━━━━━━━━━━━━━━━━━━\u001b[0m\u001b[37m\u001b[0m \u001b[1m6s\u001b[0m 14ms/step - loss: 0.9820 - mse: 0.9820 - val_loss: 0.9810 - val_mse: 0.9810\n",
      "Epoch 48/70\n",
      "\u001b[1m436/436\u001b[0m \u001b[32m━━━━━━━━━━━━━━━━━━━━\u001b[0m\u001b[37m\u001b[0m \u001b[1m6s\u001b[0m 14ms/step - loss: 0.9846 - mse: 0.9846 - val_loss: 0.9772 - val_mse: 0.9772\n",
      "Epoch 49/70\n",
      "\u001b[1m436/436\u001b[0m \u001b[32m━━━━━━━━━━━━━━━━━━━━\u001b[0m\u001b[37m\u001b[0m \u001b[1m6s\u001b[0m 14ms/step - loss: 0.9823 - mse: 0.9823 - val_loss: 0.9832 - val_mse: 0.9832\n",
      "Epoch 50/70\n",
      "\u001b[1m436/436\u001b[0m \u001b[32m━━━━━━━━━━━━━━━━━━━━\u001b[0m\u001b[37m\u001b[0m \u001b[1m6s\u001b[0m 14ms/step - loss: 0.9837 - mse: 0.9837 - val_loss: 0.9790 - val_mse: 0.9790\n",
      "Epoch 51/70\n",
      "\u001b[1m436/436\u001b[0m \u001b[32m━━━━━━━━━━━━━━━━━━━━\u001b[0m\u001b[37m\u001b[0m \u001b[1m6s\u001b[0m 14ms/step - loss: 0.9852 - mse: 0.9852 - val_loss: 0.9791 - val_mse: 0.9791\n",
      "Epoch 52/70\n",
      "\u001b[1m436/436\u001b[0m \u001b[32m━━━━━━━━━━━━━━━━━━━━\u001b[0m\u001b[37m\u001b[0m \u001b[1m6s\u001b[0m 14ms/step - loss: 0.9834 - mse: 0.9834 - val_loss: 0.9789 - val_mse: 0.9789\n",
      "Epoch 53/70\n",
      "\u001b[1m436/436\u001b[0m \u001b[32m━━━━━━━━━━━━━━━━━━━━\u001b[0m\u001b[37m\u001b[0m \u001b[1m6s\u001b[0m 14ms/step - loss: 0.9822 - mse: 0.9822 - val_loss: 0.9766 - val_mse: 0.9766\n",
      "Epoch 54/70\n",
      "\u001b[1m436/436\u001b[0m \u001b[32m━━━━━━━━━━━━━━━━━━━━\u001b[0m\u001b[37m\u001b[0m \u001b[1m6s\u001b[0m 14ms/step - loss: 0.9848 - mse: 0.9848 - val_loss: 0.9782 - val_mse: 0.9782\n",
      "Epoch 55/70\n",
      "\u001b[1m436/436\u001b[0m \u001b[32m━━━━━━━━━━━━━━━━━━━━\u001b[0m\u001b[37m\u001b[0m \u001b[1m6s\u001b[0m 14ms/step - loss: 0.9806 - mse: 0.9806 - val_loss: 0.9780 - val_mse: 0.9780\n",
      "Epoch 56/70\n",
      "\u001b[1m436/436\u001b[0m \u001b[32m━━━━━━━━━━━━━━━━━━━━\u001b[0m\u001b[37m\u001b[0m \u001b[1m6s\u001b[0m 14ms/step - loss: 0.9857 - mse: 0.9857 - val_loss: 0.9777 - val_mse: 0.9777\n",
      "Epoch 57/70\n",
      "\u001b[1m436/436\u001b[0m \u001b[32m━━━━━━━━━━━━━━━━━━━━\u001b[0m\u001b[37m\u001b[0m \u001b[1m6s\u001b[0m 14ms/step - loss: 0.9825 - mse: 0.9825 - val_loss: 0.9767 - val_mse: 0.9767\n",
      "Epoch 58/70\n",
      "\u001b[1m436/436\u001b[0m \u001b[32m━━━━━━━━━━━━━━━━━━━━\u001b[0m\u001b[37m\u001b[0m \u001b[1m6s\u001b[0m 14ms/step - loss: 0.9781 - mse: 0.9781 - val_loss: 0.9759 - val_mse: 0.9759\n",
      "Epoch 59/70\n",
      "\u001b[1m436/436\u001b[0m \u001b[32m━━━━━━━━━━━━━━━━━━━━\u001b[0m\u001b[37m\u001b[0m \u001b[1m6s\u001b[0m 14ms/step - loss: 0.9814 - mse: 0.9814 - val_loss: 0.9766 - val_mse: 0.9766\n",
      "Epoch 60/70\n",
      "\u001b[1m436/436\u001b[0m \u001b[32m━━━━━━━━━━━━━━━━━━━━\u001b[0m\u001b[37m\u001b[0m \u001b[1m6s\u001b[0m 14ms/step - loss: 0.9828 - mse: 0.9828 - val_loss: 0.9814 - val_mse: 0.9814\n",
      "Epoch 61/70\n",
      "\u001b[1m436/436\u001b[0m \u001b[32m━━━━━━━━━━━━━━━━━━━━\u001b[0m\u001b[37m\u001b[0m \u001b[1m6s\u001b[0m 14ms/step - loss: 0.9864 - mse: 0.9864 - val_loss: 0.9780 - val_mse: 0.9780\n",
      "Epoch 62/70\n",
      "\u001b[1m436/436\u001b[0m \u001b[32m━━━━━━━━━━━━━━━━━━━━\u001b[0m\u001b[37m\u001b[0m \u001b[1m6s\u001b[0m 14ms/step - loss: 0.9829 - mse: 0.9829 - val_loss: 0.9773 - val_mse: 0.9773\n",
      "Epoch 63/70\n",
      "\u001b[1m436/436\u001b[0m \u001b[32m━━━━━━━━━━━━━━━━━━━━\u001b[0m\u001b[37m\u001b[0m \u001b[1m6s\u001b[0m 14ms/step - loss: 0.9868 - mse: 0.9868 - val_loss: 0.9819 - val_mse: 0.9819\n",
      "Epoch 64/70\n",
      "\u001b[1m436/436\u001b[0m \u001b[32m━━━━━━━━━━━━━━━━━━━━\u001b[0m\u001b[37m\u001b[0m \u001b[1m6s\u001b[0m 14ms/step - loss: 0.9799 - mse: 0.9799 - val_loss: 0.9770 - val_mse: 0.9770\n",
      "Epoch 65/70\n",
      "\u001b[1m436/436\u001b[0m \u001b[32m━━━━━━━━━━━━━━━━━━━━\u001b[0m\u001b[37m\u001b[0m \u001b[1m6s\u001b[0m 14ms/step - loss: 0.9771 - mse: 0.9771 - val_loss: 0.9754 - val_mse: 0.9754\n",
      "Epoch 66/70\n",
      "\u001b[1m436/436\u001b[0m \u001b[32m━━━━━━━━━━━━━━━━━━━━\u001b[0m\u001b[37m\u001b[0m \u001b[1m6s\u001b[0m 14ms/step - loss: 0.9817 - mse: 0.9817 - val_loss: 0.9769 - val_mse: 0.9769\n",
      "Epoch 67/70\n",
      "\u001b[1m436/436\u001b[0m \u001b[32m━━━━━━━━━━━━━━━━━━━━\u001b[0m\u001b[37m\u001b[0m \u001b[1m6s\u001b[0m 14ms/step - loss: 0.9866 - mse: 0.9866 - val_loss: 0.9825 - val_mse: 0.9825\n",
      "Epoch 68/70\n",
      "\u001b[1m436/436\u001b[0m \u001b[32m━━━━━━━━━━━━━━━━━━━━\u001b[0m\u001b[37m\u001b[0m \u001b[1m6s\u001b[0m 14ms/step - loss: 0.9896 - mse: 0.9896 - val_loss: 0.9776 - val_mse: 0.9776\n",
      "Epoch 69/70\n",
      "\u001b[1m436/436\u001b[0m \u001b[32m━━━━━━━━━━━━━━━━━━━━\u001b[0m\u001b[37m\u001b[0m \u001b[1m6s\u001b[0m 14ms/step - loss: 0.9834 - mse: 0.9834 - val_loss: 0.9747 - val_mse: 0.9747\n",
      "Epoch 70/70\n",
      "\u001b[1m436/436\u001b[0m \u001b[32m━━━━━━━━━━━━━━━━━━━━\u001b[0m\u001b[37m\u001b[0m \u001b[1m6s\u001b[0m 14ms/step - loss: 0.9813 - mse: 0.9813 - val_loss: 0.9725 - val_mse: 0.9725\n"
     ]
    }
   ],
   "source": [
    "# Train the model\n",
    "history = model.fit(X_train, Y_train, epochs=70, batch_size=64, validation_data=(X_val, Y_val))"
   ]
  },
  {
   "cell_type": "code",
   "execution_count": 20,
   "id": "94f9cd1c-5254-47a9-a9c4-1280b1ea52e0",
   "metadata": {},
   "outputs": [
    {
     "name": "stdout",
     "output_type": "stream",
     "text": [
      "Epoch 1/50\n",
      "\u001b[1m436/436\u001b[0m \u001b[32m━━━━━━━━━━━━━━━━━━━━\u001b[0m\u001b[37m\u001b[0m \u001b[1m6s\u001b[0m 14ms/step - loss: 0.9763 - mse: 0.9763 - val_loss: 0.9867 - val_mse: 0.9867\n",
      "Epoch 2/50\n",
      "\u001b[1m436/436\u001b[0m \u001b[32m━━━━━━━━━━━━━━━━━━━━\u001b[0m\u001b[37m\u001b[0m \u001b[1m6s\u001b[0m 14ms/step - loss: 0.9826 - mse: 0.9826 - val_loss: 0.9768 - val_mse: 0.9768\n",
      "Epoch 3/50\n",
      "\u001b[1m436/436\u001b[0m \u001b[32m━━━━━━━━━━━━━━━━━━━━\u001b[0m\u001b[37m\u001b[0m \u001b[1m6s\u001b[0m 13ms/step - loss: 0.9775 - mse: 0.9775 - val_loss: 0.9839 - val_mse: 0.9839\n",
      "Epoch 4/50\n",
      "\u001b[1m436/436\u001b[0m \u001b[32m━━━━━━━━━━━━━━━━━━━━\u001b[0m\u001b[37m\u001b[0m \u001b[1m6s\u001b[0m 13ms/step - loss: 0.9793 - mse: 0.9793 - val_loss: 0.9685 - val_mse: 0.9685\n",
      "Epoch 5/50\n",
      "\u001b[1m436/436\u001b[0m \u001b[32m━━━━━━━━━━━━━━━━━━━━\u001b[0m\u001b[37m\u001b[0m \u001b[1m6s\u001b[0m 13ms/step - loss: 0.9715 - mse: 0.9715 - val_loss: 0.9710 - val_mse: 0.9710\n",
      "Epoch 6/50\n",
      "\u001b[1m436/436\u001b[0m \u001b[32m━━━━━━━━━━━━━━━━━━━━\u001b[0m\u001b[37m\u001b[0m \u001b[1m6s\u001b[0m 13ms/step - loss: 0.9762 - mse: 0.9762 - val_loss: 0.9685 - val_mse: 0.9685\n",
      "Epoch 7/50\n",
      "\u001b[1m436/436\u001b[0m \u001b[32m━━━━━━━━━━━━━━━━━━━━\u001b[0m\u001b[37m\u001b[0m \u001b[1m6s\u001b[0m 13ms/step - loss: 0.9745 - mse: 0.9745 - val_loss: 0.9700 - val_mse: 0.9700\n",
      "Epoch 8/50\n",
      "\u001b[1m436/436\u001b[0m \u001b[32m━━━━━━━━━━━━━━━━━━━━\u001b[0m\u001b[37m\u001b[0m \u001b[1m6s\u001b[0m 13ms/step - loss: 0.9750 - mse: 0.9750 - val_loss: 0.9726 - val_mse: 0.9726\n",
      "Epoch 9/50\n",
      "\u001b[1m436/436\u001b[0m \u001b[32m━━━━━━━━━━━━━━━━━━━━\u001b[0m\u001b[37m\u001b[0m \u001b[1m6s\u001b[0m 13ms/step - loss: 0.9777 - mse: 0.9777 - val_loss: 0.9851 - val_mse: 0.9851\n",
      "Epoch 10/50\n",
      "\u001b[1m436/436\u001b[0m \u001b[32m━━━━━━━━━━━━━━━━━━━━\u001b[0m\u001b[37m\u001b[0m \u001b[1m6s\u001b[0m 14ms/step - loss: 0.9856 - mse: 0.9856 - val_loss: 0.9864 - val_mse: 0.9864\n",
      "Epoch 11/50\n",
      "\u001b[1m436/436\u001b[0m \u001b[32m━━━━━━━━━━━━━━━━━━━━\u001b[0m\u001b[37m\u001b[0m \u001b[1m6s\u001b[0m 14ms/step - loss: 0.9852 - mse: 0.9852 - val_loss: 0.9773 - val_mse: 0.9773\n",
      "Epoch 12/50\n",
      "\u001b[1m436/436\u001b[0m \u001b[32m━━━━━━━━━━━━━━━━━━━━\u001b[0m\u001b[37m\u001b[0m \u001b[1m6s\u001b[0m 14ms/step - loss: 0.9790 - mse: 0.9790 - val_loss: 0.9773 - val_mse: 0.9773\n",
      "Epoch 13/50\n",
      "\u001b[1m436/436\u001b[0m \u001b[32m━━━━━━━━━━━━━━━━━━━━\u001b[0m\u001b[37m\u001b[0m \u001b[1m6s\u001b[0m 14ms/step - loss: 0.9789 - mse: 0.9789 - val_loss: 0.9714 - val_mse: 0.9714\n",
      "Epoch 14/50\n",
      "\u001b[1m436/436\u001b[0m \u001b[32m━━━━━━━━━━━━━━━━━━━━\u001b[0m\u001b[37m\u001b[0m \u001b[1m6s\u001b[0m 14ms/step - loss: 0.9768 - mse: 0.9768 - val_loss: 0.9786 - val_mse: 0.9786\n",
      "Epoch 15/50\n",
      "\u001b[1m436/436\u001b[0m \u001b[32m━━━━━━━━━━━━━━━━━━━━\u001b[0m\u001b[37m\u001b[0m \u001b[1m6s\u001b[0m 14ms/step - loss: 0.9866 - mse: 0.9866 - val_loss: 0.9809 - val_mse: 0.9809\n",
      "Epoch 16/50\n",
      "\u001b[1m436/436\u001b[0m \u001b[32m━━━━━━━━━━━━━━━━━━━━\u001b[0m\u001b[37m\u001b[0m \u001b[1m6s\u001b[0m 14ms/step - loss: 0.9802 - mse: 0.9802 - val_loss: 0.9726 - val_mse: 0.9726\n",
      "Epoch 17/50\n",
      "\u001b[1m436/436\u001b[0m \u001b[32m━━━━━━━━━━━━━━━━━━━━\u001b[0m\u001b[37m\u001b[0m \u001b[1m6s\u001b[0m 14ms/step - loss: 0.9773 - mse: 0.9773 - val_loss: 0.9882 - val_mse: 0.9882\n",
      "Epoch 18/50\n",
      "\u001b[1m436/436\u001b[0m \u001b[32m━━━━━━━━━━━━━━━━━━━━\u001b[0m\u001b[37m\u001b[0m \u001b[1m6s\u001b[0m 14ms/step - loss: 0.9834 - mse: 0.9834 - val_loss: 0.9714 - val_mse: 0.9714\n",
      "Epoch 19/50\n",
      "\u001b[1m436/436\u001b[0m \u001b[32m━━━━━━━━━━━━━━━━━━━━\u001b[0m\u001b[37m\u001b[0m \u001b[1m6s\u001b[0m 14ms/step - loss: 0.9789 - mse: 0.9789 - val_loss: 0.9696 - val_mse: 0.9696\n",
      "Epoch 20/50\n",
      "\u001b[1m436/436\u001b[0m \u001b[32m━━━━━━━━━━━━━━━━━━━━\u001b[0m\u001b[37m\u001b[0m \u001b[1m6s\u001b[0m 14ms/step - loss: 0.9763 - mse: 0.9763 - val_loss: 0.9832 - val_mse: 0.9832\n",
      "Epoch 21/50\n",
      "\u001b[1m436/436\u001b[0m \u001b[32m━━━━━━━━━━━━━━━━━━━━\u001b[0m\u001b[37m\u001b[0m \u001b[1m6s\u001b[0m 14ms/step - loss: 0.9770 - mse: 0.9770 - val_loss: 0.9741 - val_mse: 0.9741\n",
      "Epoch 22/50\n",
      "\u001b[1m436/436\u001b[0m \u001b[32m━━━━━━━━━━━━━━━━━━━━\u001b[0m\u001b[37m\u001b[0m \u001b[1m6s\u001b[0m 14ms/step - loss: 0.9772 - mse: 0.9772 - val_loss: 0.9781 - val_mse: 0.9781\n",
      "Epoch 23/50\n",
      "\u001b[1m436/436\u001b[0m \u001b[32m━━━━━━━━━━━━━━━━━━━━\u001b[0m\u001b[37m\u001b[0m \u001b[1m6s\u001b[0m 14ms/step - loss: 0.9829 - mse: 0.9829 - val_loss: 0.9768 - val_mse: 0.9768\n",
      "Epoch 24/50\n",
      "\u001b[1m436/436\u001b[0m \u001b[32m━━━━━━━━━━━━━━━━━━━━\u001b[0m\u001b[37m\u001b[0m \u001b[1m6s\u001b[0m 14ms/step - loss: 0.9782 - mse: 0.9782 - val_loss: 0.9775 - val_mse: 0.9775\n",
      "Epoch 25/50\n",
      "\u001b[1m436/436\u001b[0m \u001b[32m━━━━━━━━━━━━━━━━━━━━\u001b[0m\u001b[37m\u001b[0m \u001b[1m6s\u001b[0m 14ms/step - loss: 0.9803 - mse: 0.9803 - val_loss: 0.9718 - val_mse: 0.9718\n",
      "Epoch 26/50\n",
      "\u001b[1m436/436\u001b[0m \u001b[32m━━━━━━━━━━━━━━━━━━━━\u001b[0m\u001b[37m\u001b[0m \u001b[1m6s\u001b[0m 14ms/step - loss: 0.9760 - mse: 0.9760 - val_loss: 0.9714 - val_mse: 0.9714\n",
      "Epoch 27/50\n",
      "\u001b[1m436/436\u001b[0m \u001b[32m━━━━━━━━━━━━━━━━━━━━\u001b[0m\u001b[37m\u001b[0m \u001b[1m6s\u001b[0m 14ms/step - loss: 0.9762 - mse: 0.9762 - val_loss: 0.9723 - val_mse: 0.9723\n",
      "Epoch 28/50\n",
      "\u001b[1m436/436\u001b[0m \u001b[32m━━━━━━━━━━━━━━━━━━━━\u001b[0m\u001b[37m\u001b[0m \u001b[1m6s\u001b[0m 13ms/step - loss: 0.9751 - mse: 0.9751 - val_loss: 0.9778 - val_mse: 0.9778\n",
      "Epoch 29/50\n",
      "\u001b[1m436/436\u001b[0m \u001b[32m━━━━━━━━━━━━━━━━━━━━\u001b[0m\u001b[37m\u001b[0m \u001b[1m6s\u001b[0m 14ms/step - loss: 0.9804 - mse: 0.9804 - val_loss: 0.9818 - val_mse: 0.9818\n",
      "Epoch 30/50\n",
      "\u001b[1m436/436\u001b[0m \u001b[32m━━━━━━━━━━━━━━━━━━━━\u001b[0m\u001b[37m\u001b[0m \u001b[1m6s\u001b[0m 14ms/step - loss: 0.9838 - mse: 0.9838 - val_loss: 0.9756 - val_mse: 0.9756\n",
      "Epoch 31/50\n",
      "\u001b[1m436/436\u001b[0m \u001b[32m━━━━━━━━━━━━━━━━━━━━\u001b[0m\u001b[37m\u001b[0m \u001b[1m6s\u001b[0m 14ms/step - loss: 0.9755 - mse: 0.9755 - val_loss: 0.9707 - val_mse: 0.9707\n",
      "Epoch 32/50\n",
      "\u001b[1m436/436\u001b[0m \u001b[32m━━━━━━━━━━━━━━━━━━━━\u001b[0m\u001b[37m\u001b[0m \u001b[1m6s\u001b[0m 14ms/step - loss: 0.9775 - mse: 0.9775 - val_loss: 0.9725 - val_mse: 0.9725\n",
      "Epoch 33/50\n",
      "\u001b[1m436/436\u001b[0m \u001b[32m━━━━━━━━━━━━━━━━━━━━\u001b[0m\u001b[37m\u001b[0m \u001b[1m6s\u001b[0m 14ms/step - loss: 0.9797 - mse: 0.9797 - val_loss: 0.9768 - val_mse: 0.9768\n",
      "Epoch 34/50\n",
      "\u001b[1m436/436\u001b[0m \u001b[32m━━━━━━━━━━━━━━━━━━━━\u001b[0m\u001b[37m\u001b[0m \u001b[1m6s\u001b[0m 14ms/step - loss: 0.9831 - mse: 0.9831 - val_loss: 0.9764 - val_mse: 0.9764\n",
      "Epoch 35/50\n",
      "\u001b[1m436/436\u001b[0m \u001b[32m━━━━━━━━━━━━━━━━━━━━\u001b[0m\u001b[37m\u001b[0m \u001b[1m6s\u001b[0m 14ms/step - loss: 0.9804 - mse: 0.9804 - val_loss: 0.9727 - val_mse: 0.9727\n",
      "Epoch 36/50\n",
      "\u001b[1m436/436\u001b[0m \u001b[32m━━━━━━━━━━━━━━━━━━━━\u001b[0m\u001b[37m\u001b[0m \u001b[1m6s\u001b[0m 14ms/step - loss: 0.9737 - mse: 0.9737 - val_loss: 0.9751 - val_mse: 0.9751\n",
      "Epoch 37/50\n",
      "\u001b[1m436/436\u001b[0m \u001b[32m━━━━━━━━━━━━━━━━━━━━\u001b[0m\u001b[37m\u001b[0m \u001b[1m6s\u001b[0m 14ms/step - loss: 0.9785 - mse: 0.9785 - val_loss: 0.9775 - val_mse: 0.9775\n",
      "Epoch 38/50\n",
      "\u001b[1m436/436\u001b[0m \u001b[32m━━━━━━━━━━━━━━━━━━━━\u001b[0m\u001b[37m\u001b[0m \u001b[1m10s\u001b[0m 14ms/step - loss: 0.9795 - mse: 0.9795 - val_loss: 0.9738 - val_mse: 0.9738\n",
      "Epoch 39/50\n",
      "\u001b[1m436/436\u001b[0m \u001b[32m━━━━━━━━━━━━━━━━━━━━\u001b[0m\u001b[37m\u001b[0m \u001b[1m6s\u001b[0m 14ms/step - loss: 0.9750 - mse: 0.9750 - val_loss: 0.9686 - val_mse: 0.9686\n",
      "Epoch 40/50\n",
      "\u001b[1m436/436\u001b[0m \u001b[32m━━━━━━━━━━━━━━━━━━━━\u001b[0m\u001b[37m\u001b[0m \u001b[1m6s\u001b[0m 14ms/step - loss: 0.9758 - mse: 0.9758 - val_loss: 0.9771 - val_mse: 0.9771\n",
      "Epoch 41/50\n",
      "\u001b[1m436/436\u001b[0m \u001b[32m━━━━━━━━━━━━━━━━━━━━\u001b[0m\u001b[37m\u001b[0m \u001b[1m6s\u001b[0m 14ms/step - loss: 0.9840 - mse: 0.9840 - val_loss: 0.9787 - val_mse: 0.9787\n",
      "Epoch 42/50\n",
      "\u001b[1m436/436\u001b[0m \u001b[32m━━━━━━━━━━━━━━━━━━━━\u001b[0m\u001b[37m\u001b[0m \u001b[1m6s\u001b[0m 14ms/step - loss: 0.9796 - mse: 0.9796 - val_loss: 0.9788 - val_mse: 0.9788\n",
      "Epoch 43/50\n",
      "\u001b[1m436/436\u001b[0m \u001b[32m━━━━━━━━━━━━━━━━━━━━\u001b[0m\u001b[37m\u001b[0m \u001b[1m6s\u001b[0m 14ms/step - loss: 0.9854 - mse: 0.9854 - val_loss: 0.9793 - val_mse: 0.9793\n",
      "Epoch 44/50\n",
      "\u001b[1m436/436\u001b[0m \u001b[32m━━━━━━━━━━━━━━━━━━━━\u001b[0m\u001b[37m\u001b[0m \u001b[1m6s\u001b[0m 14ms/step - loss: 0.9830 - mse: 0.9830 - val_loss: 0.9769 - val_mse: 0.9769\n",
      "Epoch 45/50\n",
      "\u001b[1m436/436\u001b[0m \u001b[32m━━━━━━━━━━━━━━━━━━━━\u001b[0m\u001b[37m\u001b[0m \u001b[1m6s\u001b[0m 14ms/step - loss: 0.9761 - mse: 0.9761 - val_loss: 0.9814 - val_mse: 0.9814\n",
      "Epoch 46/50\n",
      "\u001b[1m436/436\u001b[0m \u001b[32m━━━━━━━━━━━━━━━━━━━━\u001b[0m\u001b[37m\u001b[0m \u001b[1m6s\u001b[0m 14ms/step - loss: 0.9842 - mse: 0.9842 - val_loss: 0.9788 - val_mse: 0.9788\n",
      "Epoch 47/50\n",
      "\u001b[1m436/436\u001b[0m \u001b[32m━━━━━━━━━━━━━━━━━━━━\u001b[0m\u001b[37m\u001b[0m \u001b[1m6s\u001b[0m 14ms/step - loss: 0.9801 - mse: 0.9801 - val_loss: 0.9709 - val_mse: 0.9709\n",
      "Epoch 48/50\n",
      "\u001b[1m436/436\u001b[0m \u001b[32m━━━━━━━━━━━━━━━━━━━━\u001b[0m\u001b[37m\u001b[0m \u001b[1m6s\u001b[0m 14ms/step - loss: 0.9734 - mse: 0.9734 - val_loss: 0.9737 - val_mse: 0.9737\n",
      "Epoch 49/50\n",
      "\u001b[1m436/436\u001b[0m \u001b[32m━━━━━━━━━━━━━━━━━━━━\u001b[0m\u001b[37m\u001b[0m \u001b[1m6s\u001b[0m 14ms/step - loss: 0.9794 - mse: 0.9794 - val_loss: 0.9792 - val_mse: 0.9792\n",
      "Epoch 50/50\n",
      "\u001b[1m436/436\u001b[0m \u001b[32m━━━━━━━━━━━━━━━━━━━━\u001b[0m\u001b[37m\u001b[0m \u001b[1m6s\u001b[0m 14ms/step - loss: 0.9836 - mse: 0.9836 - val_loss: 0.9772 - val_mse: 0.9772\n"
     ]
    }
   ],
   "source": [
    "history_2 = model.fit(X_train, Y_train, epochs=50, batch_size=64, validation_data=(X_val, Y_val))"
   ]
  },
  {
   "cell_type": "code",
   "execution_count": 21,
   "id": "c566fd71-1c78-48ba-bfcb-d08442c4580c",
   "metadata": {},
   "outputs": [
    {
     "name": "stdout",
     "output_type": "stream",
     "text": [
      "Epoch 1/50\n",
      "\u001b[1m436/436\u001b[0m \u001b[32m━━━━━━━━━━━━━━━━━━━━\u001b[0m\u001b[37m\u001b[0m \u001b[1m6s\u001b[0m 14ms/step - loss: 0.9815 - mse: 0.9815 - val_loss: 0.9768 - val_mse: 0.9768\n",
      "Epoch 2/50\n",
      "\u001b[1m436/436\u001b[0m \u001b[32m━━━━━━━━━━━━━━━━━━━━\u001b[0m\u001b[37m\u001b[0m \u001b[1m6s\u001b[0m 13ms/step - loss: 0.9786 - mse: 0.9786 - val_loss: 0.9758 - val_mse: 0.9758\n",
      "Epoch 3/50\n",
      "\u001b[1m436/436\u001b[0m \u001b[32m━━━━━━━━━━━━━━━━━━━━\u001b[0m\u001b[37m\u001b[0m \u001b[1m6s\u001b[0m 14ms/step - loss: 0.9818 - mse: 0.9818 - val_loss: 0.9761 - val_mse: 0.9761\n",
      "Epoch 4/50\n",
      "\u001b[1m436/436\u001b[0m \u001b[32m━━━━━━━━━━━━━━━━━━━━\u001b[0m\u001b[37m\u001b[0m \u001b[1m6s\u001b[0m 14ms/step - loss: 0.9833 - mse: 0.9833 - val_loss: 0.9770 - val_mse: 0.9770\n",
      "Epoch 5/50\n",
      "\u001b[1m436/436\u001b[0m \u001b[32m━━━━━━━━━━━━━━━━━━━━\u001b[0m\u001b[37m\u001b[0m \u001b[1m6s\u001b[0m 14ms/step - loss: 0.9804 - mse: 0.9804 - val_loss: 0.9731 - val_mse: 0.9731\n",
      "Epoch 6/50\n",
      "\u001b[1m436/436\u001b[0m \u001b[32m━━━━━━━━━━━━━━━━━━━━\u001b[0m\u001b[37m\u001b[0m \u001b[1m6s\u001b[0m 14ms/step - loss: 0.9792 - mse: 0.9792 - val_loss: 0.9702 - val_mse: 0.9702\n",
      "Epoch 7/50\n",
      "\u001b[1m436/436\u001b[0m \u001b[32m━━━━━━━━━━━━━━━━━━━━\u001b[0m\u001b[37m\u001b[0m \u001b[1m6s\u001b[0m 14ms/step - loss: 0.9792 - mse: 0.9792 - val_loss: 0.9754 - val_mse: 0.9754\n",
      "Epoch 8/50\n",
      "\u001b[1m436/436\u001b[0m \u001b[32m━━━━━━━━━━━━━━━━━━━━\u001b[0m\u001b[37m\u001b[0m \u001b[1m6s\u001b[0m 14ms/step - loss: 0.9781 - mse: 0.9781 - val_loss: 0.9770 - val_mse: 0.9770\n",
      "Epoch 9/50\n",
      "\u001b[1m436/436\u001b[0m \u001b[32m━━━━━━━━━━━━━━━━━━━━\u001b[0m\u001b[37m\u001b[0m \u001b[1m6s\u001b[0m 14ms/step - loss: 0.9823 - mse: 0.9823 - val_loss: 0.9770 - val_mse: 0.9770\n",
      "Epoch 10/50\n",
      "\u001b[1m436/436\u001b[0m \u001b[32m━━━━━━━━━━━━━━━━━━━━\u001b[0m\u001b[37m\u001b[0m \u001b[1m6s\u001b[0m 15ms/step - loss: 0.9788 - mse: 0.9788 - val_loss: 0.9772 - val_mse: 0.9772\n",
      "Epoch 11/50\n",
      "\u001b[1m436/436\u001b[0m \u001b[32m━━━━━━━━━━━━━━━━━━━━\u001b[0m\u001b[37m\u001b[0m \u001b[1m6s\u001b[0m 13ms/step - loss: 0.9776 - mse: 0.9776 - val_loss: 0.9763 - val_mse: 0.9763\n",
      "Epoch 12/50\n",
      "\u001b[1m436/436\u001b[0m \u001b[32m━━━━━━━━━━━━━━━━━━━━\u001b[0m\u001b[37m\u001b[0m \u001b[1m6s\u001b[0m 13ms/step - loss: 0.9784 - mse: 0.9784 - val_loss: 0.9737 - val_mse: 0.9737\n",
      "Epoch 13/50\n",
      "\u001b[1m436/436\u001b[0m \u001b[32m━━━━━━━━━━━━━━━━━━━━\u001b[0m\u001b[37m\u001b[0m \u001b[1m6s\u001b[0m 14ms/step - loss: 0.9798 - mse: 0.9798 - val_loss: 0.9769 - val_mse: 0.9769\n",
      "Epoch 14/50\n",
      "\u001b[1m436/436\u001b[0m \u001b[32m━━━━━━━━━━━━━━━━━━━━\u001b[0m\u001b[37m\u001b[0m \u001b[1m6s\u001b[0m 14ms/step - loss: 0.9837 - mse: 0.9837 - val_loss: 0.9706 - val_mse: 0.9706\n",
      "Epoch 15/50\n",
      "\u001b[1m436/436\u001b[0m \u001b[32m━━━━━━━━━━━━━━━━━━━━\u001b[0m\u001b[37m\u001b[0m \u001b[1m6s\u001b[0m 13ms/step - loss: 0.9767 - mse: 0.9767 - val_loss: 0.9848 - val_mse: 0.9848\n",
      "Epoch 16/50\n",
      "\u001b[1m436/436\u001b[0m \u001b[32m━━━━━━━━━━━━━━━━━━━━\u001b[0m\u001b[37m\u001b[0m \u001b[1m6s\u001b[0m 14ms/step - loss: 0.9833 - mse: 0.9833 - val_loss: 0.9750 - val_mse: 0.9750\n",
      "Epoch 17/50\n",
      "\u001b[1m436/436\u001b[0m \u001b[32m━━━━━━━━━━━━━━━━━━━━\u001b[0m\u001b[37m\u001b[0m \u001b[1m6s\u001b[0m 14ms/step - loss: 0.9788 - mse: 0.9788 - val_loss: 0.9758 - val_mse: 0.9758\n",
      "Epoch 18/50\n",
      "\u001b[1m436/436\u001b[0m \u001b[32m━━━━━━━━━━━━━━━━━━━━\u001b[0m\u001b[37m\u001b[0m \u001b[1m6s\u001b[0m 15ms/step - loss: 0.9779 - mse: 0.9779 - val_loss: 0.9766 - val_mse: 0.9766\n",
      "Epoch 19/50\n",
      "\u001b[1m436/436\u001b[0m \u001b[32m━━━━━━━━━━━━━━━━━━━━\u001b[0m\u001b[37m\u001b[0m \u001b[1m6s\u001b[0m 14ms/step - loss: 0.9846 - mse: 0.9846 - val_loss: 0.9813 - val_mse: 0.9813\n",
      "Epoch 20/50\n",
      "\u001b[1m436/436\u001b[0m \u001b[32m━━━━━━━━━━━━━━━━━━━━\u001b[0m\u001b[37m\u001b[0m \u001b[1m6s\u001b[0m 14ms/step - loss: 0.9844 - mse: 0.9844 - val_loss: 0.9805 - val_mse: 0.9805\n",
      "Epoch 21/50\n",
      "\u001b[1m436/436\u001b[0m \u001b[32m━━━━━━━━━━━━━━━━━━━━\u001b[0m\u001b[37m\u001b[0m \u001b[1m6s\u001b[0m 14ms/step - loss: 0.9854 - mse: 0.9854 - val_loss: 0.9761 - val_mse: 0.9761\n",
      "Epoch 22/50\n",
      "\u001b[1m436/436\u001b[0m \u001b[32m━━━━━━━━━━━━━━━━━━━━\u001b[0m\u001b[37m\u001b[0m \u001b[1m6s\u001b[0m 14ms/step - loss: 0.9810 - mse: 0.9810 - val_loss: 0.9765 - val_mse: 0.9765\n",
      "Epoch 23/50\n",
      "\u001b[1m436/436\u001b[0m \u001b[32m━━━━━━━━━━━━━━━━━━━━\u001b[0m\u001b[37m\u001b[0m \u001b[1m6s\u001b[0m 14ms/step - loss: 0.9838 - mse: 0.9838 - val_loss: 0.9764 - val_mse: 0.9764\n",
      "Epoch 24/50\n",
      "\u001b[1m436/436\u001b[0m \u001b[32m━━━━━━━━━━━━━━━━━━━━\u001b[0m\u001b[37m\u001b[0m \u001b[1m6s\u001b[0m 13ms/step - loss: 0.9808 - mse: 0.9808 - val_loss: 0.9753 - val_mse: 0.9753\n",
      "Epoch 25/50\n",
      "\u001b[1m436/436\u001b[0m \u001b[32m━━━━━━━━━━━━━━━━━━━━\u001b[0m\u001b[37m\u001b[0m \u001b[1m6s\u001b[0m 13ms/step - loss: 0.9759 - mse: 0.9759 - val_loss: 0.9757 - val_mse: 0.9757\n",
      "Epoch 26/50\n",
      "\u001b[1m436/436\u001b[0m \u001b[32m━━━━━━━━━━━━━━━━━━━━\u001b[0m\u001b[37m\u001b[0m \u001b[1m6s\u001b[0m 13ms/step - loss: 0.9761 - mse: 0.9761 - val_loss: 0.9771 - val_mse: 0.9771\n",
      "Epoch 27/50\n",
      "\u001b[1m436/436\u001b[0m \u001b[32m━━━━━━━━━━━━━━━━━━━━\u001b[0m\u001b[37m\u001b[0m \u001b[1m6s\u001b[0m 13ms/step - loss: 0.9785 - mse: 0.9785 - val_loss: 0.9764 - val_mse: 0.9764\n",
      "Epoch 28/50\n",
      "\u001b[1m436/436\u001b[0m \u001b[32m━━━━━━━━━━━━━━━━━━━━\u001b[0m\u001b[37m\u001b[0m \u001b[1m6s\u001b[0m 14ms/step - loss: 0.9812 - mse: 0.9812 - val_loss: 0.9771 - val_mse: 0.9771\n",
      "Epoch 29/50\n",
      "\u001b[1m436/436\u001b[0m \u001b[32m━━━━━━━━━━━━━━━━━━━━\u001b[0m\u001b[37m\u001b[0m \u001b[1m6s\u001b[0m 14ms/step - loss: 0.9809 - mse: 0.9809 - val_loss: 0.9772 - val_mse: 0.9772\n",
      "Epoch 30/50\n",
      "\u001b[1m436/436\u001b[0m \u001b[32m━━━━━━━━━━━━━━━━━━━━\u001b[0m\u001b[37m\u001b[0m \u001b[1m6s\u001b[0m 14ms/step - loss: 0.9807 - mse: 0.9807 - val_loss: 0.9755 - val_mse: 0.9755\n",
      "Epoch 31/50\n",
      "\u001b[1m436/436\u001b[0m \u001b[32m━━━━━━━━━━━━━━━━━━━━\u001b[0m\u001b[37m\u001b[0m \u001b[1m6s\u001b[0m 14ms/step - loss: 0.9828 - mse: 0.9828 - val_loss: 0.9764 - val_mse: 0.9764\n",
      "Epoch 32/50\n",
      "\u001b[1m436/436\u001b[0m \u001b[32m━━━━━━━━━━━━━━━━━━━━\u001b[0m\u001b[37m\u001b[0m \u001b[1m6s\u001b[0m 13ms/step - loss: 0.9795 - mse: 0.9795 - val_loss: 0.9788 - val_mse: 0.9788\n",
      "Epoch 33/50\n",
      "\u001b[1m436/436\u001b[0m \u001b[32m━━━━━━━━━━━━━━━━━━━━\u001b[0m\u001b[37m\u001b[0m \u001b[1m6s\u001b[0m 13ms/step - loss: 0.9806 - mse: 0.9806 - val_loss: 0.9754 - val_mse: 0.9754\n",
      "Epoch 34/50\n",
      "\u001b[1m436/436\u001b[0m \u001b[32m━━━━━━━━━━━━━━━━━━━━\u001b[0m\u001b[37m\u001b[0m \u001b[1m6s\u001b[0m 13ms/step - loss: 0.9816 - mse: 0.9816 - val_loss: 0.9739 - val_mse: 0.9739\n",
      "Epoch 35/50\n",
      "\u001b[1m436/436\u001b[0m \u001b[32m━━━━━━━━━━━━━━━━━━━━\u001b[0m\u001b[37m\u001b[0m \u001b[1m6s\u001b[0m 13ms/step - loss: 0.9822 - mse: 0.9822 - val_loss: 0.9695 - val_mse: 0.9695\n",
      "Epoch 36/50\n",
      "\u001b[1m436/436\u001b[0m \u001b[32m━━━━━━━━━━━━━━━━━━━━\u001b[0m\u001b[37m\u001b[0m \u001b[1m6s\u001b[0m 14ms/step - loss: 0.9831 - mse: 0.9831 - val_loss: 0.9764 - val_mse: 0.9764\n",
      "Epoch 37/50\n",
      "\u001b[1m436/436\u001b[0m \u001b[32m━━━━━━━━━━━━━━━━━━━━\u001b[0m\u001b[37m\u001b[0m \u001b[1m6s\u001b[0m 14ms/step - loss: 0.9791 - mse: 0.9791 - val_loss: 0.9775 - val_mse: 0.9775\n",
      "Epoch 38/50\n",
      "\u001b[1m436/436\u001b[0m \u001b[32m━━━━━━━━━━━━━━━━━━━━\u001b[0m\u001b[37m\u001b[0m \u001b[1m6s\u001b[0m 14ms/step - loss: 0.9772 - mse: 0.9772 - val_loss: 0.9779 - val_mse: 0.9779\n",
      "Epoch 39/50\n",
      "\u001b[1m436/436\u001b[0m \u001b[32m━━━━━━━━━━━━━━━━━━━━\u001b[0m\u001b[37m\u001b[0m \u001b[1m6s\u001b[0m 14ms/step - loss: 0.9796 - mse: 0.9796 - val_loss: 0.9752 - val_mse: 0.9752\n",
      "Epoch 40/50\n",
      "\u001b[1m436/436\u001b[0m \u001b[32m━━━━━━━━━━━━━━━━━━━━\u001b[0m\u001b[37m\u001b[0m \u001b[1m6s\u001b[0m 14ms/step - loss: 0.9812 - mse: 0.9812 - val_loss: 0.9758 - val_mse: 0.9758\n",
      "Epoch 41/50\n",
      "\u001b[1m436/436\u001b[0m \u001b[32m━━━━━━━━━━━━━━━━━━━━\u001b[0m\u001b[37m\u001b[0m \u001b[1m6s\u001b[0m 14ms/step - loss: 0.9786 - mse: 0.9786 - val_loss: 0.9753 - val_mse: 0.9753\n",
      "Epoch 42/50\n",
      "\u001b[1m436/436\u001b[0m \u001b[32m━━━━━━━━━━━━━━━━━━━━\u001b[0m\u001b[37m\u001b[0m \u001b[1m6s\u001b[0m 14ms/step - loss: 0.9806 - mse: 0.9806 - val_loss: 0.9767 - val_mse: 0.9767\n",
      "Epoch 43/50\n",
      "\u001b[1m436/436\u001b[0m \u001b[32m━━━━━━━━━━━━━━━━━━━━\u001b[0m\u001b[37m\u001b[0m \u001b[1m6s\u001b[0m 14ms/step - loss: 0.9774 - mse: 0.9774 - val_loss: 0.9751 - val_mse: 0.9751\n",
      "Epoch 44/50\n",
      "\u001b[1m436/436\u001b[0m \u001b[32m━━━━━━━━━━━━━━━━━━━━\u001b[0m\u001b[37m\u001b[0m \u001b[1m6s\u001b[0m 14ms/step - loss: 0.9769 - mse: 0.9769 - val_loss: 0.9816 - val_mse: 0.9816\n",
      "Epoch 45/50\n",
      "\u001b[1m436/436\u001b[0m \u001b[32m━━━━━━━━━━━━━━━━━━━━\u001b[0m\u001b[37m\u001b[0m \u001b[1m6s\u001b[0m 14ms/step - loss: 0.9824 - mse: 0.9824 - val_loss: 0.9748 - val_mse: 0.9748\n",
      "Epoch 46/50\n",
      "\u001b[1m436/436\u001b[0m \u001b[32m━━━━━━━━━━━━━━━━━━━━\u001b[0m\u001b[37m\u001b[0m \u001b[1m6s\u001b[0m 14ms/step - loss: 0.9732 - mse: 0.9732 - val_loss: 0.9742 - val_mse: 0.9742\n",
      "Epoch 47/50\n",
      "\u001b[1m436/436\u001b[0m \u001b[32m━━━━━━━━━━━━━━━━━━━━\u001b[0m\u001b[37m\u001b[0m \u001b[1m10s\u001b[0m 13ms/step - loss: 0.9763 - mse: 0.9763 - val_loss: 0.9757 - val_mse: 0.9757\n",
      "Epoch 48/50\n",
      "\u001b[1m436/436\u001b[0m \u001b[32m━━━━━━━━━━━━━━━━━━━━\u001b[0m\u001b[37m\u001b[0m \u001b[1m6s\u001b[0m 14ms/step - loss: 0.9801 - mse: 0.9801 - val_loss: 0.9719 - val_mse: 0.9719\n",
      "Epoch 49/50\n",
      "\u001b[1m436/436\u001b[0m \u001b[32m━━━━━━━━━━━━━━━━━━━━\u001b[0m\u001b[37m\u001b[0m \u001b[1m6s\u001b[0m 14ms/step - loss: 0.9784 - mse: 0.9784 - val_loss: 0.9755 - val_mse: 0.9755\n",
      "Epoch 50/50\n",
      "\u001b[1m436/436\u001b[0m \u001b[32m━━━━━━━━━━━━━━━━━━━━\u001b[0m\u001b[37m\u001b[0m \u001b[1m6s\u001b[0m 14ms/step - loss: 0.9788 - mse: 0.9788 - val_loss: 0.9763 - val_mse: 0.9763\n"
     ]
    }
   ],
   "source": [
    "history_3 = model.fit(X_train, Y_train, epochs=50, batch_size=64, validation_data=(X_val, Y_val))"
   ]
  },
  {
   "cell_type": "code",
   "execution_count": 22,
   "id": "84311029-1c78-4fc8-85dc-95a9fae84a63",
   "metadata": {},
   "outputs": [
    {
     "name": "stdout",
     "output_type": "stream",
     "text": [
      "Epoch 1/50\n",
      "\u001b[1m436/436\u001b[0m \u001b[32m━━━━━━━━━━━━━━━━━━━━\u001b[0m\u001b[37m\u001b[0m \u001b[1m6s\u001b[0m 14ms/step - loss: 0.9786 - mse: 0.9786 - val_loss: 0.9735 - val_mse: 0.9735\n",
      "Epoch 2/50\n",
      "\u001b[1m436/436\u001b[0m \u001b[32m━━━━━━━━━━━━━━━━━━━━\u001b[0m\u001b[37m\u001b[0m \u001b[1m6s\u001b[0m 14ms/step - loss: 0.9734 - mse: 0.9734 - val_loss: 0.9731 - val_mse: 0.9731\n",
      "Epoch 3/50\n",
      "\u001b[1m436/436\u001b[0m \u001b[32m━━━━━━━━━━━━━━━━━━━━\u001b[0m\u001b[37m\u001b[0m \u001b[1m6s\u001b[0m 14ms/step - loss: 0.9775 - mse: 0.9775 - val_loss: 0.9709 - val_mse: 0.9709\n",
      "Epoch 4/50\n",
      "\u001b[1m436/436\u001b[0m \u001b[32m━━━━━━━━━━━━━━━━━━━━\u001b[0m\u001b[37m\u001b[0m \u001b[1m6s\u001b[0m 14ms/step - loss: 0.9731 - mse: 0.9731 - val_loss: 0.9775 - val_mse: 0.9775\n",
      "Epoch 5/50\n",
      "\u001b[1m436/436\u001b[0m \u001b[32m━━━━━━━━━━━━━━━━━━━━\u001b[0m\u001b[37m\u001b[0m \u001b[1m6s\u001b[0m 14ms/step - loss: 0.9764 - mse: 0.9764 - val_loss: 0.9724 - val_mse: 0.9724\n",
      "Epoch 6/50\n",
      "\u001b[1m436/436\u001b[0m \u001b[32m━━━━━━━━━━━━━━━━━━━━\u001b[0m\u001b[37m\u001b[0m \u001b[1m6s\u001b[0m 14ms/step - loss: 0.9782 - mse: 0.9782 - val_loss: 0.9707 - val_mse: 0.9707\n",
      "Epoch 7/50\n",
      "\u001b[1m436/436\u001b[0m \u001b[32m━━━━━━━━━━━━━━━━━━━━\u001b[0m\u001b[37m\u001b[0m \u001b[1m6s\u001b[0m 14ms/step - loss: 0.9743 - mse: 0.9743 - val_loss: 0.9761 - val_mse: 0.9761\n",
      "Epoch 8/50\n",
      "\u001b[1m436/436\u001b[0m \u001b[32m━━━━━━━━━━━━━━━━━━━━\u001b[0m\u001b[37m\u001b[0m \u001b[1m6s\u001b[0m 14ms/step - loss: 0.9759 - mse: 0.9759 - val_loss: 0.9716 - val_mse: 0.9716\n",
      "Epoch 9/50\n",
      "\u001b[1m436/436\u001b[0m \u001b[32m━━━━━━━━━━━━━━━━━━━━\u001b[0m\u001b[37m\u001b[0m \u001b[1m6s\u001b[0m 14ms/step - loss: 0.9764 - mse: 0.9764 - val_loss: 0.9714 - val_mse: 0.9714\n",
      "Epoch 10/50\n",
      "\u001b[1m436/436\u001b[0m \u001b[32m━━━━━━━━━━━━━━━━━━━━\u001b[0m\u001b[37m\u001b[0m \u001b[1m6s\u001b[0m 14ms/step - loss: 0.9736 - mse: 0.9736 - val_loss: 0.9685 - val_mse: 0.9685\n",
      "Epoch 11/50\n",
      "\u001b[1m436/436\u001b[0m \u001b[32m━━━━━━━━━━━━━━━━━━━━\u001b[0m\u001b[37m\u001b[0m \u001b[1m6s\u001b[0m 14ms/step - loss: 0.9730 - mse: 0.9730 - val_loss: 0.9720 - val_mse: 0.9720\n",
      "Epoch 12/50\n",
      "\u001b[1m436/436\u001b[0m \u001b[32m━━━━━━━━━━━━━━━━━━━━\u001b[0m\u001b[37m\u001b[0m \u001b[1m6s\u001b[0m 14ms/step - loss: 0.9749 - mse: 0.9749 - val_loss: 0.9697 - val_mse: 0.9697\n",
      "Epoch 13/50\n",
      "\u001b[1m436/436\u001b[0m \u001b[32m━━━━━━━━━━━━━━━━━━━━\u001b[0m\u001b[37m\u001b[0m \u001b[1m6s\u001b[0m 14ms/step - loss: 0.9720 - mse: 0.9720 - val_loss: 0.9706 - val_mse: 0.9706\n",
      "Epoch 14/50\n",
      "\u001b[1m436/436\u001b[0m \u001b[32m━━━━━━━━━━━━━━━━━━━━\u001b[0m\u001b[37m\u001b[0m \u001b[1m6s\u001b[0m 14ms/step - loss: 0.9759 - mse: 0.9759 - val_loss: 0.9685 - val_mse: 0.9685\n",
      "Epoch 15/50\n",
      "\u001b[1m436/436\u001b[0m \u001b[32m━━━━━━━━━━━━━━━━━━━━\u001b[0m\u001b[37m\u001b[0m \u001b[1m6s\u001b[0m 14ms/step - loss: 0.9712 - mse: 0.9712 - val_loss: 0.9703 - val_mse: 0.9703\n",
      "Epoch 16/50\n",
      "\u001b[1m436/436\u001b[0m \u001b[32m━━━━━━━━━━━━━━━━━━━━\u001b[0m\u001b[37m\u001b[0m \u001b[1m6s\u001b[0m 14ms/step - loss: 0.9803 - mse: 0.9803 - val_loss: 0.9699 - val_mse: 0.9699\n",
      "Epoch 17/50\n",
      "\u001b[1m436/436\u001b[0m \u001b[32m━━━━━━━━━━━━━━━━━━━━\u001b[0m\u001b[37m\u001b[0m \u001b[1m6s\u001b[0m 14ms/step - loss: 0.9754 - mse: 0.9754 - val_loss: 0.9774 - val_mse: 0.9774\n",
      "Epoch 18/50\n",
      "\u001b[1m436/436\u001b[0m \u001b[32m━━━━━━━━━━━━━━━━━━━━\u001b[0m\u001b[37m\u001b[0m \u001b[1m6s\u001b[0m 14ms/step - loss: 0.9831 - mse: 0.9831 - val_loss: 0.9772 - val_mse: 0.9772\n",
      "Epoch 19/50\n",
      "\u001b[1m436/436\u001b[0m \u001b[32m━━━━━━━━━━━━━━━━━━━━\u001b[0m\u001b[37m\u001b[0m \u001b[1m6s\u001b[0m 14ms/step - loss: 0.9804 - mse: 0.9804 - val_loss: 0.9773 - val_mse: 0.9773\n",
      "Epoch 20/50\n",
      "\u001b[1m436/436\u001b[0m \u001b[32m━━━━━━━━━━━━━━━━━━━━\u001b[0m\u001b[37m\u001b[0m \u001b[1m6s\u001b[0m 14ms/step - loss: 0.9810 - mse: 0.9810 - val_loss: 0.9779 - val_mse: 0.9779\n",
      "Epoch 21/50\n",
      "\u001b[1m436/436\u001b[0m \u001b[32m━━━━━━━━━━━━━━━━━━━━\u001b[0m\u001b[37m\u001b[0m \u001b[1m6s\u001b[0m 14ms/step - loss: 0.9793 - mse: 0.9793 - val_loss: 0.9785 - val_mse: 0.9785\n",
      "Epoch 22/50\n",
      "\u001b[1m436/436\u001b[0m \u001b[32m━━━━━━━━━━━━━━━━━━━━\u001b[0m\u001b[37m\u001b[0m \u001b[1m6s\u001b[0m 14ms/step - loss: 0.9748 - mse: 0.9748 - val_loss: 0.9773 - val_mse: 0.9773\n",
      "Epoch 23/50\n",
      "\u001b[1m436/436\u001b[0m \u001b[32m━━━━━━━━━━━━━━━━━━━━\u001b[0m\u001b[37m\u001b[0m \u001b[1m6s\u001b[0m 14ms/step - loss: 0.9810 - mse: 0.9810 - val_loss: 0.9775 - val_mse: 0.9775\n",
      "Epoch 24/50\n",
      "\u001b[1m436/436\u001b[0m \u001b[32m━━━━━━━━━━━━━━━━━━━━\u001b[0m\u001b[37m\u001b[0m \u001b[1m6s\u001b[0m 13ms/step - loss: 0.9816 - mse: 0.9816 - val_loss: 0.9698 - val_mse: 0.9698\n",
      "Epoch 25/50\n",
      "\u001b[1m436/436\u001b[0m \u001b[32m━━━━━━━━━━━━━━━━━━━━\u001b[0m\u001b[37m\u001b[0m \u001b[1m6s\u001b[0m 14ms/step - loss: 0.9761 - mse: 0.9761 - val_loss: 0.9789 - val_mse: 0.9789\n",
      "Epoch 26/50\n",
      "\u001b[1m436/436\u001b[0m \u001b[32m━━━━━━━━━━━━━━━━━━━━\u001b[0m\u001b[37m\u001b[0m \u001b[1m6s\u001b[0m 13ms/step - loss: 0.9801 - mse: 0.9801 - val_loss: 0.9765 - val_mse: 0.9765\n",
      "Epoch 27/50\n",
      "\u001b[1m436/436\u001b[0m \u001b[32m━━━━━━━━━━━━━━━━━━━━\u001b[0m\u001b[37m\u001b[0m \u001b[1m6s\u001b[0m 13ms/step - loss: 0.9818 - mse: 0.9818 - val_loss: 0.9769 - val_mse: 0.9769\n",
      "Epoch 28/50\n",
      "\u001b[1m436/436\u001b[0m \u001b[32m━━━━━━━━━━━━━━━━━━━━\u001b[0m\u001b[37m\u001b[0m \u001b[1m6s\u001b[0m 14ms/step - loss: 0.9791 - mse: 0.9791 - val_loss: 0.9765 - val_mse: 0.9765\n",
      "Epoch 29/50\n",
      "\u001b[1m436/436\u001b[0m \u001b[32m━━━━━━━━━━━━━━━━━━━━\u001b[0m\u001b[37m\u001b[0m \u001b[1m6s\u001b[0m 14ms/step - loss: 0.9821 - mse: 0.9821 - val_loss: 0.9767 - val_mse: 0.9767\n",
      "Epoch 30/50\n",
      "\u001b[1m436/436\u001b[0m \u001b[32m━━━━━━━━━━━━━━━━━━━━\u001b[0m\u001b[37m\u001b[0m \u001b[1m6s\u001b[0m 14ms/step - loss: 0.9786 - mse: 0.9786 - val_loss: 0.9759 - val_mse: 0.9759\n",
      "Epoch 31/50\n",
      "\u001b[1m436/436\u001b[0m \u001b[32m━━━━━━━━━━━━━━━━━━━━\u001b[0m\u001b[37m\u001b[0m \u001b[1m6s\u001b[0m 13ms/step - loss: 0.9743 - mse: 0.9743 - val_loss: 0.9762 - val_mse: 0.9762\n",
      "Epoch 32/50\n",
      "\u001b[1m436/436\u001b[0m \u001b[32m━━━━━━━━━━━━━━━━━━━━\u001b[0m\u001b[37m\u001b[0m \u001b[1m6s\u001b[0m 13ms/step - loss: 0.9781 - mse: 0.9781 - val_loss: 0.9766 - val_mse: 0.9766\n",
      "Epoch 33/50\n",
      "\u001b[1m436/436\u001b[0m \u001b[32m━━━━━━━━━━━━━━━━━━━━\u001b[0m\u001b[37m\u001b[0m \u001b[1m6s\u001b[0m 14ms/step - loss: 0.9811 - mse: 0.9811 - val_loss: 0.9764 - val_mse: 0.9764\n",
      "Epoch 34/50\n",
      "\u001b[1m436/436\u001b[0m \u001b[32m━━━━━━━━━━━━━━━━━━━━\u001b[0m\u001b[37m\u001b[0m \u001b[1m6s\u001b[0m 14ms/step - loss: 0.9788 - mse: 0.9788 - val_loss: 0.9768 - val_mse: 0.9768\n",
      "Epoch 35/50\n",
      "\u001b[1m436/436\u001b[0m \u001b[32m━━━━━━━━━━━━━━━━━━━━\u001b[0m\u001b[37m\u001b[0m \u001b[1m6s\u001b[0m 14ms/step - loss: 0.9874 - mse: 0.9874 - val_loss: 0.9880 - val_mse: 0.9880\n",
      "Epoch 36/50\n",
      "\u001b[1m436/436\u001b[0m \u001b[32m━━━━━━━━━━━━━━━━━━━━\u001b[0m\u001b[37m\u001b[0m \u001b[1m6s\u001b[0m 14ms/step - loss: 0.9915 - mse: 0.9915 - val_loss: 0.9848 - val_mse: 0.9848\n",
      "Epoch 37/50\n",
      "\u001b[1m436/436\u001b[0m \u001b[32m━━━━━━━━━━━━━━━━━━━━\u001b[0m\u001b[37m\u001b[0m \u001b[1m6s\u001b[0m 14ms/step - loss: 0.9877 - mse: 0.9877 - val_loss: 0.9761 - val_mse: 0.9761\n",
      "Epoch 38/50\n",
      "\u001b[1m436/436\u001b[0m \u001b[32m━━━━━━━━━━━━━━━━━━━━\u001b[0m\u001b[37m\u001b[0m \u001b[1m6s\u001b[0m 14ms/step - loss: 0.9795 - mse: 0.9795 - val_loss: 0.9786 - val_mse: 0.9786\n",
      "Epoch 39/50\n",
      "\u001b[1m436/436\u001b[0m \u001b[32m━━━━━━━━━━━━━━━━━━━━\u001b[0m\u001b[37m\u001b[0m \u001b[1m6s\u001b[0m 14ms/step - loss: 0.9844 - mse: 0.9844 - val_loss: 0.9778 - val_mse: 0.9778\n",
      "Epoch 40/50\n",
      "\u001b[1m436/436\u001b[0m \u001b[32m━━━━━━━━━━━━━━━━━━━━\u001b[0m\u001b[37m\u001b[0m \u001b[1m6s\u001b[0m 14ms/step - loss: 0.9846 - mse: 0.9846 - val_loss: 0.9751 - val_mse: 0.9751\n",
      "Epoch 41/50\n",
      "\u001b[1m436/436\u001b[0m \u001b[32m━━━━━━━━━━━━━━━━━━━━\u001b[0m\u001b[37m\u001b[0m \u001b[1m6s\u001b[0m 14ms/step - loss: 0.9766 - mse: 0.9766 - val_loss: 0.9736 - val_mse: 0.9736\n",
      "Epoch 42/50\n",
      "\u001b[1m436/436\u001b[0m \u001b[32m━━━━━━━━━━━━━━━━━━━━\u001b[0m\u001b[37m\u001b[0m \u001b[1m6s\u001b[0m 14ms/step - loss: 0.9767 - mse: 0.9767 - val_loss: 0.9766 - val_mse: 0.9766\n",
      "Epoch 43/50\n",
      "\u001b[1m436/436\u001b[0m \u001b[32m━━━━━━━━━━━━━━━━━━━━\u001b[0m\u001b[37m\u001b[0m \u001b[1m6s\u001b[0m 14ms/step - loss: 0.9764 - mse: 0.9764 - val_loss: 0.9728 - val_mse: 0.9728\n",
      "Epoch 44/50\n",
      "\u001b[1m436/436\u001b[0m \u001b[32m━━━━━━━━━━━━━━━━━━━━\u001b[0m\u001b[37m\u001b[0m \u001b[1m6s\u001b[0m 14ms/step - loss: 0.9783 - mse: 0.9783 - val_loss: 0.9734 - val_mse: 0.9734\n",
      "Epoch 45/50\n",
      "\u001b[1m436/436\u001b[0m \u001b[32m━━━━━━━━━━━━━━━━━━━━\u001b[0m\u001b[37m\u001b[0m \u001b[1m6s\u001b[0m 14ms/step - loss: 0.9772 - mse: 0.9772 - val_loss: 0.9757 - val_mse: 0.9757\n",
      "Epoch 46/50\n",
      "\u001b[1m436/436\u001b[0m \u001b[32m━━━━━━━━━━━━━━━━━━━━\u001b[0m\u001b[37m\u001b[0m \u001b[1m6s\u001b[0m 14ms/step - loss: 0.9779 - mse: 0.9779 - val_loss: 0.9759 - val_mse: 0.9759\n",
      "Epoch 47/50\n",
      "\u001b[1m436/436\u001b[0m \u001b[32m━━━━━━━━━━━━━━━━━━━━\u001b[0m\u001b[37m\u001b[0m \u001b[1m6s\u001b[0m 14ms/step - loss: 0.9772 - mse: 0.9772 - val_loss: 0.9767 - val_mse: 0.9767\n",
      "Epoch 48/50\n",
      "\u001b[1m436/436\u001b[0m \u001b[32m━━━━━━━━━━━━━━━━━━━━\u001b[0m\u001b[37m\u001b[0m \u001b[1m6s\u001b[0m 14ms/step - loss: 0.9821 - mse: 0.9821 - val_loss: 0.9765 - val_mse: 0.9765\n",
      "Epoch 49/50\n",
      "\u001b[1m436/436\u001b[0m \u001b[32m━━━━━━━━━━━━━━━━━━━━\u001b[0m\u001b[37m\u001b[0m \u001b[1m6s\u001b[0m 14ms/step - loss: 0.9795 - mse: 0.9795 - val_loss: 0.9762 - val_mse: 0.9762\n",
      "Epoch 50/50\n",
      "\u001b[1m436/436\u001b[0m \u001b[32m━━━━━━━━━━━━━━━━━━━━\u001b[0m\u001b[37m\u001b[0m \u001b[1m6s\u001b[0m 14ms/step - loss: 0.9768 - mse: 0.9768 - val_loss: 0.9788 - val_mse: 0.9788\n"
     ]
    }
   ],
   "source": [
    "history_4 = model.fit(X_train, Y_train, epochs=50, batch_size=64, validation_data=(X_val, Y_val))"
   ]
  },
  {
   "cell_type": "code",
   "execution_count": null,
   "id": "960b865d-e0cf-46a3-acdf-ae09e38fdc2e",
   "metadata": {},
   "outputs": [],
   "source": []
  },
  {
   "cell_type": "code",
   "execution_count": 23,
   "id": "9f6f903d-db0a-4e51-a909-54e1280c07dc",
   "metadata": {},
   "outputs": [],
   "source": [
    "def append_history(history, new_history):\n",
    "    for key in history.history.keys():\n",
    "        history.history[key].extend(new_history.history[key])"
   ]
  },
  {
   "cell_type": "code",
   "execution_count": 24,
   "id": "7636be78-87b7-4ed0-a7b7-59a04b420d1f",
   "metadata": {},
   "outputs": [],
   "source": [
    "append_history(history, history_2)\n",
    "append_history(history, history_3)\n",
    "append_history(history, history_4)\n"
   ]
  },
  {
   "cell_type": "code",
   "execution_count": 25,
   "id": "7e32aa59-c63e-4834-950f-cdeea5d65c2b",
   "metadata": {},
   "outputs": [
    {
     "name": "stdout",
     "output_type": "stream",
     "text": [
      "\u001b[1m218/218\u001b[0m \u001b[32m━━━━━━━━━━━━━━━━━━━━\u001b[0m\u001b[37m\u001b[0m \u001b[1m1s\u001b[0m 4ms/step - loss: 0.9744 - mse: 0.9744\n",
      "Validation Loss: 0.9788349270820618\n",
      "Validation MSE: 0.9788349270820618\n"
     ]
    }
   ],
   "source": [
    "# Evaluate the model on the validation set\n",
    "val_loss, val_mse = model.evaluate(X_val, Y_val)\n",
    "print(f\"Validation Loss: {val_loss}\")\n",
    "print(f\"Validation MSE: {val_mse}\")"
   ]
  },
  {
   "cell_type": "code",
   "execution_count": 26,
   "id": "8d0c5d4d-f358-47bc-9a54-12b61e17d9fa",
   "metadata": {},
   "outputs": [],
   "source": [
    "import matplotlib.pyplot as plt"
   ]
  },
  {
   "cell_type": "code",
   "execution_count": 27,
   "id": "b56a2656-0a68-41f6-ab36-b43201751167",
   "metadata": {},
   "outputs": [
    {
     "data": {
      "image/png": "[encoded data removed]",
      "text/plain": [
       "<Figure size 1000x500 with 1 Axes>"
      ]
     },
     "metadata": {},
     "output_type": "display_data"
    }
   ],
   "source": [
    "# Plot training & validation loss values\n",
    "plt.figure(figsize=(10, 5))\n",
    "plt.plot(history.history['loss'], label='Train Loss')\n",
    "plt.plot(history.history['val_loss'], label='Validation Loss')\n",
    "plt.title('Model Loss')\n",
    "plt.ylabel('Loss')\n",
    "plt.xlabel('Epoch')\n",
    "plt.legend(loc='upper right')\n",
    "plt.grid(True)\n",
    "plt.show()"
   ]
  },
  {
   "cell_type": "code",
   "execution_count": null,
   "id": "924389cb-7e82-4c73-afc1-392d29a1e75a",
   "metadata": {},
   "outputs": [],
   "source": []
  },
  {
   "cell_type": "code",
   "execution_count": null,
   "id": "c6cabdce-7444-4210-a239-302df28464d5",
   "metadata": {},
   "outputs": [],
   "source": []
  },
  {
   "cell_type": "code",
   "execution_count": null,
   "id": "5433af1d-a3da-4d93-9093-b14654cc952f",
   "metadata": {},
   "outputs": [],
   "source": []
  },
  {
   "cell_type": "code",
   "execution_count": null,
   "id": "61a8e9d4-1ffe-43a3-baf9-668181e9065c",
   "metadata": {},
   "outputs": [],
   "source": []
  },
  {
   "cell_type": "code",
   "execution_count": null,
   "id": "7f7f7481-6efc-40c2-9a63-e123a65190e8",
   "metadata": {},
   "outputs": [],
   "source": []
  },
  {
   "cell_type": "code",
   "execution_count": null,
   "id": "8b210d3e-f8bd-40e3-b3d1-76e2a9425d1e",
   "metadata": {},
   "outputs": [],
   "source": []
  },
  {
   "cell_type": "code",
   "execution_count": null,
   "id": "a05f9500-fad6-4002-a50f-35ffcdd4d2a4",
   "metadata": {},
   "outputs": [],
   "source": []
  },
  {
   "cell_type": "code",
   "execution_count": null,
   "id": "9c793bb0-36b8-4dfe-9a35-94077e6a2f60",
   "metadata": {},
   "outputs": [],
   "source": []
  },
  {
   "cell_type": "code",
   "execution_count": null,
   "id": "f1ce7241-99ca-4184-9685-99540fd0b572",
   "metadata": {},
   "outputs": [],
   "source": []
  },
  {
   "cell_type": "code",
   "execution_count": null,
   "id": "9d121d6a-a436-46ba-921f-4d6ca3cc12a5",
   "metadata": {},
   "outputs": [],
   "source": []
  }
 ],
 "metadata": {
  "kernelspec": {
   "display_name": "Python 3 (ipykernel)",
   "language": "python",
   "name": "python3"
  },
  "language_info": {
   "codemirror_mode": {
    "name": "ipython",
    "version": 3
   },
   "file_extension": ".py",
   "mimetype": "text/x-python",
   "name": "python",
   "nbconvert_exporter": "python",
   "pygments_lexer": "ipython3",
   "version": "3.10.2"
  }
 },
 "nbformat": 4,
 "nbformat_minor": 5
}
