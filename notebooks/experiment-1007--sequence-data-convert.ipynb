{
 "cells": [
  {
   "cell_type": "code",
   "execution_count": 5,
   "id": "661d9242-907b-476e-be90-da69919b8a53",
   "metadata": {},
   "outputs": [],
   "source": [
    "import os\n",
    "from pathlib import Path\n",
    "import pickle\n",
    "import numpy as np\n",
    "import pandas as pd"
   ]
  },
  {
   "cell_type": "code",
   "execution_count": 1,
   "id": "e6312b5e-6639-43fc-99d3-c7845b36b755",
   "metadata": {},
   "outputs": [],
   "source": [
    "def load_data(filename):\n",
    "    with open(filename, 'rb') as file:\n",
    "        return pickle.load(file)"
   ]
  },
  {
   "cell_type": "code",
   "execution_count": 6,
   "id": "86903b33-f972-4d44-854a-09810d020960",
   "metadata": {},
   "outputs": [],
   "source": [
    "data_root = r\"C:/Users/hayashi/doutorado/mac6958--dados-redes/webrtc\"\n",
    "data_file = Path(data_root, 'data/processed/facial-1001-normalized.pkl')"
   ]
  },
  {
   "cell_type": "code",
   "execution_count": 7,
   "id": "7d9e2b53-2f15-401a-bf89-bdb78485eef0",
   "metadata": {},
   "outputs": [],
   "source": [
    "data = load_data(data_file)"
   ]
  },
  {
   "cell_type": "code",
   "execution_count": 8,
   "id": "ab166875-09bf-40ef-b551-0a00d8b9fafc",
   "metadata": {},
   "outputs": [
    {
     "data": {
      "text/plain": [
       "{'user_id': -1.647508942095828,\n",
       " 'test_condition': 0.4629100498862757,\n",
       " 'delay': 1.0690449676496976,\n",
       " 'jitter': 1.224744871391589,\n",
       " 'packet_loss_rate': 0.0,\n",
       " 'features': array([[ 0.200067, -0.033075, -0.979224, ...,  1.      ,  0.      ,\n",
       "          0.      ],\n",
       "        [ 0.203814, -0.040347, -0.978178, ...,  1.      ,  0.      ,\n",
       "          0.      ],\n",
       "        [ 0.203665, -0.042064, -0.978137, ...,  0.      ,  0.      ,\n",
       "          0.      ],\n",
       "        ...,\n",
       "        [-0.020206,  0.302458, -0.952948, ...,  0.      ,  0.      ,\n",
       "          0.      ],\n",
       "        [-0.015582,  0.300056, -0.953794, ...,  0.      ,  0.      ,\n",
       "          0.      ],\n",
       "        [-0.021239,  0.304443, -0.952294, ...,  1.      ,  0.      ,\n",
       "          0.      ]])}"
      ]
     },
     "execution_count": 8,
     "metadata": {},
     "output_type": "execute_result"
    }
   ],
   "source": [
    "data[0]"
   ]
  },
  {
   "cell_type": "code",
   "execution_count": 10,
   "id": "72445d69-53db-4b3e-b482-46866d40bf7e",
   "metadata": {},
   "outputs": [
    {
     "data": {
      "text/plain": [
       "(3676, 323)"
      ]
     },
     "execution_count": 10,
     "metadata": {},
     "output_type": "execute_result"
    }
   ],
   "source": [
    "data[0]['features'].shape"
   ]
  },
  {
   "cell_type": "code",
   "execution_count": 16,
   "id": "cb7430f3-11c8-461e-ac2c-a352a21a8612",
   "metadata": {},
   "outputs": [
    {
     "data": {
      "text/plain": [
       "array([-1.64750894,  0.46291005,  1.06904497,  1.22474487,  0.        ])"
      ]
     },
     "execution_count": 16,
     "metadata": {},
     "output_type": "execute_result"
    }
   ],
   "source": [
    "d= data[0]\n",
    "# get one label as vector\n",
    "y = np.array([value for key, value in d.items() if key != 'features'])\n",
    "y"
   ]
  },
  {
   "cell_type": "code",
   "execution_count": 17,
   "id": "bc610193-908c-4b7b-8522-770728203ea0",
   "metadata": {},
   "outputs": [
    {
     "data": {
      "text/plain": [
       "(5,)"
      ]
     },
     "execution_count": 17,
     "metadata": {},
     "output_type": "execute_result"
    }
   ],
   "source": [
    "y.shape"
   ]
  },
  {
   "cell_type": "code",
   "execution_count": 23,
   "id": "74083dc7-35ce-4203-8513-fef9c2e34b36",
   "metadata": {},
   "outputs": [
    {
     "data": {
      "text/plain": [
       "array([[[-1.64750894,  0.46291005,  1.06904497,  1.22474487,\n",
       "          0.        , -1.64750894,  0.46291005,  1.06904497,\n",
       "          1.22474487,  0.        ],\n",
       "        [-1.64750894,  0.46291005,  1.06904497,  1.22474487,\n",
       "          0.        , -1.64750894,  0.46291005,  1.06904497,\n",
       "          1.22474487,  0.        ]],\n",
       "\n",
       "       [[-1.64750894,  0.46291005,  1.06904497,  1.22474487,\n",
       "          0.        , -1.64750894,  0.46291005,  1.06904497,\n",
       "          1.22474487,  0.        ],\n",
       "        [-1.64750894,  0.46291005,  1.06904497,  1.22474487,\n",
       "          0.        , -1.64750894,  0.46291005,  1.06904497,\n",
       "          1.22474487,  0.        ]]])"
      ]
     },
     "execution_count": 23,
     "metadata": {},
     "output_type": "execute_result"
    }
   ],
   "source": [
    "np.tile(y, (2,2,2))"
   ]
  },
  {
   "cell_type": "code",
   "execution_count": 21,
   "id": "08125940-67e8-41b1-acb4-78dc529e16b9",
   "metadata": {},
   "outputs": [
    {
     "data": {
      "text/plain": [
       "array([[-1.64750894,  0.46291005,  1.06904497,  1.22474487,  0.        ,\n",
       "        -1.64750894,  0.46291005,  1.06904497,  1.22474487,  0.        ],\n",
       "       [-1.64750894,  0.46291005,  1.06904497,  1.22474487,  0.        ,\n",
       "        -1.64750894,  0.46291005,  1.06904497,  1.22474487,  0.        ]])"
      ]
     },
     "execution_count": 21,
     "metadata": {},
     "output_type": "execute_result"
    }
   ],
   "source": [
    "np.tile(y, (2,2))"
   ]
  },
  {
   "cell_type": "code",
   "execution_count": 30,
   "id": "278186a6-553f-4a52-ba5e-35ece30005b1",
   "metadata": {},
   "outputs": [
    {
     "data": {
      "text/plain": [
       "array([[1, 2, 1, 2, 1, 2],\n",
       "       [3, 4, 3, 4, 3, 4]])"
      ]
     },
     "execution_count": 30,
     "metadata": {},
     "output_type": "execute_result"
    }
   ],
   "source": [
    "np.tile([[1,2],[3,4]], (3,))"
   ]
  },
  {
   "cell_type": "code",
   "execution_count": 32,
   "id": "a524affb-9f21-4268-8a42-bb3044dae0b4",
   "metadata": {},
   "outputs": [
    {
     "data": {
      "text/plain": [
       "array([[1, 2],\n",
       "       [3, 4],\n",
       "       [1, 2],\n",
       "       [3, 4],\n",
       "       [1, 2],\n",
       "       [3, 4]])"
      ]
     },
     "execution_count": 32,
     "metadata": {},
     "output_type": "execute_result"
    }
   ],
   "source": [
    "np.tile([[1,2],[3,4]], (3,1))"
   ]
  },
  {
   "cell_type": "code",
   "execution_count": null,
   "id": "c13588b6-3456-434e-bb8b-bc6e248683d2",
   "metadata": {},
   "outputs": [],
   "source": []
  },
  {
   "cell_type": "code",
   "execution_count": 33,
   "id": "ab4d7531-b374-434f-9fdc-09135c0b1104",
   "metadata": {},
   "outputs": [
    {
     "data": {
      "text/plain": [
       "(5,)"
      ]
     },
     "execution_count": 33,
     "metadata": {},
     "output_type": "execute_result"
    }
   ],
   "source": [
    "y.shape"
   ]
  },
  {
   "cell_type": "code",
   "execution_count": 35,
   "id": "086005bc-32d4-4666-8cc4-69016af59bf0",
   "metadata": {},
   "outputs": [],
   "source": [
    "Y = np.tile(y,(120,1))"
   ]
  },
  {
   "cell_type": "code",
   "execution_count": 36,
   "id": "5b365fcf-6660-4515-85e2-672dcff957ac",
   "metadata": {},
   "outputs": [
    {
     "data": {
      "text/plain": [
       "(120, 5)"
      ]
     },
     "execution_count": 36,
     "metadata": {},
     "output_type": "execute_result"
    }
   ],
   "source": [
    "Y.shape"
   ]
  },
  {
   "cell_type": "code",
   "execution_count": 37,
   "id": "aa021e80-c60f-4dd5-bdcf-4707e8e8ba9b",
   "metadata": {},
   "outputs": [],
   "source": [
    "x = data[0]['features']"
   ]
  },
  {
   "cell_type": "code",
   "execution_count": 38,
   "id": "1d290017-c668-4fe7-ab35-23c23c646f68",
   "metadata": {},
   "outputs": [
    {
     "data": {
      "text/plain": [
       "(3676, 323)"
      ]
     },
     "execution_count": 38,
     "metadata": {},
     "output_type": "execute_result"
    }
   ],
   "source": [
    "x.shape"
   ]
  },
  {
   "cell_type": "code",
   "execution_count": 50,
   "id": "966b7e80-2d50-4bd3-b9be-ad555af6cfe1",
   "metadata": {},
   "outputs": [
    {
     "data": {
      "text/plain": [
       "3660"
      ]
     },
     "execution_count": 50,
     "metadata": {},
     "output_type": "execute_result"
    }
   ],
   "source": [
    "int(x.shape[0]/30)*30"
   ]
  },
  {
   "cell_type": "code",
   "execution_count": 49,
   "id": "197197f1-08a7-49fc-8575-7fd81db4a655",
   "metadata": {},
   "outputs": [
    {
     "data": {
      "text/plain": [
       "122"
      ]
     },
     "execution_count": 49,
     "metadata": {},
     "output_type": "execute_result"
    }
   ],
   "source": [
    "int(x.shape[0]/30)"
   ]
  },
  {
   "cell_type": "code",
   "execution_count": 43,
   "id": "50ab9302-185d-487f-b91f-49107a9fb932",
   "metadata": {},
   "outputs": [
    {
     "data": {
      "text/plain": [
       "122.53333333333333"
      ]
     },
     "execution_count": 43,
     "metadata": {},
     "output_type": "execute_result"
    }
   ],
   "source": [
    "x.shape[0]/30"
   ]
  },
  {
   "cell_type": "code",
   "execution_count": 48,
   "id": "eb403688-0010-488f-b7a8-6db78e07912f",
   "metadata": {},
   "outputs": [
    {
     "data": {
      "text/plain": [
       "1"
      ]
     },
     "execution_count": 48,
     "metadata": {},
     "output_type": "execute_result"
    }
   ],
   "source": [
    "int(1.6)"
   ]
  },
  {
   "cell_type": "code",
   "execution_count": 51,
   "id": "491af5ec-9a08-49ed-989a-b10cae79494f",
   "metadata": {},
   "outputs": [],
   "source": [
    "size = int(x.shape[0]/30)*30\n",
    "x1 = x[:size]"
   ]
  },
  {
   "cell_type": "code",
   "execution_count": 52,
   "id": "8fc124e2-aef5-466f-8691-db2ea1f194dd",
   "metadata": {},
   "outputs": [
    {
     "data": {
      "text/plain": [
       "(3660, 323)"
      ]
     },
     "execution_count": 52,
     "metadata": {},
     "output_type": "execute_result"
    }
   ],
   "source": [
    "x1.shape"
   ]
  },
  {
   "cell_type": "code",
   "execution_count": 53,
   "id": "dfdf1bd9-31c0-40c9-ad49-5b17a8236a6f",
   "metadata": {},
   "outputs": [],
   "source": [
    "x2 = x1.reshape((-1,30,323))"
   ]
  },
  {
   "cell_type": "code",
   "execution_count": 54,
   "id": "9424bcf2-beda-4152-8159-90ca045f8961",
   "metadata": {},
   "outputs": [
    {
     "data": {
      "text/plain": [
       "(122, 30, 323)"
      ]
     },
     "execution_count": 54,
     "metadata": {},
     "output_type": "execute_result"
    }
   ],
   "source": [
    "x2.shape"
   ]
  },
  {
   "cell_type": "code",
   "execution_count": null,
   "id": "5b579e71-92e4-4b7c-8459-d30b6306b48b",
   "metadata": {},
   "outputs": [],
   "source": []
  },
  {
   "cell_type": "code",
   "execution_count": 56,
   "id": "dc40c067-785c-4930-9dac-0f33de4dd0e3",
   "metadata": {},
   "outputs": [
    {
     "name": "stdout",
     "output_type": "stream",
     "text": [
      "(3676, 323)\n",
      "(3676, 323)\n",
      "(3665, 323)\n",
      "(3633, 323)\n",
      "(3666, 323)\n",
      "(205, 323)\n",
      "(3662, 323)\n",
      "(3666, 323)\n",
      "(3666, 323)\n",
      "(3677, 323)\n",
      "(3665, 323)\n",
      "(3676, 323)\n",
      "(3665, 323)\n",
      "(3665, 323)\n",
      "(3665, 323)\n",
      "(3700, 323)\n",
      "(3705, 323)\n",
      "(741, 323)\n",
      "(3705, 323)\n",
      "(3705, 323)\n",
      "(3705, 323)\n",
      "(3705, 323)\n",
      "(3705, 323)\n",
      "(3705, 323)\n",
      "(3705, 323)\n",
      "(3705, 323)\n",
      "(3705, 323)\n",
      "(3705, 323)\n",
      "(3705, 323)\n",
      "(3705, 323)\n",
      "(3676, 323)\n",
      "(3666, 323)\n",
      "(3662, 323)\n",
      "(3665, 323)\n",
      "(3673, 323)\n",
      "(3665, 323)\n",
      "(3666, 323)\n",
      "(3677, 323)\n",
      "(3676, 323)\n",
      "(3665, 323)\n",
      "(3676, 323)\n",
      "(3665, 323)\n",
      "(3676, 323)\n",
      "(3665, 323)\n",
      "(3677, 323)\n",
      "(3676, 323)\n",
      "(3666, 323)\n",
      "(3666, 323)\n",
      "(3665, 323)\n",
      "(530, 323)\n",
      "(3662, 323)\n",
      "(3677, 323)\n",
      "(3676, 323)\n",
      "(3665, 323)\n",
      "(3666, 323)\n",
      "(3676, 323)\n",
      "(3665, 323)\n",
      "(3666, 323)\n",
      "(3664, 323)\n",
      "(3666, 323)\n",
      "(3716, 323)\n",
      "(3705, 323)\n",
      "(3705, 323)\n",
      "(3705, 323)\n",
      "(3705, 323)\n",
      "(3705, 323)\n",
      "(3705, 323)\n",
      "(3705, 323)\n",
      "(3705, 323)\n",
      "(3704, 323)\n",
      "(3705, 323)\n",
      "(3705, 323)\n",
      "(3705, 323)\n",
      "(3705, 323)\n",
      "(3705, 323)\n",
      "(3705, 323)\n",
      "(3705, 323)\n",
      "(3701, 323)\n",
      "(3705, 323)\n",
      "(3705, 323)\n",
      "(3705, 323)\n",
      "(3705, 323)\n",
      "(3705, 323)\n",
      "(3705, 323)\n",
      "(3705, 323)\n",
      "(3705, 323)\n",
      "(3705, 323)\n",
      "(3705, 323)\n",
      "(3705, 323)\n",
      "(722, 323)\n",
      "(3705, 323)\n",
      "(3705, 323)\n",
      "(3705, 323)\n",
      "(3705, 323)\n",
      "(3705, 323)\n",
      "(2150, 323)\n",
      "(3699, 323)\n",
      "(3705, 323)\n",
      "(3698, 323)\n",
      "(3701, 323)\n",
      "(3705, 323)\n",
      "(3701, 323)\n",
      "(3705, 323)\n",
      "(3705, 323)\n",
      "(3705, 323)\n",
      "(3600, 323)\n",
      "(3606, 323)\n",
      "(3602, 323)\n",
      "(3602, 323)\n",
      "(3606, 323)\n",
      "(3604, 323)\n",
      "(3606, 323)\n",
      "(3602, 323)\n",
      "(3604, 323)\n",
      "(3606, 323)\n",
      "(3606, 323)\n",
      "(3600, 323)\n",
      "(3600, 323)\n",
      "(3605, 323)\n",
      "(3606, 323)\n",
      "(3705, 323)\n",
      "(3705, 323)\n",
      "(3705, 323)\n",
      "(3705, 323)\n",
      "(3705, 323)\n",
      "(3570, 323)\n",
      "(3705, 323)\n",
      "(3705, 323)\n",
      "(3705, 323)\n",
      "(3705, 323)\n",
      "(3705, 323)\n",
      "(3705, 323)\n",
      "(2021, 323)\n",
      "(3705, 323)\n",
      "(3705, 323)\n",
      "(3666, 323)\n",
      "(3665, 323)\n",
      "(3664, 323)\n",
      "(3665, 323)\n",
      "(3666, 323)\n",
      "(3665, 323)\n",
      "(3665, 323)\n",
      "(3665, 323)\n",
      "(3662, 323)\n",
      "(3665, 323)\n",
      "(3665, 323)\n",
      "(3665, 323)\n",
      "(3666, 323)\n",
      "(3676, 323)\n",
      "(782, 323)\n",
      "(3628, 323)\n",
      "(3665, 323)\n",
      "(3665, 323)\n",
      "(3665, 323)\n",
      "(3665, 323)\n",
      "(3665, 323)\n",
      "(3677, 323)\n",
      "(3665, 323)\n",
      "(3666, 323)\n",
      "(3665, 323)\n",
      "(3664, 323)\n",
      "(3665, 323)\n",
      "(3665, 323)\n",
      "(3646, 323)\n",
      "(3664, 323)\n",
      "(3665, 323)\n",
      "(3665, 323)\n",
      "(3665, 323)\n",
      "(3666, 323)\n",
      "(3665, 323)\n",
      "(3665, 323)\n",
      "(3665, 323)\n",
      "(3666, 323)\n",
      "(3665, 323)\n",
      "(3676, 323)\n",
      "(3665, 323)\n",
      "(3665, 323)\n",
      "(3665, 323)\n",
      "(3666, 323)\n",
      "(3677, 323)\n",
      "(3705, 323)\n",
      "(3705, 323)\n",
      "(3705, 323)\n",
      "(3705, 323)\n",
      "(3705, 323)\n",
      "(3628, 323)\n",
      "(3705, 323)\n",
      "(3705, 323)\n",
      "(3705, 323)\n",
      "(3705, 323)\n",
      "(3705, 323)\n",
      "(3705, 323)\n",
      "(3705, 323)\n",
      "(3705, 323)\n",
      "(3705, 323)\n",
      "(3662, 323)\n",
      "(3664, 323)\n",
      "(3666, 323)\n",
      "(3663, 323)\n",
      "(3673, 323)\n",
      "(1127, 323)\n",
      "(3676, 323)\n",
      "(3665, 323)\n",
      "(3676, 323)\n",
      "(3666, 323)\n",
      "(3666, 323)\n",
      "(3666, 323)\n",
      "(3666, 323)\n",
      "(3662, 323)\n",
      "(3676, 323)\n",
      "(3705, 323)\n",
      "(3705, 323)\n",
      "(3705, 323)\n",
      "(3705, 323)\n",
      "(3705, 323)\n",
      "(3705, 323)\n",
      "(3705, 323)\n",
      "(3703, 323)\n",
      "(3705, 323)\n",
      "(3705, 323)\n",
      "(3705, 323)\n",
      "(3702, 323)\n",
      "(3705, 323)\n",
      "(3705, 323)\n",
      "(3705, 323)\n",
      "(1812, 323)\n",
      "(1811, 323)\n",
      "(428, 323)\n",
      "(1811, 323)\n",
      "(1811, 323)\n",
      "(1811, 323)\n",
      "(1811, 323)\n",
      "(1811, 323)\n",
      "(1811, 323)\n",
      "(1812, 323)\n",
      "(1811, 323)\n",
      "(1812, 323)\n",
      "(1811, 323)\n",
      "(1811, 323)\n",
      "(1811, 323)\n",
      "(3644, 323)\n",
      "(3644, 323)\n",
      "(3640, 323)\n",
      "(3644, 323)\n",
      "(3655, 323)\n",
      "(3642, 323)\n",
      "(3644, 323)\n",
      "(3644, 323)\n",
      "(3638, 323)\n",
      "(3650, 323)\n",
      "(3644, 323)\n",
      "(3644, 323)\n",
      "(3651, 323)\n",
      "(3642, 323)\n",
      "(3644, 323)\n",
      "(3705, 323)\n",
      "(3705, 323)\n",
      "(3705, 323)\n",
      "(3705, 323)\n",
      "(3705, 323)\n",
      "(3699, 323)\n",
      "(3705, 323)\n",
      "(3705, 323)\n",
      "(3685, 323)\n",
      "(3705, 323)\n",
      "(3705, 323)\n",
      "(3705, 323)\n",
      "(3705, 323)\n",
      "(3705, 323)\n",
      "(3704, 323)\n",
      "(3676, 323)\n",
      "(3665, 323)\n",
      "(3676, 323)\n",
      "(3666, 323)\n",
      "(3665, 323)\n",
      "(3666, 323)\n",
      "(3662, 323)\n",
      "(3676, 323)\n",
      "(3676, 323)\n",
      "(3666, 323)\n",
      "(3677, 323)\n",
      "(3677, 323)\n",
      "(3666, 323)\n",
      "(3665, 323)\n",
      "(3665, 323)\n",
      "(3713, 323)\n",
      "(3705, 323)\n",
      "(3703, 323)\n",
      "(3705, 323)\n",
      "(290, 323)\n",
      "(3705, 323)\n",
      "(3705, 323)\n",
      "(3705, 323)\n",
      "(3705, 323)\n",
      "(3713, 323)\n",
      "(3705, 323)\n",
      "(3701, 323)\n",
      "(3702, 323)\n",
      "(3705, 323)\n",
      "(3705, 323)\n"
     ]
    }
   ],
   "source": [
    "for dd in data:\n",
    "    print(dd['features'].shape)"
   ]
  },
  {
   "cell_type": "code",
   "execution_count": null,
   "id": "62b6666a-0e69-4061-ab87-a1ad4d1e0db4",
   "metadata": {},
   "outputs": [],
   "source": []
  },
  {
   "cell_type": "code",
   "execution_count": null,
   "id": "4e03f35c-6235-457e-819c-8fe7b47c82f6",
   "metadata": {},
   "outputs": [],
   "source": []
  },
  {
   "cell_type": "code",
   "execution_count": null,
   "id": "eea15381-4776-40c6-b1f1-ec8899e59e1e",
   "metadata": {},
   "outputs": [],
   "source": []
  },
  {
   "cell_type": "code",
   "execution_count": 59,
   "id": "88ca465b-66a5-4ba8-bd4c-050329796c4b",
   "metadata": {},
   "outputs": [],
   "source": [
    "def split_and_reshape(dd):\n",
    "    # given dict, return (-1,30,323), (-1,5)\n",
    "\n",
    "    # for x, split in seq size of 30\n",
    "    x = dd['features']    # (-1,323)\n",
    "    seq_size = int(x.shape[0]/30)\n",
    "    x = x[:seq_size*30]\n",
    "    assert x.shape[1]== 323, \"Expected shape of (-1,323) for feature\"\n",
    "    x = x.reshape((-1,30,323))\n",
    "\n",
    "    # for y, replicate of each sequence\n",
    "    y = np.array([value for key, value in d.items() if key != 'features'])  # (5,)\n",
    "    y = np.tile(y, (seq_size,1))\n",
    "\n",
    "    return x, y    \n",
    "    \n",
    "def convert_to_seq(data):\n",
    "    x_list, y_list = [], []\n",
    "    for d in data:\n",
    "        x,y = split_and_reshape(d)   # return (-1,30,323), (-1,5)\n",
    "        x_list.append(x)\n",
    "        y_list.append(y)\n",
    "\n",
    "    # append along the first dimension\n",
    "    X = np.concatenate(x_list, axis=0)\n",
    "    Y = np.concatenate(y_list, axis=0)\n",
    "    return X, Y"
   ]
  },
  {
   "cell_type": "code",
   "execution_count": null,
   "id": "55e4f9c2-fa3d-40b8-96c2-529c5df232c2",
   "metadata": {},
   "outputs": [],
   "source": [
    "X, Y = convert_to_seq(data)    # return (-1,30,323), (-1,5)"
   ]
  },
  {
   "cell_type": "code",
   "execution_count": 61,
   "id": "f38fb42c-2f14-42d5-87de-7c68cb1f95da",
   "metadata": {},
   "outputs": [],
   "source": [
    "x, y = split_and_reshape(data[0])"
   ]
  },
  {
   "cell_type": "code",
   "execution_count": 62,
   "id": "16d6ca78-f008-4baf-9d01-452e79612da5",
   "metadata": {},
   "outputs": [
    {
     "data": {
      "text/plain": [
       "((122, 30, 323), (122, 5))"
      ]
     },
     "execution_count": 62,
     "metadata": {},
     "output_type": "execute_result"
    }
   ],
   "source": [
    "x.shape, y.shape"
   ]
  },
  {
   "cell_type": "code",
   "execution_count": 65,
   "id": "14dba7c4-9eb1-40eb-83b2-e9662f680c32",
   "metadata": {},
   "outputs": [],
   "source": [
    "X, Y = convert_to_seq(data[0:2])"
   ]
  },
  {
   "cell_type": "code",
   "execution_count": 66,
   "id": "8d7b2965-81de-48c9-a617-d13cc4b3e7e5",
   "metadata": {},
   "outputs": [
    {
     "data": {
      "text/plain": [
       "((244, 30, 323), (244, 5))"
      ]
     },
     "execution_count": 66,
     "metadata": {},
     "output_type": "execute_result"
    }
   ],
   "source": [
    "X.shape, Y.shape"
   ]
  },
  {
   "cell_type": "code",
   "execution_count": 67,
   "id": "335e63fe-0e63-455c-8d51-e1725f40c81e",
   "metadata": {},
   "outputs": [],
   "source": [
    "X, Y = convert_to_seq(data)"
   ]
  },
  {
   "cell_type": "code",
   "execution_count": 68,
   "id": "e6eeaf7b-95bf-41d2-9418-160899010ed4",
   "metadata": {},
   "outputs": [
    {
     "data": {
      "text/plain": [
       "((34880, 30, 323), (34880, 5))"
      ]
     },
     "execution_count": 68,
     "metadata": {},
     "output_type": "execute_result"
    }
   ],
   "source": [
    "X.shape, Y.shape"
   ]
  },
  {
   "cell_type": "code",
   "execution_count": null,
   "id": "83972912-58fb-4c69-9c3c-d1c45c55c2e1",
   "metadata": {},
   "outputs": [],
   "source": []
  },
  {
   "cell_type": "code",
   "execution_count": 70,
   "id": "a67e5ea9-59e8-41db-98d5-3fa9e2b127b3",
   "metadata": {},
   "outputs": [],
   "source": [
    "seq_data_file = Path(data_root, 'data/processed/facial-1007-sequential.pkl')"
   ]
  },
  {
   "cell_type": "code",
   "execution_count": 71,
   "id": "cbb141c5-4190-4603-9278-8ede415b1cea",
   "metadata": {},
   "outputs": [],
   "source": [
    "with open(seq_data_file, 'wb') as file:\n",
    "    pickle.dump((X,Y), file)"
   ]
  },
  {
   "cell_type": "code",
   "execution_count": null,
   "id": "d848a4a9-b2fb-4373-a2a0-1b284a1ec558",
   "metadata": {},
   "outputs": [],
   "source": []
  },
  {
   "cell_type": "code",
   "execution_count": null,
   "id": "18cda949-d60b-4d42-8a29-0dda880a2c18",
   "metadata": {},
   "outputs": [],
   "source": []
  },
  {
   "cell_type": "code",
   "execution_count": null,
   "id": "ccab5f48-4d52-44e0-bca0-986288228a68",
   "metadata": {},
   "outputs": [],
   "source": []
  },
  {
   "cell_type": "code",
   "execution_count": null,
   "id": "2a4a503b-1487-40a3-a7a5-1fce52ad7c6d",
   "metadata": {},
   "outputs": [],
   "source": []
  }
 ],
 "metadata": {
  "kernelspec": {
   "display_name": "Python 3 (ipykernel)",
   "language": "python",
   "name": "python3"
  },
  "language_info": {
   "codemirror_mode": {
    "name": "ipython",
    "version": 3
   },
   "file_extension": ".py",
   "mimetype": "text/x-python",
   "name": "python",
   "nbconvert_exporter": "python",
   "pygments_lexer": "ipython3",
   "version": "3.10.2"
  }
 },
 "nbformat": 4,
 "nbformat_minor": 5
}
