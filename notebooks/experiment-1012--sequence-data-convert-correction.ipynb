{
 "cells": [
  {
   "cell_type": "code",
   "execution_count": 1,
   "id": "661d9242-907b-476e-be90-da69919b8a53",
   "metadata": {},
   "outputs": [],
   "source": [
    "import os\n",
    "from pathlib import Path\n",
    "import pickle\n",
    "import numpy as np\n",
    "import pandas as pd"
   ]
  },
  {
   "cell_type": "code",
   "execution_count": 2,
   "id": "e6312b5e-6639-43fc-99d3-c7845b36b755",
   "metadata": {},
   "outputs": [],
   "source": [
    "def load_data(filename):\n",
    "    with open(filename, 'rb') as file:\n",
    "        return pickle.load(file)"
   ]
  },
  {
   "cell_type": "code",
   "execution_count": 3,
   "id": "86903b33-f972-4d44-854a-09810d020960",
   "metadata": {},
   "outputs": [],
   "source": [
    "data_root = r\"C:/Users/hayashi/doutorado/mac6958--dados-redes/webrtc\"\n",
    "data_file = Path(data_root, 'data/processed/facial-1001-normalized.pkl')"
   ]
  },
  {
   "cell_type": "code",
   "execution_count": 4,
   "id": "7d9e2b53-2f15-401a-bf89-bdb78485eef0",
   "metadata": {},
   "outputs": [],
   "source": [
    "data = load_data(data_file)"
   ]
  },
  {
   "cell_type": "code",
   "execution_count": 18,
   "id": "52445d0c-a957-47ab-a370-a04e4a3faad9",
   "metadata": {},
   "outputs": [
    {
     "data": {
      "text/plain": [
       "300"
      ]
     },
     "execution_count": 18,
     "metadata": {},
     "output_type": "execute_result"
    }
   ],
   "source": [
    "len(data)"
   ]
  },
  {
   "cell_type": "code",
   "execution_count": 5,
   "id": "ab166875-09bf-40ef-b551-0a00d8b9fafc",
   "metadata": {},
   "outputs": [
    {
     "data": {
      "text/plain": [
       "{'user_id': -1.647508942095828,\n",
       " 'test_condition': 0.4629100498862757,\n",
       " 'delay': 1.0690449676496976,\n",
       " 'jitter': 1.224744871391589,\n",
       " 'packet_loss_rate': 0.0,\n",
       " 'features': array([[ 0.200067, -0.033075, -0.979224, ...,  1.      ,  0.      ,\n",
       "          0.      ],\n",
       "        [ 0.203814, -0.040347, -0.978178, ...,  1.      ,  0.      ,\n",
       "          0.      ],\n",
       "        [ 0.203665, -0.042064, -0.978137, ...,  0.      ,  0.      ,\n",
       "          0.      ],\n",
       "        ...,\n",
       "        [-0.020206,  0.302458, -0.952948, ...,  0.      ,  0.      ,\n",
       "          0.      ],\n",
       "        [-0.015582,  0.300056, -0.953794, ...,  0.      ,  0.      ,\n",
       "          0.      ],\n",
       "        [-0.021239,  0.304443, -0.952294, ...,  1.      ,  0.      ,\n",
       "          0.      ]])}"
      ]
     },
     "execution_count": 5,
     "metadata": {},
     "output_type": "execute_result"
    }
   ],
   "source": [
    "data[0]"
   ]
  },
  {
   "cell_type": "code",
   "execution_count": 6,
   "id": "72445d69-53db-4b3e-b482-46866d40bf7e",
   "metadata": {},
   "outputs": [
    {
     "data": {
      "text/plain": [
       "(3676, 323)"
      ]
     },
     "execution_count": 6,
     "metadata": {},
     "output_type": "execute_result"
    }
   ],
   "source": [
    "data[0]['features'].shape"
   ]
  },
  {
   "cell_type": "code",
   "execution_count": 7,
   "id": "cb7430f3-11c8-461e-ac2c-a352a21a8612",
   "metadata": {},
   "outputs": [
    {
     "data": {
      "text/plain": [
       "array([-1.64750894,  0.46291005,  1.06904497,  1.22474487,  0.        ])"
      ]
     },
     "execution_count": 7,
     "metadata": {},
     "output_type": "execute_result"
    }
   ],
   "source": [
    "d= data[0]\n",
    "# get one label as vector\n",
    "y = np.array([value for key, value in d.items() if key != 'features'])\n",
    "y"
   ]
  },
  {
   "cell_type": "code",
   "execution_count": null,
   "id": "62b6666a-0e69-4061-ab87-a1ad4d1e0db4",
   "metadata": {},
   "outputs": [],
   "source": []
  },
  {
   "cell_type": "code",
   "execution_count": null,
   "id": "4e03f35c-6235-457e-819c-8fe7b47c82f6",
   "metadata": {},
   "outputs": [],
   "source": []
  },
  {
   "cell_type": "code",
   "execution_count": null,
   "id": "eea15381-4776-40c6-b1f1-ec8899e59e1e",
   "metadata": {},
   "outputs": [],
   "source": []
  },
  {
   "cell_type": "code",
   "execution_count": 10,
   "id": "88ca465b-66a5-4ba8-bd4c-050329796c4b",
   "metadata": {},
   "outputs": [],
   "source": [
    "def split_and_reshape(dd):\n",
    "    # given dict, return (-1,30,323), (-1,5)\n",
    "\n",
    "    # for x, split in seq size of 30\n",
    "    x = dd['features']    # (-1,323)\n",
    "    seq_size = int(x.shape[0]/30)\n",
    "    x = x[:seq_size*30]\n",
    "    assert x.shape[1]== 323, \"Expected shape of (-1,323) for feature\"\n",
    "    x = x.reshape((-1,30,323))\n",
    "\n",
    "    # for y, replicate of each sequence\n",
    "    y = np.array([value for key, value in dd.items() if key != 'features'])  # (5,)\n",
    "    y = np.tile(y, (seq_size,1))\n",
    "\n",
    "    return x, y    \n",
    "    \n",
    "def convert_to_seq(data):\n",
    "    x_list, y_list = [], []\n",
    "    for d in data:\n",
    "        x,y = split_and_reshape(d)   # return (-1,30,323), (-1,5)\n",
    "        x_list.append(x)\n",
    "        y_list.append(y)\n",
    "\n",
    "    # append along the first dimension\n",
    "    X = np.concatenate(x_list, axis=0)\n",
    "    Y = np.concatenate(y_list, axis=0)\n",
    "    return X, Y"
   ]
  },
  {
   "cell_type": "code",
   "execution_count": 11,
   "id": "55e4f9c2-fa3d-40b8-96c2-529c5df232c2",
   "metadata": {},
   "outputs": [],
   "source": [
    "X, Y = convert_to_seq(data)    # return (-1,30,323), (-1,5)"
   ]
  },
  {
   "cell_type": "code",
   "execution_count": 12,
   "id": "e6eeaf7b-95bf-41d2-9418-160899010ed4",
   "metadata": {},
   "outputs": [
    {
     "data": {
      "text/plain": [
       "((34880, 30, 323), (34880, 5))"
      ]
     },
     "execution_count": 12,
     "metadata": {},
     "output_type": "execute_result"
    }
   ],
   "source": [
    "X.shape, Y.shape"
   ]
  },
  {
   "cell_type": "code",
   "execution_count": 20,
   "id": "83972912-58fb-4c69-9c3c-d1c45c55c2e1",
   "metadata": {},
   "outputs": [
    {
     "name": "stdout",
     "output_type": "stream",
     "text": [
      "0 [-1.64750894 -1.47408695 -1.30066495 -1.12724296 -0.95382097 -0.78039897\n",
      " -0.60697698 -0.43355498 -0.26013299 -0.086711    0.086711    0.26013299\n",
      "  0.43355498  0.60697698  0.78039897  0.95382097  1.12724296  1.30066495\n",
      "  1.47408695  1.64750894]\n",
      "1 [-1.62018517 -1.38873015 -1.15727512 -0.9258201  -0.69436507 -0.46291005\n",
      " -0.23145502  0.          0.23145502  0.46291005  0.69436507  0.9258201\n",
      "  1.15727512  1.38873015  1.62018517]\n",
      "2 [-1.60356745 -0.26726124  1.06904497]\n",
      "3 [-0.81649658  1.22474487]\n",
      "4 [-1.22474487  0.          1.22474487]\n"
     ]
    }
   ],
   "source": [
    "for i in range(Y.shape[1]):\n",
    "    print(i, np.unique(Y[:,i]))"
   ]
  },
  {
   "cell_type": "code",
   "execution_count": 14,
   "id": "47692a1a-965b-4804-b605-900ce805e49a",
   "metadata": {},
   "outputs": [
    {
     "data": {
      "text/plain": [
       "array([-1.62018517, -1.38873015, -1.15727512, -0.9258201 , -0.69436507,\n",
       "       -0.46291005, -0.23145502,  0.        ,  0.23145502,  0.46291005,\n",
       "        0.69436507,  0.9258201 ,  1.15727512,  1.38873015,  1.62018517])"
      ]
     },
     "execution_count": 14,
     "metadata": {},
     "output_type": "execute_result"
    }
   ],
   "source": [
    "np.unique(Y[:,1])"
   ]
  },
  {
   "cell_type": "code",
   "execution_count": 15,
   "id": "b86973cf-c7c2-4b18-b15e-e0c105a1546c",
   "metadata": {},
   "outputs": [
    {
     "data": {
      "text/plain": [
       "array([-1.60356745, -0.26726124,  1.06904497])"
      ]
     },
     "execution_count": 15,
     "metadata": {},
     "output_type": "execute_result"
    }
   ],
   "source": [
    "np.unique(Y[:,2])"
   ]
  },
  {
   "cell_type": "code",
   "execution_count": 16,
   "id": "a67e5ea9-59e8-41db-98d5-3fa9e2b127b3",
   "metadata": {},
   "outputs": [],
   "source": [
    "seq_data_file = Path(data_root, 'data/processed/facial-1012-sequential.pkl')"
   ]
  },
  {
   "cell_type": "code",
   "execution_count": 17,
   "id": "cbb141c5-4190-4603-9278-8ede415b1cea",
   "metadata": {},
   "outputs": [],
   "source": [
    "with open(seq_data_file, 'wb') as file:\n",
    "    pickle.dump((X,Y), file)"
   ]
  },
  {
   "cell_type": "code",
   "execution_count": null,
   "id": "d848a4a9-b2fb-4373-a2a0-1b284a1ec558",
   "metadata": {},
   "outputs": [],
   "source": []
  },
  {
   "cell_type": "code",
   "execution_count": null,
   "id": "18cda949-d60b-4d42-8a29-0dda880a2c18",
   "metadata": {},
   "outputs": [],
   "source": []
  },
  {
   "cell_type": "code",
   "execution_count": null,
   "id": "ccab5f48-4d52-44e0-bca0-986288228a68",
   "metadata": {},
   "outputs": [],
   "source": []
  },
  {
   "cell_type": "code",
   "execution_count": null,
   "id": "2a4a503b-1487-40a3-a7a5-1fce52ad7c6d",
   "metadata": {},
   "outputs": [],
   "source": []
  }
 ],
 "metadata": {
  "kernelspec": {
   "display_name": "Python 3 (ipykernel)",
   "language": "python",
   "name": "python3"
  },
  "language_info": {
   "codemirror_mode": {
    "name": "ipython",
    "version": 3
   },
   "file_extension": ".py",
   "mimetype": "text/x-python",
   "name": "python",
   "nbconvert_exporter": "python",
   "pygments_lexer": "ipython3",
   "version": "3.10.2"
  }
 },
 "nbformat": 4,
 "nbformat_minor": 5
}
