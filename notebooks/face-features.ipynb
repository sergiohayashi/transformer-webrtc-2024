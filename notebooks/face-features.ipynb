{
 "cells": [
  {
   "cell_type": "code",
   "execution_count": 81,
   "id": "a8e0a0dc-433b-4dcd-81c5-0c5d5c189365",
   "metadata": {},
   "outputs": [],
   "source": [
    "from pathlib import Path\n",
    "import re\n",
    "import pandas as pd\n",
    "import os\n",
    "import numpy as np"
   ]
  },
  {
   "cell_type": "code",
   "execution_count": null,
   "id": "9f67f933-1552-4c10-928e-e6aae01d6d24",
   "metadata": {},
   "outputs": [],
   "source": []
  },
  {
   "cell_type": "code",
   "execution_count": null,
   "id": "d4cc4d76-7862-4008-92c8-814d38c60e3a",
   "metadata": {},
   "outputs": [],
   "source": []
  },
  {
   "cell_type": "code",
   "execution_count": 18,
   "id": "6b0b2a3c-e54d-4227-b759-dcfc61a7132e",
   "metadata": {},
   "outputs": [],
   "source": [
    "project_root = r\"C:/Users/hayashi/doutorado/mac6958--dados-redes/webrtc\""
   ]
  },
  {
   "cell_type": "code",
   "execution_count": 4,
   "id": "aa7f69c8-2556-40be-8552-be76dfb5c315",
   "metadata": {},
   "outputs": [
    {
     "data": {
      "text/plain": [
       "WindowsPath('../..')"
      ]
     },
     "execution_count": 4,
     "metadata": {},
     "output_type": "execute_result"
    }
   ],
   "source": [
    "Path(data_root)"
   ]
  },
  {
   "cell_type": "code",
   "execution_count": 16,
   "id": "09b2d7b9-af20-43b4-9226-45d29432c6f1",
   "metadata": {},
   "outputs": [
    {
     "name": "stdout",
     "output_type": "stream",
     "text": [
      "C:\\Users\\hayashi\\doutorado\\mac6958--dados-redes\\webrtc\n"
     ]
    }
   ],
   "source": [
    "print(Path.cwd())"
   ]
  },
  {
   "cell_type": "code",
   "execution_count": 33,
   "id": "007777f9-3c42-4bc9-824b-824d4e1a09ff",
   "metadata": {},
   "outputs": [
    {
     "data": {
      "text/plain": [
       "[WindowsPath('C:/Users/hayashi/doutorado/mac6958--dados-redes/webrtc/data/raw/Facial_expression_features_dataset/User1/TC10_1000-500-15.csv'),\n",
       " WindowsPath('C:/Users/hayashi/doutorado/mac6958--dados-redes/webrtc/data/raw/Facial_expression_features_dataset/User1/TC11_0-0-30.csv'),\n",
       " WindowsPath('C:/Users/hayashi/doutorado/mac6958--dados-redes/webrtc/data/raw/Facial_expression_features_dataset/User1/TC12_500-0-30.csv'),\n",
       " WindowsPath('C:/Users/hayashi/doutorado/mac6958--dados-redes/webrtc/data/raw/Facial_expression_features_dataset/User1/TC13_1000-0-30.csv'),\n",
       " WindowsPath('C:/Users/hayashi/doutorado/mac6958--dados-redes/webrtc/data/raw/Facial_expression_features_dataset/User1/TC14_500-500-30.csv'),\n",
       " WindowsPath('C:/Users/hayashi/doutorado/mac6958--dados-redes/webrtc/data/raw/Facial_expression_features_dataset/User1/TC15_1000-500-30.csv'),\n",
       " WindowsPath('C:/Users/hayashi/doutorado/mac6958--dados-redes/webrtc/data/raw/Facial_expression_features_dataset/User1/TC1_0-0-0.csv'),\n",
       " WindowsPath('C:/Users/hayashi/doutorado/mac6958--dados-redes/webrtc/data/raw/Facial_expression_features_dataset/User1/TC2_500-0-0.csv'),\n",
       " WindowsPath('C:/Users/hayashi/doutorado/mac6958--dados-redes/webrtc/data/raw/Facial_expression_features_dataset/User1/TC3_1000-0-0.csv'),\n",
       " WindowsPath('C:/Users/hayashi/doutorado/mac6958--dados-redes/webrtc/data/raw/Facial_expression_features_dataset/User1/TC4_500-500-0.csv')]"
      ]
     },
     "execution_count": 33,
     "metadata": {},
     "output_type": "execute_result"
    }
   ],
   "source": [
    "files = [f for f in Path(data_root, 'data/raw/Facial_expression_features_dataset').rglob('TC*.csv')]\n",
    "files[:10]"
   ]
  },
  {
   "cell_type": "code",
   "execution_count": 35,
   "id": "3f985d4d-0ef7-4d64-94ac-b543e8ec06bb",
   "metadata": {},
   "outputs": [
    {
     "name": "stdout",
     "output_type": "stream",
     "text": [
      "['User1', 'TC10_1000-500-15.csv'] ['TC10_1000-500-15.csv'] TC10_1000-500-15.csv\n",
      "['User1', 'TC11_0-0-30.csv'] ['TC11_0-0-30.csv'] TC11_0-0-30.csv\n",
      "['User1', 'TC12_500-0-30.csv'] ['TC12_500-0-30.csv'] TC12_500-0-30.csv\n",
      "['User1', 'TC13_1000-0-30.csv'] ['TC13_1000-0-30.csv'] TC13_1000-0-30.csv\n",
      "['User1', 'TC14_500-500-30.csv'] ['TC14_500-500-30.csv'] TC14_500-500-30.csv\n",
      "['User1', 'TC15_1000-500-30.csv'] ['TC15_1000-500-30.csv'] TC15_1000-500-30.csv\n",
      "['User1', 'TC1_0-0-0.csv'] ['TC1_0-0-0.csv'] TC1_0-0-0.csv\n",
      "['User1', 'TC2_500-0-0.csv'] ['TC2_500-0-0.csv'] TC2_500-0-0.csv\n",
      "['User1', 'TC3_1000-0-0.csv'] ['TC3_1000-0-0.csv'] TC3_1000-0-0.csv\n",
      "['User1', 'TC4_500-500-0.csv'] ['TC4_500-500-0.csv'] TC4_500-500-0.csv\n",
      "['User1', 'TC5_1000-500-0.csv'] ['TC5_1000-500-0.csv'] TC5_1000-500-0.csv\n",
      "['User1', 'TC6_0-0-15.csv'] ['TC6_0-0-15.csv'] TC6_0-0-15.csv\n",
      "['User1', 'TC7_500-0-15.csv'] ['TC7_500-0-15.csv'] TC7_500-0-15.csv\n",
      "['User1', 'TC8_1000-0-15.csv'] ['TC8_1000-0-15.csv'] TC8_1000-0-15.csv\n",
      "['User1', 'TC9_500-500-15.csv'] ['TC9_500-500-15.csv'] TC9_500-500-15.csv\n",
      "['User10', 'TC10_1000-500-15.csv'] ['TC10_1000-500-15.csv'] TC10_1000-500-15.csv\n",
      "['User10', 'TC11_0-0-30.csv'] ['TC11_0-0-30.csv'] TC11_0-0-30.csv\n",
      "['User10', 'TC12_500-0-30.csv'] ['TC12_500-0-30.csv'] TC12_500-0-30.csv\n",
      "['User10', 'TC13_1000-0-30.csv'] ['TC13_1000-0-30.csv'] TC13_1000-0-30.csv\n",
      "['User10', 'TC14_500-500-30.csv'] ['TC14_500-500-30.csv'] TC14_500-500-30.csv\n",
      "['User10', 'TC15_1000-500-30.csv'] ['TC15_1000-500-30.csv'] TC15_1000-500-30.csv\n",
      "['User10', 'TC1_0-0-0.csv'] ['TC1_0-0-0.csv'] TC1_0-0-0.csv\n",
      "['User10', 'TC2_500-0-0.csv'] ['TC2_500-0-0.csv'] TC2_500-0-0.csv\n",
      "['User10', 'TC3_1000-0-0.csv'] ['TC3_1000-0-0.csv'] TC3_1000-0-0.csv\n",
      "['User10', 'TC4_500-500-0.csv'] ['TC4_500-500-0.csv'] TC4_500-500-0.csv\n",
      "['User10', 'TC5_1000-500-0.csv'] ['TC5_1000-500-0.csv'] TC5_1000-500-0.csv\n",
      "['User10', 'TC6_0-0-15.csv'] ['TC6_0-0-15.csv'] TC6_0-0-15.csv\n",
      "['User10', 'TC7_500-0-15.csv'] ['TC7_500-0-15.csv'] TC7_500-0-15.csv\n",
      "['User10', 'TC8_1000-0-15.csv'] ['TC8_1000-0-15.csv'] TC8_1000-0-15.csv\n",
      "['User10', 'TC9_500-500-15.csv'] ['TC9_500-500-15.csv'] TC9_500-500-15.csv\n",
      "['User11', 'TC10_1000-500-15.csv'] ['TC10_1000-500-15.csv'] TC10_1000-500-15.csv\n",
      "['User11', 'TC11_0-0-30.csv'] ['TC11_0-0-30.csv'] TC11_0-0-30.csv\n",
      "['User11', 'TC12_500-0-30.csv'] ['TC12_500-0-30.csv'] TC12_500-0-30.csv\n",
      "['User11', 'TC13_1000-0-30.csv'] ['TC13_1000-0-30.csv'] TC13_1000-0-30.csv\n",
      "['User11', 'TC14_500-500-30.csv'] ['TC14_500-500-30.csv'] TC14_500-500-30.csv\n",
      "['User11', 'TC15_1000-500-30.csv'] ['TC15_1000-500-30.csv'] TC15_1000-500-30.csv\n",
      "['User11', 'TC1_0-0-0.csv'] ['TC1_0-0-0.csv'] TC1_0-0-0.csv\n",
      "['User11', 'TC2_500-0-0.csv'] ['TC2_500-0-0.csv'] TC2_500-0-0.csv\n",
      "['User11', 'TC3_1000-0-0.csv'] ['TC3_1000-0-0.csv'] TC3_1000-0-0.csv\n",
      "['User11', 'TC4_500-500-0.csv'] ['TC4_500-500-0.csv'] TC4_500-500-0.csv\n",
      "['User11', 'TC5_1000-500-0.csv'] ['TC5_1000-500-0.csv'] TC5_1000-500-0.csv\n",
      "['User11', 'TC6_0-0-15.csv'] ['TC6_0-0-15.csv'] TC6_0-0-15.csv\n",
      "['User11', 'TC7_500-0-15.csv'] ['TC7_500-0-15.csv'] TC7_500-0-15.csv\n",
      "['User11', 'TC8_1000-0-15.csv'] ['TC8_1000-0-15.csv'] TC8_1000-0-15.csv\n",
      "['User11', 'TC9_500-500-15.csv'] ['TC9_500-500-15.csv'] TC9_500-500-15.csv\n",
      "['User12', 'TC10_1000-500-15.csv'] ['TC10_1000-500-15.csv'] TC10_1000-500-15.csv\n",
      "['User12', 'TC11_0-0-30.csv'] ['TC11_0-0-30.csv'] TC11_0-0-30.csv\n",
      "['User12', 'TC12_500-0-30.csv'] ['TC12_500-0-30.csv'] TC12_500-0-30.csv\n",
      "['User12', 'TC13_1000-0-30.csv'] ['TC13_1000-0-30.csv'] TC13_1000-0-30.csv\n",
      "['User12', 'TC14_500-500-30.csv'] ['TC14_500-500-30.csv'] TC14_500-500-30.csv\n",
      "['User12', 'TC15_1000-500-30.csv'] ['TC15_1000-500-30.csv'] TC15_1000-500-30.csv\n",
      "['User12', 'TC1_0-0-0.csv'] ['TC1_0-0-0.csv'] TC1_0-0-0.csv\n",
      "['User12', 'TC2_500-0-0.csv'] ['TC2_500-0-0.csv'] TC2_500-0-0.csv\n",
      "['User12', 'TC3_1000-0-0.csv'] ['TC3_1000-0-0.csv'] TC3_1000-0-0.csv\n",
      "['User12', 'TC4_500-500-0.csv'] ['TC4_500-500-0.csv'] TC4_500-500-0.csv\n",
      "['User12', 'TC5_1000-500-0.csv'] ['TC5_1000-500-0.csv'] TC5_1000-500-0.csv\n",
      "['User12', 'TC6_0-0-15.csv'] ['TC6_0-0-15.csv'] TC6_0-0-15.csv\n",
      "['User12', 'TC7_500-0-15.csv'] ['TC7_500-0-15.csv'] TC7_500-0-15.csv\n",
      "['User12', 'TC8_1000-0-15.csv'] ['TC8_1000-0-15.csv'] TC8_1000-0-15.csv\n",
      "['User12', 'TC9_500-500-15.csv'] ['TC9_500-500-15.csv'] TC9_500-500-15.csv\n",
      "['User13', 'TC10_1000-500-15.csv'] ['TC10_1000-500-15.csv'] TC10_1000-500-15.csv\n",
      "['User13', 'TC11_0-0-30.csv'] ['TC11_0-0-30.csv'] TC11_0-0-30.csv\n",
      "['User13', 'TC12_500-0-30.csv'] ['TC12_500-0-30.csv'] TC12_500-0-30.csv\n",
      "['User13', 'TC13_1000-0-30.csv'] ['TC13_1000-0-30.csv'] TC13_1000-0-30.csv\n",
      "['User13', 'TC14_500-500-30.csv'] ['TC14_500-500-30.csv'] TC14_500-500-30.csv\n",
      "['User13', 'TC15_1000-500-30.csv'] ['TC15_1000-500-30.csv'] TC15_1000-500-30.csv\n",
      "['User13', 'TC1_0-0-0.csv'] ['TC1_0-0-0.csv'] TC1_0-0-0.csv\n",
      "['User13', 'TC2_500-0-0.csv'] ['TC2_500-0-0.csv'] TC2_500-0-0.csv\n",
      "['User13', 'TC3_1000-0-0.csv'] ['TC3_1000-0-0.csv'] TC3_1000-0-0.csv\n",
      "['User13', 'TC4_500-500-0.csv'] ['TC4_500-500-0.csv'] TC4_500-500-0.csv\n",
      "['User13', 'TC5_1000-500-0.csv'] ['TC5_1000-500-0.csv'] TC5_1000-500-0.csv\n",
      "['User13', 'TC6_0-0-15.csv'] ['TC6_0-0-15.csv'] TC6_0-0-15.csv\n",
      "['User13', 'TC7_500-0-15.csv'] ['TC7_500-0-15.csv'] TC7_500-0-15.csv\n",
      "['User13', 'TC8_1000-0-15.csv'] ['TC8_1000-0-15.csv'] TC8_1000-0-15.csv\n",
      "['User13', 'TC9_500-500-15.csv'] ['TC9_500-500-15.csv'] TC9_500-500-15.csv\n",
      "['User14', 'TC10_1000-500-15.csv'] ['TC10_1000-500-15.csv'] TC10_1000-500-15.csv\n",
      "['User14', 'TC11_0-0-30.csv'] ['TC11_0-0-30.csv'] TC11_0-0-30.csv\n",
      "['User14', 'TC12_500-0-30.csv'] ['TC12_500-0-30.csv'] TC12_500-0-30.csv\n",
      "['User14', 'TC13_1000-0-30.csv'] ['TC13_1000-0-30.csv'] TC13_1000-0-30.csv\n",
      "['User14', 'TC14_500-500-30.csv'] ['TC14_500-500-30.csv'] TC14_500-500-30.csv\n",
      "['User14', 'TC15_1000-500-30.csv'] ['TC15_1000-500-30.csv'] TC15_1000-500-30.csv\n",
      "['User14', 'TC1_0-0-0.csv'] ['TC1_0-0-0.csv'] TC1_0-0-0.csv\n",
      "['User14', 'TC2_500-0-0.csv'] ['TC2_500-0-0.csv'] TC2_500-0-0.csv\n",
      "['User14', 'TC3_1000-0-0.csv'] ['TC3_1000-0-0.csv'] TC3_1000-0-0.csv\n",
      "['User14', 'TC4_500-500-0.csv'] ['TC4_500-500-0.csv'] TC4_500-500-0.csv\n",
      "['User14', 'TC5_1000-500-0.csv'] ['TC5_1000-500-0.csv'] TC5_1000-500-0.csv\n",
      "['User14', 'TC6_0-0-15.csv'] ['TC6_0-0-15.csv'] TC6_0-0-15.csv\n",
      "['User14', 'TC7_500-0-15.csv'] ['TC7_500-0-15.csv'] TC7_500-0-15.csv\n",
      "['User14', 'TC8_1000-0-15.csv'] ['TC8_1000-0-15.csv'] TC8_1000-0-15.csv\n",
      "['User14', 'TC9_500-500-15.csv'] ['TC9_500-500-15.csv'] TC9_500-500-15.csv\n",
      "['User15', 'TC10_1000-500-15.csv'] ['TC10_1000-500-15.csv'] TC10_1000-500-15.csv\n",
      "['User15', 'TC11_0-0-30.csv'] ['TC11_0-0-30.csv'] TC11_0-0-30.csv\n",
      "['User15', 'TC12_500-0-30.csv'] ['TC12_500-0-30.csv'] TC12_500-0-30.csv\n",
      "['User15', 'TC13_1000-0-30.csv'] ['TC13_1000-0-30.csv'] TC13_1000-0-30.csv\n",
      "['User15', 'TC14_500-500-30.csv'] ['TC14_500-500-30.csv'] TC14_500-500-30.csv\n",
      "['User15', 'TC15_1000-500-30.csv'] ['TC15_1000-500-30.csv'] TC15_1000-500-30.csv\n",
      "['User15', 'TC1_0-0-0.csv'] ['TC1_0-0-0.csv'] TC1_0-0-0.csv\n",
      "['User15', 'TC2_500-0-0.csv'] ['TC2_500-0-0.csv'] TC2_500-0-0.csv\n",
      "['User15', 'TC3_1000-0-0.csv'] ['TC3_1000-0-0.csv'] TC3_1000-0-0.csv\n",
      "['User15', 'TC4_500-500-0.csv'] ['TC4_500-500-0.csv'] TC4_500-500-0.csv\n",
      "['User15', 'TC5_1000-500-0.csv'] ['TC5_1000-500-0.csv'] TC5_1000-500-0.csv\n",
      "['User15', 'TC6_0-0-15.csv'] ['TC6_0-0-15.csv'] TC6_0-0-15.csv\n",
      "['User15', 'TC7_500-0-15.csv'] ['TC7_500-0-15.csv'] TC7_500-0-15.csv\n",
      "['User15', 'TC8_1000-0-15.csv'] ['TC8_1000-0-15.csv'] TC8_1000-0-15.csv\n",
      "['User15', 'TC9_500-500-15.csv'] ['TC9_500-500-15.csv'] TC9_500-500-15.csv\n",
      "['User16', 'TC10_1000-500-15.csv'] ['TC10_1000-500-15.csv'] TC10_1000-500-15.csv\n",
      "['User16', 'TC11_0-0-30.csv'] ['TC11_0-0-30.csv'] TC11_0-0-30.csv\n",
      "['User16', 'TC12_500-0-30.csv'] ['TC12_500-0-30.csv'] TC12_500-0-30.csv\n",
      "['User16', 'TC13_1000-0-30.csv'] ['TC13_1000-0-30.csv'] TC13_1000-0-30.csv\n",
      "['User16', 'TC14_500-500-30.csv'] ['TC14_500-500-30.csv'] TC14_500-500-30.csv\n",
      "['User16', 'TC15_1000-500-30.csv'] ['TC15_1000-500-30.csv'] TC15_1000-500-30.csv\n",
      "['User16', 'TC1_0-0-0.csv'] ['TC1_0-0-0.csv'] TC1_0-0-0.csv\n",
      "['User16', 'TC2_500-0-0.csv'] ['TC2_500-0-0.csv'] TC2_500-0-0.csv\n",
      "['User16', 'TC3_1000-0-0.csv'] ['TC3_1000-0-0.csv'] TC3_1000-0-0.csv\n",
      "['User16', 'TC4_500-500-0.csv'] ['TC4_500-500-0.csv'] TC4_500-500-0.csv\n",
      "['User16', 'TC5_1000-500-0.csv'] ['TC5_1000-500-0.csv'] TC5_1000-500-0.csv\n",
      "['User16', 'TC6_0-0-15.csv'] ['TC6_0-0-15.csv'] TC6_0-0-15.csv\n",
      "['User16', 'TC7_500-0-15.csv'] ['TC7_500-0-15.csv'] TC7_500-0-15.csv\n",
      "['User16', 'TC8_1000-0-15.csv'] ['TC8_1000-0-15.csv'] TC8_1000-0-15.csv\n",
      "['User16', 'TC9_500-500-15.csv'] ['TC9_500-500-15.csv'] TC9_500-500-15.csv\n",
      "['User17', 'TC10_1000-500-15.csv'] ['TC10_1000-500-15.csv'] TC10_1000-500-15.csv\n",
      "['User17', 'TC11_0-0-30.csv'] ['TC11_0-0-30.csv'] TC11_0-0-30.csv\n",
      "['User17', 'TC12_500-0-30.csv'] ['TC12_500-0-30.csv'] TC12_500-0-30.csv\n",
      "['User17', 'TC13_1000-0-30.csv'] ['TC13_1000-0-30.csv'] TC13_1000-0-30.csv\n",
      "['User17', 'TC14_500-500-30.csv'] ['TC14_500-500-30.csv'] TC14_500-500-30.csv\n",
      "['User17', 'TC15_1000-500-30.csv'] ['TC15_1000-500-30.csv'] TC15_1000-500-30.csv\n",
      "['User17', 'TC1_0-0-0.csv'] ['TC1_0-0-0.csv'] TC1_0-0-0.csv\n",
      "['User17', 'TC2_500-0-0.csv'] ['TC2_500-0-0.csv'] TC2_500-0-0.csv\n",
      "['User17', 'TC3_1000-0-0.csv'] ['TC3_1000-0-0.csv'] TC3_1000-0-0.csv\n",
      "['User17', 'TC4_500-500-0.csv'] ['TC4_500-500-0.csv'] TC4_500-500-0.csv\n",
      "['User17', 'TC5_1000-500-0.csv'] ['TC5_1000-500-0.csv'] TC5_1000-500-0.csv\n",
      "['User17', 'TC6_0-0-15.csv'] ['TC6_0-0-15.csv'] TC6_0-0-15.csv\n",
      "['User17', 'TC7_500-0-15.csv'] ['TC7_500-0-15.csv'] TC7_500-0-15.csv\n",
      "['User17', 'TC8_1000-0-15.csv'] ['TC8_1000-0-15.csv'] TC8_1000-0-15.csv\n",
      "['User17', 'TC9_500-500-15.csv'] ['TC9_500-500-15.csv'] TC9_500-500-15.csv\n",
      "['User18', 'TC10_1000-500-15.csv'] ['TC10_1000-500-15.csv'] TC10_1000-500-15.csv\n",
      "['User18', 'TC11_0-0-30.csv'] ['TC11_0-0-30.csv'] TC11_0-0-30.csv\n",
      "['User18', 'TC12_500-0-30.csv'] ['TC12_500-0-30.csv'] TC12_500-0-30.csv\n",
      "['User18', 'TC13_1000-0-30.csv'] ['TC13_1000-0-30.csv'] TC13_1000-0-30.csv\n",
      "['User18', 'TC14_500-500-30.csv'] ['TC14_500-500-30.csv'] TC14_500-500-30.csv\n",
      "['User18', 'TC15_1000-500-30.csv'] ['TC15_1000-500-30.csv'] TC15_1000-500-30.csv\n",
      "['User18', 'TC1_0-0-0.csv'] ['TC1_0-0-0.csv'] TC1_0-0-0.csv\n",
      "['User18', 'TC2_500-0-0.csv'] ['TC2_500-0-0.csv'] TC2_500-0-0.csv\n",
      "['User18', 'TC3_1000-0-0.csv'] ['TC3_1000-0-0.csv'] TC3_1000-0-0.csv\n",
      "['User18', 'TC4_500-500-0.csv'] ['TC4_500-500-0.csv'] TC4_500-500-0.csv\n",
      "['User18', 'TC5_1000-500-0.csv'] ['TC5_1000-500-0.csv'] TC5_1000-500-0.csv\n",
      "['User18', 'TC6_0-0-15.csv'] ['TC6_0-0-15.csv'] TC6_0-0-15.csv\n",
      "['User18', 'TC7_500-0-15.csv'] ['TC7_500-0-15.csv'] TC7_500-0-15.csv\n",
      "['User18', 'TC8_1000-0-15.csv'] ['TC8_1000-0-15.csv'] TC8_1000-0-15.csv\n",
      "['User18', 'TC9_500-500-15.csv'] ['TC9_500-500-15.csv'] TC9_500-500-15.csv\n",
      "['User19', 'TC10_1000-500-15.csv'] ['TC10_1000-500-15.csv'] TC10_1000-500-15.csv\n",
      "['User19', 'TC11_0-0-30.csv'] ['TC11_0-0-30.csv'] TC11_0-0-30.csv\n",
      "['User19', 'TC12_500-0-30.csv'] ['TC12_500-0-30.csv'] TC12_500-0-30.csv\n",
      "['User19', 'TC13_1000-0-30.csv'] ['TC13_1000-0-30.csv'] TC13_1000-0-30.csv\n",
      "['User19', 'TC14_500-500-30.csv'] ['TC14_500-500-30.csv'] TC14_500-500-30.csv\n",
      "['User19', 'TC15_1000-500-30.csv'] ['TC15_1000-500-30.csv'] TC15_1000-500-30.csv\n",
      "['User19', 'TC1_0-0-0.csv'] ['TC1_0-0-0.csv'] TC1_0-0-0.csv\n",
      "['User19', 'TC2_500-0-0.csv'] ['TC2_500-0-0.csv'] TC2_500-0-0.csv\n",
      "['User19', 'TC3_1000-0-0.csv'] ['TC3_1000-0-0.csv'] TC3_1000-0-0.csv\n",
      "['User19', 'TC4_500-500-0.csv'] ['TC4_500-500-0.csv'] TC4_500-500-0.csv\n",
      "['User19', 'TC5_1000-500-0.csv'] ['TC5_1000-500-0.csv'] TC5_1000-500-0.csv\n",
      "['User19', 'TC6_0-0-15.csv'] ['TC6_0-0-15.csv'] TC6_0-0-15.csv\n",
      "['User19', 'TC7_500-0-15.csv'] ['TC7_500-0-15.csv'] TC7_500-0-15.csv\n",
      "['User19', 'TC8_1000-0-15.csv'] ['TC8_1000-0-15.csv'] TC8_1000-0-15.csv\n",
      "['User19', 'TC9_500-500-15.csv'] ['TC9_500-500-15.csv'] TC9_500-500-15.csv\n",
      "['User2', 'TC10_1000-500-15.csv'] ['TC10_1000-500-15.csv'] TC10_1000-500-15.csv\n",
      "['User2', 'TC11_0-0-30.csv'] ['TC11_0-0-30.csv'] TC11_0-0-30.csv\n",
      "['User2', 'TC12_500-0-30.csv'] ['TC12_500-0-30.csv'] TC12_500-0-30.csv\n",
      "['User2', 'TC13_1000-0-30.csv'] ['TC13_1000-0-30.csv'] TC13_1000-0-30.csv\n",
      "['User2', 'TC14_500-500-30.csv'] ['TC14_500-500-30.csv'] TC14_500-500-30.csv\n",
      "['User2', 'TC15_1000-500-30.csv'] ['TC15_1000-500-30.csv'] TC15_1000-500-30.csv\n",
      "['User2', 'TC1_0-0-0.csv'] ['TC1_0-0-0.csv'] TC1_0-0-0.csv\n",
      "['User2', 'TC2_500-0-0.csv'] ['TC2_500-0-0.csv'] TC2_500-0-0.csv\n",
      "['User2', 'TC3_1000-0-0.csv'] ['TC3_1000-0-0.csv'] TC3_1000-0-0.csv\n",
      "['User2', 'TC4_500-500-0.csv'] ['TC4_500-500-0.csv'] TC4_500-500-0.csv\n",
      "['User2', 'TC5_1000-500-0.csv'] ['TC5_1000-500-0.csv'] TC5_1000-500-0.csv\n",
      "['User2', 'TC6_0-0-15.csv'] ['TC6_0-0-15.csv'] TC6_0-0-15.csv\n",
      "['User2', 'TC7_500-0-15.csv'] ['TC7_500-0-15.csv'] TC7_500-0-15.csv\n",
      "['User2', 'TC8_1000-0-15.csv'] ['TC8_1000-0-15.csv'] TC8_1000-0-15.csv\n",
      "['User2', 'TC9_500-500-15.csv'] ['TC9_500-500-15.csv'] TC9_500-500-15.csv\n",
      "['User20', 'TC10_1000-500-15.csv'] ['TC10_1000-500-15.csv'] TC10_1000-500-15.csv\n",
      "['User20', 'TC11_0-0-30.csv'] ['TC11_0-0-30.csv'] TC11_0-0-30.csv\n",
      "['User20', 'TC12_500-0-30.csv'] ['TC12_500-0-30.csv'] TC12_500-0-30.csv\n",
      "['User20', 'TC13_1000-0-30.csv'] ['TC13_1000-0-30.csv'] TC13_1000-0-30.csv\n",
      "['User20', 'TC14_500-500-30.csv'] ['TC14_500-500-30.csv'] TC14_500-500-30.csv\n",
      "['User20', 'TC15_1000-500-30.csv'] ['TC15_1000-500-30.csv'] TC15_1000-500-30.csv\n",
      "['User20', 'TC1_0-0-0.csv'] ['TC1_0-0-0.csv'] TC1_0-0-0.csv\n",
      "['User20', 'TC2_500-0-0.csv'] ['TC2_500-0-0.csv'] TC2_500-0-0.csv\n",
      "['User20', 'TC3_1000-0-0.csv'] ['TC3_1000-0-0.csv'] TC3_1000-0-0.csv\n",
      "['User20', 'TC4_500-500-0.csv'] ['TC4_500-500-0.csv'] TC4_500-500-0.csv\n",
      "['User20', 'TC5_1000-500-0.csv'] ['TC5_1000-500-0.csv'] TC5_1000-500-0.csv\n",
      "['User20', 'TC6_0-0-15.csv'] ['TC6_0-0-15.csv'] TC6_0-0-15.csv\n",
      "['User20', 'TC7_500-0-15.csv'] ['TC7_500-0-15.csv'] TC7_500-0-15.csv\n",
      "['User20', 'TC8_1000-0-15.csv'] ['TC8_1000-0-15.csv'] TC8_1000-0-15.csv\n",
      "['User20', 'TC9_500-500-15.csv'] ['TC9_500-500-15.csv'] TC9_500-500-15.csv\n",
      "['User3', 'TC10_1000-500-15.csv'] ['TC10_1000-500-15.csv'] TC10_1000-500-15.csv\n",
      "['User3', 'TC11_0-0-30.csv'] ['TC11_0-0-30.csv'] TC11_0-0-30.csv\n",
      "['User3', 'TC12_500-0-30.csv'] ['TC12_500-0-30.csv'] TC12_500-0-30.csv\n",
      "['User3', 'TC13_1000-0-30.csv'] ['TC13_1000-0-30.csv'] TC13_1000-0-30.csv\n",
      "['User3', 'TC14_500-500-30.csv'] ['TC14_500-500-30.csv'] TC14_500-500-30.csv\n",
      "['User3', 'TC15_1000-500-30.csv'] ['TC15_1000-500-30.csv'] TC15_1000-500-30.csv\n",
      "['User3', 'TC1_0-0-0.csv'] ['TC1_0-0-0.csv'] TC1_0-0-0.csv\n",
      "['User3', 'TC2_500-0-0.csv'] ['TC2_500-0-0.csv'] TC2_500-0-0.csv\n",
      "['User3', 'TC3_1000-0-0.csv'] ['TC3_1000-0-0.csv'] TC3_1000-0-0.csv\n",
      "['User3', 'TC4_500-500-0.csv'] ['TC4_500-500-0.csv'] TC4_500-500-0.csv\n",
      "['User3', 'TC5_1000-500-0.csv'] ['TC5_1000-500-0.csv'] TC5_1000-500-0.csv\n",
      "['User3', 'TC6_0-0-15.csv'] ['TC6_0-0-15.csv'] TC6_0-0-15.csv\n",
      "['User3', 'TC7_500-0-15.csv'] ['TC7_500-0-15.csv'] TC7_500-0-15.csv\n",
      "['User3', 'TC8_1000-0-15.csv'] ['TC8_1000-0-15.csv'] TC8_1000-0-15.csv\n",
      "['User3', 'TC9_500-500-15.csv'] ['TC9_500-500-15.csv'] TC9_500-500-15.csv\n",
      "['User4', 'TC10_1000-500-15.csv'] ['TC10_1000-500-15.csv'] TC10_1000-500-15.csv\n",
      "['User4', 'TC11_0-0-30.csv'] ['TC11_0-0-30.csv'] TC11_0-0-30.csv\n",
      "['User4', 'TC12_500-0-30.csv'] ['TC12_500-0-30.csv'] TC12_500-0-30.csv\n",
      "['User4', 'TC13_1000-0-30.csv'] ['TC13_1000-0-30.csv'] TC13_1000-0-30.csv\n",
      "['User4', 'TC14_500-500-30.csv'] ['TC14_500-500-30.csv'] TC14_500-500-30.csv\n",
      "['User4', 'TC15_1000-500-30.csv'] ['TC15_1000-500-30.csv'] TC15_1000-500-30.csv\n",
      "['User4', 'TC1_0-0-0.csv'] ['TC1_0-0-0.csv'] TC1_0-0-0.csv\n",
      "['User4', 'TC2_500-0-0.csv'] ['TC2_500-0-0.csv'] TC2_500-0-0.csv\n",
      "['User4', 'TC3_1000-0-0.csv'] ['TC3_1000-0-0.csv'] TC3_1000-0-0.csv\n",
      "['User4', 'TC4_500-500-0.csv'] ['TC4_500-500-0.csv'] TC4_500-500-0.csv\n",
      "['User4', 'TC5_1000-500-0.csv'] ['TC5_1000-500-0.csv'] TC5_1000-500-0.csv\n",
      "['User4', 'TC6_0-0-15.csv'] ['TC6_0-0-15.csv'] TC6_0-0-15.csv\n",
      "['User4', 'TC7_500-0-15.csv'] ['TC7_500-0-15.csv'] TC7_500-0-15.csv\n",
      "['User4', 'TC8_1000-0-15.csv'] ['TC8_1000-0-15.csv'] TC8_1000-0-15.csv\n",
      "['User4', 'TC9_500-500-15.csv'] ['TC9_500-500-15.csv'] TC9_500-500-15.csv\n",
      "['User5', 'TC10_1000-500-15.csv'] ['TC10_1000-500-15.csv'] TC10_1000-500-15.csv\n",
      "['User5', 'TC11_0-0-30.csv'] ['TC11_0-0-30.csv'] TC11_0-0-30.csv\n",
      "['User5', 'TC12_500-0-30.csv'] ['TC12_500-0-30.csv'] TC12_500-0-30.csv\n",
      "['User5', 'TC13_1000-0-30.csv'] ['TC13_1000-0-30.csv'] TC13_1000-0-30.csv\n",
      "['User5', 'TC14_500-500-30.csv'] ['TC14_500-500-30.csv'] TC14_500-500-30.csv\n",
      "['User5', 'TC15_1000-500-30.csv'] ['TC15_1000-500-30.csv'] TC15_1000-500-30.csv\n",
      "['User5', 'TC1_0-0-0.csv'] ['TC1_0-0-0.csv'] TC1_0-0-0.csv\n",
      "['User5', 'TC2_500-0-0.csv'] ['TC2_500-0-0.csv'] TC2_500-0-0.csv\n",
      "['User5', 'TC3_1000-0-0.csv'] ['TC3_1000-0-0.csv'] TC3_1000-0-0.csv\n",
      "['User5', 'TC4_500-500-0.csv'] ['TC4_500-500-0.csv'] TC4_500-500-0.csv\n",
      "['User5', 'TC5_1000-500-0.csv'] ['TC5_1000-500-0.csv'] TC5_1000-500-0.csv\n",
      "['User5', 'TC6_0-0-15.csv'] ['TC6_0-0-15.csv'] TC6_0-0-15.csv\n",
      "['User5', 'TC7_500-0-15.csv'] ['TC7_500-0-15.csv'] TC7_500-0-15.csv\n",
      "['User5', 'TC8_1000-0-15.csv'] ['TC8_1000-0-15.csv'] TC8_1000-0-15.csv\n",
      "['User5', 'TC9_500-500-15.csv'] ['TC9_500-500-15.csv'] TC9_500-500-15.csv\n",
      "['User6', 'TC10_1000-500-15.csv'] ['TC10_1000-500-15.csv'] TC10_1000-500-15.csv\n",
      "['User6', 'TC11_0-0-30.csv'] ['TC11_0-0-30.csv'] TC11_0-0-30.csv\n",
      "['User6', 'TC12_500-0-30.csv'] ['TC12_500-0-30.csv'] TC12_500-0-30.csv\n",
      "['User6', 'TC13_1000-0-30.csv'] ['TC13_1000-0-30.csv'] TC13_1000-0-30.csv\n",
      "['User6', 'TC14_500-500-30.csv'] ['TC14_500-500-30.csv'] TC14_500-500-30.csv\n",
      "['User6', 'TC15_1000-500-30.csv'] ['TC15_1000-500-30.csv'] TC15_1000-500-30.csv\n",
      "['User6', 'TC1_0-0-0.csv'] ['TC1_0-0-0.csv'] TC1_0-0-0.csv\n",
      "['User6', 'TC2_500-0-0.csv'] ['TC2_500-0-0.csv'] TC2_500-0-0.csv\n",
      "['User6', 'TC3_1000-0-0.csv'] ['TC3_1000-0-0.csv'] TC3_1000-0-0.csv\n",
      "['User6', 'TC4_500-500-0.csv'] ['TC4_500-500-0.csv'] TC4_500-500-0.csv\n",
      "['User6', 'TC5_1000-500-0.csv'] ['TC5_1000-500-0.csv'] TC5_1000-500-0.csv\n",
      "['User6', 'TC6_0-0-15.csv'] ['TC6_0-0-15.csv'] TC6_0-0-15.csv\n",
      "['User6', 'TC7_500-0-15.csv'] ['TC7_500-0-15.csv'] TC7_500-0-15.csv\n",
      "['User6', 'TC8_1000-0-15.csv'] ['TC8_1000-0-15.csv'] TC8_1000-0-15.csv\n",
      "['User6', 'TC9_500-500-15.csv'] ['TC9_500-500-15.csv'] TC9_500-500-15.csv\n",
      "['User7', 'TC10_1000-500-15.csv'] ['TC10_1000-500-15.csv'] TC10_1000-500-15.csv\n",
      "['User7', 'TC11_0-0-30.csv'] ['TC11_0-0-30.csv'] TC11_0-0-30.csv\n",
      "['User7', 'TC12_500-0-30.csv'] ['TC12_500-0-30.csv'] TC12_500-0-30.csv\n",
      "['User7', 'TC13_1000-0-30.csv'] ['TC13_1000-0-30.csv'] TC13_1000-0-30.csv\n",
      "['User7', 'TC14_500-500-30.csv'] ['TC14_500-500-30.csv'] TC14_500-500-30.csv\n",
      "['User7', 'TC15_1000-500-30.csv'] ['TC15_1000-500-30.csv'] TC15_1000-500-30.csv\n",
      "['User7', 'TC1_0-0-0.csv'] ['TC1_0-0-0.csv'] TC1_0-0-0.csv\n",
      "['User7', 'TC2_500-0-0.csv'] ['TC2_500-0-0.csv'] TC2_500-0-0.csv\n",
      "['User7', 'TC3_1000-0-0.csv'] ['TC3_1000-0-0.csv'] TC3_1000-0-0.csv\n",
      "['User7', 'TC4_500-500-0.csv'] ['TC4_500-500-0.csv'] TC4_500-500-0.csv\n",
      "['User7', 'TC5_1000-500-0.csv'] ['TC5_1000-500-0.csv'] TC5_1000-500-0.csv\n",
      "['User7', 'TC6_0-0-15.csv'] ['TC6_0-0-15.csv'] TC6_0-0-15.csv\n",
      "['User7', 'TC7_500-0-15.csv'] ['TC7_500-0-15.csv'] TC7_500-0-15.csv\n",
      "['User7', 'TC8_1000-0-15.csv'] ['TC8_1000-0-15.csv'] TC8_1000-0-15.csv\n",
      "['User7', 'TC9_500-500-15.csv'] ['TC9_500-500-15.csv'] TC9_500-500-15.csv\n",
      "['User8', 'TC10_1000-500-15.csv'] ['TC10_1000-500-15.csv'] TC10_1000-500-15.csv\n",
      "['User8', 'TC11_0-0-30.csv'] ['TC11_0-0-30.csv'] TC11_0-0-30.csv\n",
      "['User8', 'TC12_500-0-30.csv'] ['TC12_500-0-30.csv'] TC12_500-0-30.csv\n",
      "['User8', 'TC13_1000-0-30.csv'] ['TC13_1000-0-30.csv'] TC13_1000-0-30.csv\n",
      "['User8', 'TC14_500-500-30.csv'] ['TC14_500-500-30.csv'] TC14_500-500-30.csv\n",
      "['User8', 'TC15_1000-500-30.csv'] ['TC15_1000-500-30.csv'] TC15_1000-500-30.csv\n",
      "['User8', 'TC1_0-0-0.csv'] ['TC1_0-0-0.csv'] TC1_0-0-0.csv\n",
      "['User8', 'TC2_500-0-0.csv'] ['TC2_500-0-0.csv'] TC2_500-0-0.csv\n",
      "['User8', 'TC3_1000-0-0.csv'] ['TC3_1000-0-0.csv'] TC3_1000-0-0.csv\n",
      "['User8', 'TC4_500-500-0.csv'] ['TC4_500-500-0.csv'] TC4_500-500-0.csv\n",
      "['User8', 'TC5_1000-500-0.csv'] ['TC5_1000-500-0.csv'] TC5_1000-500-0.csv\n",
      "['User8', 'TC6_0-0-15.csv'] ['TC6_0-0-15.csv'] TC6_0-0-15.csv\n",
      "['User8', 'TC7_500-0-15.csv'] ['TC7_500-0-15.csv'] TC7_500-0-15.csv\n",
      "['User8', 'TC8_1000-0-15.csv'] ['TC8_1000-0-15.csv'] TC8_1000-0-15.csv\n",
      "['User8', 'TC9_500-500-15.csv'] ['TC9_500-500-15.csv'] TC9_500-500-15.csv\n",
      "['User9', 'TC10_1000-500-15.csv'] ['TC10_1000-500-15.csv'] TC10_1000-500-15.csv\n",
      "['User9', 'TC11_0-0-30.csv'] ['TC11_0-0-30.csv'] TC11_0-0-30.csv\n",
      "['User9', 'TC12_500-0-30.csv'] ['TC12_500-0-30.csv'] TC12_500-0-30.csv\n",
      "['User9', 'TC13_1000-0-30.csv'] ['TC13_1000-0-30.csv'] TC13_1000-0-30.csv\n",
      "['User9', 'TC14_500-500-30.csv'] ['TC14_500-500-30.csv'] TC14_500-500-30.csv\n",
      "['User9', 'TC15_1000-500-30.csv'] ['TC15_1000-500-30.csv'] TC15_1000-500-30.csv\n",
      "['User9', 'TC1_0-0-0.csv'] ['TC1_0-0-0.csv'] TC1_0-0-0.csv\n",
      "['User9', 'TC2_500-0-0.csv'] ['TC2_500-0-0.csv'] TC2_500-0-0.csv\n",
      "['User9', 'TC3_1000-0-0.csv'] ['TC3_1000-0-0.csv'] TC3_1000-0-0.csv\n",
      "['User9', 'TC4_500-500-0.csv'] ['TC4_500-500-0.csv'] TC4_500-500-0.csv\n",
      "['User9', 'TC5_1000-500-0.csv'] ['TC5_1000-500-0.csv'] TC5_1000-500-0.csv\n",
      "['User9', 'TC6_0-0-15.csv'] ['TC6_0-0-15.csv'] TC6_0-0-15.csv\n",
      "['User9', 'TC7_500-0-15.csv'] ['TC7_500-0-15.csv'] TC7_500-0-15.csv\n",
      "['User9', 'TC8_1000-0-15.csv'] ['TC8_1000-0-15.csv'] TC8_1000-0-15.csv\n",
      "['User9', 'TC9_500-500-15.csv'] ['TC9_500-500-15.csv'] TC9_500-500-15.csv\n"
     ]
    }
   ],
   "source": [
    "for f in files:\n",
    "    print(str(f).split('\\\\')[-2:], f.name.split('[_-]'), f.name )"
   ]
  },
  {
   "cell_type": "code",
   "execution_count": 47,
   "id": "de641553-df85-45fb-82c4-38e8f289d94e",
   "metadata": {},
   "outputs": [
    {
     "data": {
      "text/plain": [
       "['TC10', '1000', '500', '15']"
      ]
     },
     "execution_count": 47,
     "metadata": {},
     "output_type": "execute_result"
    }
   ],
   "source": [
    "re.split('[_\\-.]', 'TC10_1000-500-15.csv')[:-1]"
   ]
  },
  {
   "cell_type": "code",
   "execution_count": null,
   "id": "a329dc5b-9193-4e62-863a-6f6fc3eb477b",
   "metadata": {},
   "outputs": [],
   "source": []
  },
  {
   "cell_type": "code",
   "execution_count": 52,
   "id": "4c33d0ee-2bfd-481a-878f-fa907f6337ab",
   "metadata": {},
   "outputs": [],
   "source": [
    "def label_features(f):\n",
    "    user = str(f).split('\\\\')[-2]\n",
    "    from_name= re.split('[_\\-.]', f.name)[:-1]\n",
    "    return from_name[0:1]+ [user]+ from_name[1:-1]"
   ]
  },
  {
   "cell_type": "code",
   "execution_count": 53,
   "id": "2c484e12-28d2-4a5c-b42f-7db0095a22e0",
   "metadata": {},
   "outputs": [
    {
     "data": {
      "text/plain": [
       "['TC10', 'User1', '1000', '500']"
      ]
     },
     "execution_count": 53,
     "metadata": {},
     "output_type": "execute_result"
    }
   ],
   "source": [
    "label_features(files[0])"
   ]
  },
  {
   "cell_type": "code",
   "execution_count": null,
   "id": "487cfd76-430e-4215-be51-22fe551bc83c",
   "metadata": {},
   "outputs": [],
   "source": []
  },
  {
   "cell_type": "code",
   "execution_count": 89,
   "id": "542a6aaf-6ca6-45d5-8814-e82b0182760f",
   "metadata": {},
   "outputs": [],
   "source": [
    "def read_and_prepare_data(file_paths):\n",
    "    data_info_list = []\n",
    "    \n",
    "    for file_path in file_paths:\n",
    "        # Extract information from the file name\n",
    "        file_name = os.path.basename(file_path)\n",
    "        file_namd_and_user = '/'.join(str(files[0]).split('\\\\')[-2:])\n",
    "        match = re.match(r'User(\\d+)/TC(\\d+)_(\\d+)-(\\d+)-(\\d+).csv', file_namd_and_user)\n",
    "        if match:\n",
    "            user_id = int(match.group(1))\n",
    "            test_condition = int(match.group(2))\n",
    "            delay = int(match.group(3))\n",
    "            jitter = int(match.group(4))\n",
    "            packet_loss_rate = int(match.group(5))\n",
    "        else:\n",
    "            print( 'Oops, not mach. Skip ', file_path)\n",
    "            continue  # Skip files that do not match the pattern\n",
    "        \n",
    "        # Read the CSV file\n",
    "        df = pd.read_csv(file_path)\n",
    "        \n",
    "        # Select only the feature columns (starting from the 6th column)\n",
    "        features = df.iloc[:, 5:].values\n",
    "        \n",
    "        # Convert to numpy array\n",
    "        features_array = np.array(features, dtype=float)\n",
    "        \n",
    "        # Append the data and the extracted information to the list\n",
    "        data_info = {\n",
    "            'user_id': user_id,\n",
    "            'test_condition': test_condition,\n",
    "            'delay': delay,\n",
    "            'jitter': jitter,\n",
    "            'packet_loss_rate': packet_loss_rate,\n",
    "            'features': features_array\n",
    "        }\n",
    "        data_info_list.append(data_info)\n",
    "    \n",
    "    return data_info_list"
   ]
  },
  {
   "cell_type": "code",
   "execution_count": 91,
   "id": "4f775d78-4576-4ed0-90ef-8190ace86201",
   "metadata": {},
   "outputs": [],
   "source": [
    "data_raw = read_and_prepare_data(files)"
   ]
  },
  {
   "cell_type": "code",
   "execution_count": 93,
   "id": "7e42a669-0601-4aa3-99a9-a5f51cc297f5",
   "metadata": {},
   "outputs": [
    {
     "data": {
      "text/plain": [
       "300"
      ]
     },
     "execution_count": 93,
     "metadata": {},
     "output_type": "execute_result"
    }
   ],
   "source": [
    "len(data_raw)"
   ]
  },
  {
   "cell_type": "code",
   "execution_count": 95,
   "id": "7b079638-aadc-425a-899f-9c02582ee62d",
   "metadata": {},
   "outputs": [
    {
     "data": {
      "text/plain": [
       "300"
      ]
     },
     "execution_count": 95,
     "metadata": {},
     "output_type": "execute_result"
    }
   ],
   "source": [
    "20*15"
   ]
  },
  {
   "cell_type": "code",
   "execution_count": null,
   "id": "cb4e81e0-424e-421c-860e-6fa02219df1a",
   "metadata": {},
   "outputs": [],
   "source": []
  },
  {
   "cell_type": "code",
   "execution_count": null,
   "id": "36e9c02c-2d39-4cc3-9a08-6dcd1387fee3",
   "metadata": {},
   "outputs": [],
   "source": []
  },
  {
   "cell_type": "code",
   "execution_count": null,
   "id": "a82ea3f2-ebdf-42fb-a177-07b9fdd4ba8b",
   "metadata": {},
   "outputs": [],
   "source": []
  }
 ],
 "metadata": {
  "kernelspec": {
   "display_name": "Python 3 (ipykernel)",
   "language": "python",
   "name": "python3"
  },
  "language_info": {
   "codemirror_mode": {
    "name": "ipython",
    "version": 3
   },
   "file_extension": ".py",
   "mimetype": "text/x-python",
   "name": "python",
   "nbconvert_exporter": "python",
   "pygments_lexer": "ipython3",
   "version": "3.10.2"
  }
 },
 "nbformat": 4,
 "nbformat_minor": 5
}
