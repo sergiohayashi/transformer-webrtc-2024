{
 "cells": [
  {
   "cell_type": "code",
   "execution_count": 1,
   "id": "ea315976-c5c2-4a71-a30a-716f22b132a1",
   "metadata": {},
   "outputs": [],
   "source": [
    "import os\n",
    "from pathlib import Path\n",
    "import pickle\n",
    "import numpy as np\n",
    "import pandas as pd"
   ]
  },
  {
   "cell_type": "code",
   "execution_count": 2,
   "id": "d9bd61dc-bc94-4eb8-b6fb-c37c6a1e410e",
   "metadata": {},
   "outputs": [],
   "source": [
    "def load_data(filename):\n",
    "    with open(filename, 'rb') as file:\n",
    "        return pickle.load(file)"
   ]
  },
  {
   "cell_type": "code",
   "execution_count": 3,
   "id": "e70fbea4-84b0-4514-b2e1-35e15bee847b",
   "metadata": {},
   "outputs": [],
   "source": [
    "data_root = r\"C:/Users/hayashi/doutorado/mac6958--dados-redes/webrtc\"\n",
    "processed_file = Path(data_root, 'data/processed/facial-1001.pkl')"
   ]
  },
  {
   "cell_type": "code",
   "execution_count": 4,
   "id": "bd7e412d-c14d-468b-8832-665a7bd5c6e5",
   "metadata": {},
   "outputs": [],
   "source": [
    "data = load_data(processed_file)"
   ]
  },
  {
   "cell_type": "code",
   "execution_count": 5,
   "id": "f2a90e58-13c7-4d82-a16f-e8d215aa35f9",
   "metadata": {},
   "outputs": [
    {
     "data": {
      "text/plain": [
       "300"
      ]
     },
     "execution_count": 5,
     "metadata": {},
     "output_type": "execute_result"
    }
   ],
   "source": [
    "len(data)"
   ]
  },
  {
   "cell_type": "code",
   "execution_count": 6,
   "id": "97f78c8f-cc76-447d-8721-ce3701c72c64",
   "metadata": {},
   "outputs": [
    {
     "data": {
      "text/plain": [
       "(3676, 323)"
      ]
     },
     "execution_count": 6,
     "metadata": {},
     "output_type": "execute_result"
    }
   ],
   "source": [
    "data[0]['features'].shape"
   ]
  },
  {
   "cell_type": "code",
   "execution_count": 7,
   "id": "a2b93286-8c97-41c5-84ee-7f6c4e8f4328",
   "metadata": {},
   "outputs": [],
   "source": [
    "# prepare the dataset\n"
   ]
  },
  {
   "cell_type": "code",
   "execution_count": 8,
   "id": "9288c5e2-eb1a-4517-a21c-0dd81fcb5c62",
   "metadata": {},
   "outputs": [],
   "source": [
    "X = np.concatenate([d['features'] for d in data], axis=0)"
   ]
  },
  {
   "cell_type": "code",
   "execution_count": 9,
   "id": "7f83de89-3e0e-48ad-aade-e914a1e3ebfc",
   "metadata": {},
   "outputs": [],
   "source": [
    "Y = [np.tile(\n",
    "        np.array([[d['delay'], d['jitter'], d['packet_loss_rate']]]),\n",
    "        (d['features'].shape[0], 1)\n",
    "      ) for d in data]"
   ]
  },
  {
   "cell_type": "code",
   "execution_count": 10,
   "id": "420552ff-b0ea-414b-9c89-ccbc7f1a5631",
   "metadata": {},
   "outputs": [],
   "source": [
    "Y = np.concatenate(Y, axis=0)"
   ]
  },
  {
   "cell_type": "code",
   "execution_count": 11,
   "id": "f17380f1-71ad-4a76-8908-a8a6651213c4",
   "metadata": {},
   "outputs": [
    {
     "data": {
      "text/plain": [
       "(1049842, 3)"
      ]
     },
     "execution_count": 11,
     "metadata": {},
     "output_type": "execute_result"
    }
   ],
   "source": [
    "Y.shape"
   ]
  },
  {
   "cell_type": "code",
   "execution_count": 12,
   "id": "cad51174-b3a7-46c1-892e-5fabb5bec117",
   "metadata": {},
   "outputs": [
    {
     "data": {
      "text/plain": [
       "array([1000,  500,   15, ...,  500,  500,   15])"
      ]
     },
     "execution_count": 12,
     "metadata": {},
     "output_type": "execute_result"
    }
   ],
   "source": [
    "np.concatenate(Y, axis=0)"
   ]
  },
  {
   "cell_type": "code",
   "execution_count": 13,
   "id": "c9e8318c-6e71-4ddc-a82b-6b70d8337e1c",
   "metadata": {},
   "outputs": [
    {
     "data": {
      "text/plain": [
       "{0, 500, 1000}"
      ]
     },
     "execution_count": 13,
     "metadata": {},
     "output_type": "execute_result"
    }
   ],
   "source": [
    "delay_values = {d['delay'] for d in data}\n",
    "delay_values"
   ]
  },
  {
   "cell_type": "code",
   "execution_count": 14,
   "id": "a752cc52-2e74-471a-a2ea-8c35047483e9",
   "metadata": {},
   "outputs": [
    {
     "data": {
      "text/plain": [
       "{0, 500}"
      ]
     },
     "execution_count": 14,
     "metadata": {},
     "output_type": "execute_result"
    }
   ],
   "source": [
    "jitter_values = {d['jitter'] for d in data}\n",
    "jitter_values"
   ]
  },
  {
   "cell_type": "code",
   "execution_count": 15,
   "id": "4a572a5a-cfae-4f3c-b761-dcb5180c796c",
   "metadata": {},
   "outputs": [
    {
     "data": {
      "text/plain": [
       "{0, 15, 30}"
      ]
     },
     "execution_count": 15,
     "metadata": {},
     "output_type": "execute_result"
    }
   ],
   "source": [
    "packet_loss_values = {d['packet_loss_rate'] for d in data}\n",
    "packet_loss_values"
   ]
  },
  {
   "cell_type": "code",
   "execution_count": 16,
   "id": "da53ae28-833e-4cb7-904d-2a1cbca08e26",
   "metadata": {},
   "outputs": [
    {
     "data": {
      "text/plain": [
       "1000"
      ]
     },
     "execution_count": 16,
     "metadata": {},
     "output_type": "execute_result"
    }
   ],
   "source": [
    "max_delay = max(delay_values)\n",
    "max_delay"
   ]
  },
  {
   "cell_type": "code",
   "execution_count": 17,
   "id": "a2ca9fce-300b-4a26-8e5e-73ba93f6a635",
   "metadata": {},
   "outputs": [
    {
     "data": {
      "text/plain": [
       "{0.0, 0.5, 1.0}"
      ]
     },
     "execution_count": 17,
     "metadata": {},
     "output_type": "execute_result"
    }
   ],
   "source": [
    "{d/max_delay for d in delay_values}"
   ]
  },
  {
   "cell_type": "code",
   "execution_count": 18,
   "id": "e79b9613-5b47-40b4-90f6-eaa936ecad0d",
   "metadata": {},
   "outputs": [
    {
     "data": {
      "text/plain": [
       "500"
      ]
     },
     "execution_count": 18,
     "metadata": {},
     "output_type": "execute_result"
    }
   ],
   "source": [
    "max_jitter = max(jitter_values)\n",
    "max_jitter"
   ]
  },
  {
   "cell_type": "code",
   "execution_count": 19,
   "id": "ad83cbb4-617b-485e-a3a4-5f11e7999bb1",
   "metadata": {},
   "outputs": [
    {
     "data": {
      "text/plain": [
       "30"
      ]
     },
     "execution_count": 19,
     "metadata": {},
     "output_type": "execute_result"
    }
   ],
   "source": [
    "max_package_loss = max(packet_loss_values)\n",
    "max_package_loss"
   ]
  },
  {
   "cell_type": "code",
   "execution_count": 20,
   "id": "e7acbb1c-ccd7-4952-ae6c-b477b9e16e07",
   "metadata": {},
   "outputs": [],
   "source": [
    "newY= Y / [max_delay, max_jitter, max_package_loss]"
   ]
  },
  {
   "cell_type": "code",
   "execution_count": 21,
   "id": "76590fa1-0653-4735-bfa7-2223113d01fb",
   "metadata": {},
   "outputs": [
    {
     "data": {
      "text/plain": [
       "{0.0, 0.5, 1.0}"
      ]
     },
     "execution_count": 21,
     "metadata": {},
     "output_type": "execute_result"
    }
   ],
   "source": [
    "set(d[2] for d in newY)"
   ]
  },
  {
   "cell_type": "code",
   "execution_count": 22,
   "id": "2d197eac-4b4f-49ea-97f2-b6cdf8550c64",
   "metadata": {},
   "outputs": [],
   "source": [
    "Y = newY"
   ]
  },
  {
   "cell_type": "code",
   "execution_count": 23,
   "id": "1f3a4823-5887-4c53-a16e-5b2a158a1a96",
   "metadata": {},
   "outputs": [
    {
     "data": {
      "text/plain": [
       "((1049842, 323), (1049842, 3))"
      ]
     },
     "execution_count": 23,
     "metadata": {},
     "output_type": "execute_result"
    }
   ],
   "source": [
    "X.shape, Y.shape"
   ]
  },
  {
   "cell_type": "code",
   "execution_count": null,
   "id": "9f86f428-c8d9-4ec3-be41-f5535763b933",
   "metadata": {},
   "outputs": [],
   "source": []
  },
  {
   "cell_type": "code",
   "execution_count": null,
   "id": "ae0f7700-1a23-4410-bda2-6e0de58e4047",
   "metadata": {},
   "outputs": [],
   "source": []
  },
  {
   "cell_type": "code",
   "execution_count": 24,
   "id": "6978fdfe-26c4-4d6b-aa28-d9634e21b5e5",
   "metadata": {},
   "outputs": [],
   "source": [
    "import numpy as np\n",
    "import tensorflow as tf"
   ]
  },
  {
   "cell_type": "code",
   "execution_count": 25,
   "id": "f1831b70-518a-4ecc-ab42-d05171389c0e",
   "metadata": {},
   "outputs": [],
   "source": [
    "from sklearn.model_selection import train_test_split"
   ]
  },
  {
   "cell_type": "code",
   "execution_count": 26,
   "id": "2d5a7fb6-eeb7-43bc-9735-37f5bd920dd1",
   "metadata": {},
   "outputs": [],
   "source": [
    "from tensorflow.keras.models import Sequential\n",
    "from tensorflow.keras.layers import Dense, BatchNormalization\n",
    "from tensorflow.keras.optimizers import Adam"
   ]
  },
  {
   "cell_type": "code",
   "execution_count": 27,
   "id": "2ff85d9c-6b1a-4249-96ae-96872de168f2",
   "metadata": {},
   "outputs": [],
   "source": [
    "# Assuming X and Y are already defined as numpy arrays\n",
    "X_train, X_test, Y_train, Y_test = train_test_split(X, Y, test_size=0.2, random_state=42)"
   ]
  },
  {
   "cell_type": "code",
   "execution_count": 28,
   "id": "de74722c-bccf-43d6-8230-668ccfcede94",
   "metadata": {},
   "outputs": [],
   "source": [
    "import matplotlib.pyplot as plt"
   ]
  },
  {
   "cell_type": "code",
   "execution_count": 29,
   "id": "6b566a63-5a76-4f75-87c1-a5448776eaf3",
   "metadata": {},
   "outputs": [],
   "source": [
    "from tensorflow.keras.layers import Dropout"
   ]
  },
  {
   "cell_type": "code",
   "execution_count": 30,
   "id": "0c18573d-3792-429c-89cb-c899753755e9",
   "metadata": {},
   "outputs": [
    {
     "name": "stderr",
     "output_type": "stream",
     "text": [
      "C:\\Python\\Python310\\lib\\site-packages\\keras\\src\\layers\\core\\dense.py:87: UserWarning: Do not pass an `input_shape`/`input_dim` argument to a layer. When using Sequential models, prefer using an `Input(shape)` object as the first layer in the model instead.\n",
      "  super().__init__(activity_regularizer=activity_regularizer, **kwargs)\n"
     ]
    }
   ],
   "source": [
    "model = Sequential([\n",
    "    Dense(128, input_shape=(323,), activation='relu'),\n",
    "    BatchNormalization(),\n",
    "    Dropout(0.3),  # Dropout at 30%\n",
    "    Dense(64, activation='relu'),\n",
    "    BatchNormalization(),\n",
    "    Dropout(0.2),  # Dropout at 20%\n",
    "    Dense(32, activation='relu'),\n",
    "    BatchNormalization(),\n",
    "    Dropout(0.1),  # Dropout at 10%\n",
    "    Dense(3, activation='sigmoid')\n",
    "])"
   ]
  },
  {
   "cell_type": "code",
   "execution_count": 31,
   "id": "ab59458c-1362-40c0-9f6d-f08b7e20e5c8",
   "metadata": {},
   "outputs": [
    {
     "name": "stdout",
     "output_type": "stream",
     "text": [
      "Epoch 1/50\n",
      "\u001b[1m23622/23622\u001b[0m \u001b[32m━━━━━━━━━━━━━━━━━━━━\u001b[0m\u001b[37m\u001b[0m \u001b[1m35s\u001b[0m 1ms/step - loss: 0.1830 - mean_squared_error: 0.1830 - val_loss: 0.1839 - val_mean_squared_error: 0.1839\n",
      "Epoch 2/50\n",
      "\u001b[1m23622/23622\u001b[0m \u001b[32m━━━━━━━━━━━━━━━━━━━━\u001b[0m\u001b[37m\u001b[0m \u001b[1m36s\u001b[0m 2ms/step - loss: 0.1772 - mean_squared_error: 0.1772 - val_loss: 0.1775 - val_mean_squared_error: 0.1775\n",
      "Epoch 3/50\n",
      "\u001b[1m23622/23622\u001b[0m \u001b[32m━━━━━━━━━━━━━━━━━━━━\u001b[0m\u001b[37m\u001b[0m \u001b[1m35s\u001b[0m 1ms/step - loss: 0.1762 - mean_squared_error: 0.1762 - val_loss: 0.1724 - val_mean_squared_error: 0.1724\n",
      "Epoch 4/50\n",
      "\u001b[1m23622/23622\u001b[0m \u001b[32m━━━━━━━━━━━━━━━━━━━━\u001b[0m\u001b[37m\u001b[0m \u001b[1m35s\u001b[0m 1ms/step - loss: 0.1768 - mean_squared_error: 0.1768 - val_loss: 0.1762 - val_mean_squared_error: 0.1762\n",
      "Epoch 5/50\n",
      "\u001b[1m23622/23622\u001b[0m \u001b[32m━━━━━━━━━━━━━━━━━━━━\u001b[0m\u001b[37m\u001b[0m \u001b[1m35s\u001b[0m 1ms/step - loss: 0.1766 - mean_squared_error: 0.1766 - val_loss: 0.1722 - val_mean_squared_error: 0.1722\n",
      "Epoch 6/50\n",
      "\u001b[1m23622/23622\u001b[0m \u001b[32m━━━━━━━━━━━━━━━━━━━━\u001b[0m\u001b[37m\u001b[0m \u001b[1m36s\u001b[0m 2ms/step - loss: 0.1761 - mean_squared_error: 0.1761 - val_loss: 0.1706 - val_mean_squared_error: 0.1706\n",
      "Epoch 7/50\n",
      "\u001b[1m23622/23622\u001b[0m \u001b[32m━━━━━━━━━━━━━━━━━━━━\u001b[0m\u001b[37m\u001b[0m \u001b[1m36s\u001b[0m 2ms/step - loss: 0.1762 - mean_squared_error: 0.1762 - val_loss: 0.1729 - val_mean_squared_error: 0.1729\n",
      "Epoch 8/50\n",
      "\u001b[1m23622/23622\u001b[0m \u001b[32m━━━━━━━━━━━━━━━━━━━━\u001b[0m\u001b[37m\u001b[0m \u001b[1m35s\u001b[0m 1ms/step - loss: 0.1774 - mean_squared_error: 0.1774 - val_loss: 0.1753 - val_mean_squared_error: 0.1753\n",
      "Epoch 9/50\n",
      "\u001b[1m23622/23622\u001b[0m \u001b[32m━━━━━━━━━━━━━━━━━━━━\u001b[0m\u001b[37m\u001b[0m \u001b[1m34s\u001b[0m 1ms/step - loss: 0.1775 - mean_squared_error: 0.1775 - val_loss: 0.1736 - val_mean_squared_error: 0.1736\n",
      "Epoch 10/50\n",
      "\u001b[1m23622/23622\u001b[0m \u001b[32m━━━━━━━━━━━━━━━━━━━━\u001b[0m\u001b[37m\u001b[0m \u001b[1m34s\u001b[0m 1ms/step - loss: 0.1775 - mean_squared_error: 0.1775 - val_loss: 0.1758 - val_mean_squared_error: 0.1758\n",
      "Epoch 11/50\n",
      "\u001b[1m23622/23622\u001b[0m \u001b[32m━━━━━━━━━━━━━━━━━━━━\u001b[0m\u001b[37m\u001b[0m \u001b[1m34s\u001b[0m 1ms/step - loss: 0.1777 - mean_squared_error: 0.1777 - val_loss: 0.1737 - val_mean_squared_error: 0.1737\n",
      "Epoch 12/50\n",
      "\u001b[1m23622/23622\u001b[0m \u001b[32m━━━━━━━━━━━━━━━━━━━━\u001b[0m\u001b[37m\u001b[0m \u001b[1m35s\u001b[0m 1ms/step - loss: 0.1775 - mean_squared_error: 0.1775 - val_loss: 0.1737 - val_mean_squared_error: 0.1737\n",
      "Epoch 13/50\n",
      "\u001b[1m23622/23622\u001b[0m \u001b[32m━━━━━━━━━━━━━━━━━━━━\u001b[0m\u001b[37m\u001b[0m \u001b[1m34s\u001b[0m 1ms/step - loss: 0.1773 - mean_squared_error: 0.1773 - val_loss: 0.1735 - val_mean_squared_error: 0.1735\n",
      "Epoch 14/50\n",
      "\u001b[1m23622/23622\u001b[0m \u001b[32m━━━━━━━━━━━━━━━━━━━━\u001b[0m\u001b[37m\u001b[0m \u001b[1m35s\u001b[0m 1ms/step - loss: 0.1769 - mean_squared_error: 0.1769 - val_loss: 0.1742 - val_mean_squared_error: 0.1742\n",
      "Epoch 15/50\n",
      "\u001b[1m23622/23622\u001b[0m \u001b[32m━━━━━━━━━━━━━━━━━━━━\u001b[0m\u001b[37m\u001b[0m \u001b[1m35s\u001b[0m 1ms/step - loss: 0.1773 - mean_squared_error: 0.1773 - val_loss: 0.1771 - val_mean_squared_error: 0.1771\n",
      "Epoch 16/50\n",
      "\u001b[1m23622/23622\u001b[0m \u001b[32m━━━━━━━━━━━━━━━━━━━━\u001b[0m\u001b[37m\u001b[0m \u001b[1m35s\u001b[0m 1ms/step - loss: 0.1783 - mean_squared_error: 0.1783 - val_loss: 0.1764 - val_mean_squared_error: 0.1764\n",
      "Epoch 17/50\n",
      "\u001b[1m23622/23622\u001b[0m \u001b[32m━━━━━━━━━━━━━━━━━━━━\u001b[0m\u001b[37m\u001b[0m \u001b[1m35s\u001b[0m 1ms/step - loss: 0.1782 - mean_squared_error: 0.1782 - val_loss: 0.1774 - val_mean_squared_error: 0.1774\n",
      "Epoch 18/50\n",
      "\u001b[1m23622/23622\u001b[0m \u001b[32m━━━━━━━━━━━━━━━━━━━━\u001b[0m\u001b[37m\u001b[0m \u001b[1m35s\u001b[0m 1ms/step - loss: 0.1786 - mean_squared_error: 0.1786 - val_loss: 0.1795 - val_mean_squared_error: 0.1795\n",
      "Epoch 19/50\n",
      "\u001b[1m23622/23622\u001b[0m \u001b[32m━━━━━━━━━━━━━━━━━━━━\u001b[0m\u001b[37m\u001b[0m \u001b[1m35s\u001b[0m 1ms/step - loss: 0.1788 - mean_squared_error: 0.1788 - val_loss: 0.1773 - val_mean_squared_error: 0.1773\n",
      "Epoch 20/50\n",
      "\u001b[1m23622/23622\u001b[0m \u001b[32m━━━━━━━━━━━━━━━━━━━━\u001b[0m\u001b[37m\u001b[0m \u001b[1m36s\u001b[0m 2ms/step - loss: 0.1785 - mean_squared_error: 0.1785 - val_loss: 0.1800 - val_mean_squared_error: 0.1800\n",
      "Epoch 21/50\n",
      "\u001b[1m23622/23622\u001b[0m \u001b[32m━━━━━━━━━━━━━━━━━━━━\u001b[0m\u001b[37m\u001b[0m \u001b[1m36s\u001b[0m 2ms/step - loss: 0.1784 - mean_squared_error: 0.1784 - val_loss: 0.1759 - val_mean_squared_error: 0.1759\n",
      "Epoch 22/50\n",
      "\u001b[1m23622/23622\u001b[0m \u001b[32m━━━━━━━━━━━━━━━━━━━━\u001b[0m\u001b[37m\u001b[0m \u001b[1m35s\u001b[0m 1ms/step - loss: 0.1781 - mean_squared_error: 0.1781 - val_loss: 0.1758 - val_mean_squared_error: 0.1758\n",
      "Epoch 23/50\n",
      "\u001b[1m23622/23622\u001b[0m \u001b[32m━━━━━━━━━━━━━━━━━━━━\u001b[0m\u001b[37m\u001b[0m \u001b[1m35s\u001b[0m 1ms/step - loss: 0.1778 - mean_squared_error: 0.1778 - val_loss: 0.1769 - val_mean_squared_error: 0.1769\n",
      "Epoch 24/50\n",
      "\u001b[1m23622/23622\u001b[0m \u001b[32m━━━━━━━━━━━━━━━━━━━━\u001b[0m\u001b[37m\u001b[0m \u001b[1m36s\u001b[0m 2ms/step - loss: 0.1779 - mean_squared_error: 0.1779 - val_loss: 0.1751 - val_mean_squared_error: 0.1751\n",
      "Epoch 25/50\n",
      "\u001b[1m23622/23622\u001b[0m \u001b[32m━━━━━━━━━━━━━━━━━━━━\u001b[0m\u001b[37m\u001b[0m \u001b[1m35s\u001b[0m 1ms/step - loss: 0.1778 - mean_squared_error: 0.1778 - val_loss: 0.1749 - val_mean_squared_error: 0.1749\n",
      "Epoch 26/50\n",
      "\u001b[1m23622/23622\u001b[0m \u001b[32m━━━━━━━━━━━━━━━━━━━━\u001b[0m\u001b[37m\u001b[0m \u001b[1m37s\u001b[0m 2ms/step - loss: 0.1775 - mean_squared_error: 0.1775 - val_loss: 0.1765 - val_mean_squared_error: 0.1765\n",
      "Epoch 27/50\n",
      "\u001b[1m23622/23622\u001b[0m \u001b[32m━━━━━━━━━━━━━━━━━━━━\u001b[0m\u001b[37m\u001b[0m \u001b[1m35s\u001b[0m 1ms/step - loss: 0.1775 - mean_squared_error: 0.1775 - val_loss: 0.1768 - val_mean_squared_error: 0.1768\n",
      "Epoch 28/50\n",
      "\u001b[1m23622/23622\u001b[0m \u001b[32m━━━━━━━━━━━━━━━━━━━━\u001b[0m\u001b[37m\u001b[0m \u001b[1m35s\u001b[0m 1ms/step - loss: 0.1773 - mean_squared_error: 0.1773 - val_loss: 0.1761 - val_mean_squared_error: 0.1761\n",
      "Epoch 29/50\n",
      "\u001b[1m23622/23622\u001b[0m \u001b[32m━━━━━━━━━━━━━━━━━━━━\u001b[0m\u001b[37m\u001b[0m \u001b[1m36s\u001b[0m 2ms/step - loss: 0.1771 - mean_squared_error: 0.1771 - val_loss: 0.1760 - val_mean_squared_error: 0.1760\n",
      "Epoch 30/50\n",
      "\u001b[1m23622/23622\u001b[0m \u001b[32m━━━━━━━━━━━━━━━━━━━━\u001b[0m\u001b[37m\u001b[0m \u001b[1m34s\u001b[0m 1ms/step - loss: 0.1770 - mean_squared_error: 0.1770 - val_loss: 0.1742 - val_mean_squared_error: 0.1742\n",
      "Epoch 31/50\n",
      "\u001b[1m23622/23622\u001b[0m \u001b[32m━━━━━━━━━━━━━━━━━━━━\u001b[0m\u001b[37m\u001b[0m \u001b[1m33s\u001b[0m 1ms/step - loss: 0.1768 - mean_squared_error: 0.1768 - val_loss: 0.1737 - val_mean_squared_error: 0.1737\n",
      "Epoch 32/50\n",
      "\u001b[1m23622/23622\u001b[0m \u001b[32m━━━━━━━━━━━━━━━━━━━━\u001b[0m\u001b[37m\u001b[0m \u001b[1m34s\u001b[0m 1ms/step - loss: 0.1767 - mean_squared_error: 0.1767 - val_loss: 0.1778 - val_mean_squared_error: 0.1778\n",
      "Epoch 33/50\n",
      "\u001b[1m23622/23622\u001b[0m \u001b[32m━━━━━━━━━━━━━━━━━━━━\u001b[0m\u001b[37m\u001b[0m \u001b[1m33s\u001b[0m 1ms/step - loss: 0.1768 - mean_squared_error: 0.1768 - val_loss: 0.1727 - val_mean_squared_error: 0.1727\n",
      "Epoch 34/50\n",
      "\u001b[1m23622/23622\u001b[0m \u001b[32m━━━━━━━━━━━━━━━━━━━━\u001b[0m\u001b[37m\u001b[0m \u001b[1m33s\u001b[0m 1ms/step - loss: 0.1767 - mean_squared_error: 0.1767 - val_loss: 0.1771 - val_mean_squared_error: 0.1771\n",
      "Epoch 35/50\n",
      "\u001b[1m23622/23622\u001b[0m \u001b[32m━━━━━━━━━━━━━━━━━━━━\u001b[0m\u001b[37m\u001b[0m \u001b[1m35s\u001b[0m 1ms/step - loss: 0.1767 - mean_squared_error: 0.1767 - val_loss: 0.1789 - val_mean_squared_error: 0.1789\n",
      "Epoch 36/50\n",
      "\u001b[1m23622/23622\u001b[0m \u001b[32m━━━━━━━━━━━━━━━━━━━━\u001b[0m\u001b[37m\u001b[0m \u001b[1m34s\u001b[0m 1ms/step - loss: 0.1768 - mean_squared_error: 0.1768 - val_loss: 0.1762 - val_mean_squared_error: 0.1762\n",
      "Epoch 37/50\n",
      "\u001b[1m23622/23622\u001b[0m \u001b[32m━━━━━━━━━━━━━━━━━━━━\u001b[0m\u001b[37m\u001b[0m \u001b[1m33s\u001b[0m 1ms/step - loss: 0.1771 - mean_squared_error: 0.1771 - val_loss: 0.1730 - val_mean_squared_error: 0.1730\n",
      "Epoch 38/50\n",
      "\u001b[1m23622/23622\u001b[0m \u001b[32m━━━━━━━━━━━━━━━━━━━━\u001b[0m\u001b[37m\u001b[0m \u001b[1m32s\u001b[0m 1ms/step - loss: 0.1766 - mean_squared_error: 0.1766 - val_loss: 0.1799 - val_mean_squared_error: 0.1799\n",
      "Epoch 39/50\n",
      "\u001b[1m23622/23622\u001b[0m \u001b[32m━━━━━━━━━━━━━━━━━━━━\u001b[0m\u001b[37m\u001b[0m \u001b[1m33s\u001b[0m 1ms/step - loss: 0.1765 - mean_squared_error: 0.1765 - val_loss: 0.1748 - val_mean_squared_error: 0.1748\n",
      "Epoch 40/50\n",
      "\u001b[1m23622/23622\u001b[0m \u001b[32m━━━━━━━━━━━━━━━━━━━━\u001b[0m\u001b[37m\u001b[0m \u001b[1m32s\u001b[0m 1ms/step - loss: 0.1762 - mean_squared_error: 0.1762 - val_loss: 0.1729 - val_mean_squared_error: 0.1729\n",
      "Epoch 41/50\n",
      "\u001b[1m23622/23622\u001b[0m \u001b[32m━━━━━━━━━━━━━━━━━━━━\u001b[0m\u001b[37m\u001b[0m \u001b[1m33s\u001b[0m 1ms/step - loss: 0.1762 - mean_squared_error: 0.1762 - val_loss: 0.1728 - val_mean_squared_error: 0.1728\n",
      "Epoch 42/50\n",
      "\u001b[1m23622/23622\u001b[0m \u001b[32m━━━━━━━━━━━━━━━━━━━━\u001b[0m\u001b[37m\u001b[0m \u001b[1m32s\u001b[0m 1ms/step - loss: 0.1769 - mean_squared_error: 0.1769 - val_loss: 0.1771 - val_mean_squared_error: 0.1771\n",
      "Epoch 43/50\n",
      "\u001b[1m23622/23622\u001b[0m \u001b[32m━━━━━━━━━━━━━━━━━━━━\u001b[0m\u001b[37m\u001b[0m \u001b[1m33s\u001b[0m 1ms/step - loss: 0.1760 - mean_squared_error: 0.1760 - val_loss: 0.1753 - val_mean_squared_error: 0.1753\n",
      "Epoch 44/50\n",
      "\u001b[1m23622/23622\u001b[0m \u001b[32m━━━━━━━━━━━━━━━━━━━━\u001b[0m\u001b[37m\u001b[0m \u001b[1m33s\u001b[0m 1ms/step - loss: 0.1759 - mean_squared_error: 0.1759 - val_loss: 0.1732 - val_mean_squared_error: 0.1732\n",
      "Epoch 45/50\n",
      "\u001b[1m23622/23622\u001b[0m \u001b[32m━━━━━━━━━━━━━━━━━━━━\u001b[0m\u001b[37m\u001b[0m \u001b[1m34s\u001b[0m 1ms/step - loss: 0.1758 - mean_squared_error: 0.1758 - val_loss: 0.1760 - val_mean_squared_error: 0.1760\n",
      "Epoch 46/50\n",
      "\u001b[1m23622/23622\u001b[0m \u001b[32m━━━━━━━━━━━━━━━━━━━━\u001b[0m\u001b[37m\u001b[0m \u001b[1m36s\u001b[0m 2ms/step - loss: 0.1761 - mean_squared_error: 0.1761 - val_loss: 0.1747 - val_mean_squared_error: 0.1747\n",
      "Epoch 47/50\n",
      "\u001b[1m23622/23622\u001b[0m \u001b[32m━━━━━━━━━━━━━━━━━━━━\u001b[0m\u001b[37m\u001b[0m \u001b[1m33s\u001b[0m 1ms/step - loss: 0.1768 - mean_squared_error: 0.1768 - val_loss: 0.1808 - val_mean_squared_error: 0.1808\n",
      "Epoch 48/50\n",
      "\u001b[1m23622/23622\u001b[0m \u001b[32m━━━━━━━━━━━━━━━━━━━━\u001b[0m\u001b[37m\u001b[0m \u001b[1m33s\u001b[0m 1ms/step - loss: 0.1768 - mean_squared_error: 0.1768 - val_loss: 0.1784 - val_mean_squared_error: 0.1784\n",
      "Epoch 49/50\n",
      "\u001b[1m23622/23622\u001b[0m \u001b[32m━━━━━━━━━━━━━━━━━━━━\u001b[0m\u001b[37m\u001b[0m \u001b[1m33s\u001b[0m 1ms/step - loss: 0.1768 - mean_squared_error: 0.1768 - val_loss: 0.1749 - val_mean_squared_error: 0.1749\n",
      "Epoch 50/50\n",
      "\u001b[1m23622/23622\u001b[0m \u001b[32m━━━━━━━━━━━━━━━━━━━━\u001b[0m\u001b[37m\u001b[0m \u001b[1m33s\u001b[0m 1ms/step - loss: 0.1764 - mean_squared_error: 0.1764 - val_loss: 0.1765 - val_mean_squared_error: 0.1765\n"
     ]
    }
   ],
   "source": [
    "model.compile(optimizer=Adam(), loss='mean_squared_error', metrics=['mean_squared_error'])\n",
    "\n",
    "history = model.fit(X_train, Y_train, epochs=50, batch_size=32, validation_split=0.1, verbose=1)"
   ]
  },
  {
   "cell_type": "code",
   "execution_count": 33,
   "id": "d4d552e5-b296-4567-849c-32c2406ce110",
   "metadata": {},
   "outputs": [
    {
     "data": {
      "image/png": "[encoded data removed]",
      "text/plain": [
       "<Figure size 1000x500 with 1 Axes>"
      ]
     },
     "metadata": {},
     "output_type": "display_data"
    }
   ],
   "source": [
    "# Plot training & validation loss values\n",
    "plt.figure(figsize=(10, 5))\n",
    "plt.plot(history.history['loss'], label='Train Loss')\n",
    "plt.plot(history.history['val_loss'], label='Validation Loss')\n",
    "plt.title('Model Loss')\n",
    "plt.ylabel('Loss')\n",
    "plt.xlabel('Epoch')\n",
    "plt.legend(loc='upper right')\n",
    "plt.grid(True)\n",
    "plt.show()"
   ]
  },
  {
   "cell_type": "code",
   "execution_count": null,
   "id": "e5b016f1-296d-4bc5-aadc-66eb95c83cef",
   "metadata": {},
   "outputs": [],
   "source": []
  },
  {
   "cell_type": "code",
   "execution_count": null,
   "id": "795fcb18-a0b6-4e5d-b198-e542a48c796b",
   "metadata": {},
   "outputs": [],
   "source": []
  },
  {
   "cell_type": "code",
   "execution_count": null,
   "id": "e180a427-46a3-4553-86d6-bb85dbd80975",
   "metadata": {},
   "outputs": [],
   "source": []
  },
  {
   "cell_type": "code",
   "execution_count": null,
   "id": "15573e42-2c70-4129-a8ac-b411ce03a54d",
   "metadata": {},
   "outputs": [],
   "source": []
  },
  {
   "cell_type": "code",
   "execution_count": null,
   "id": "f244c7dd-973a-4a6b-9d2d-cd33a959a908",
   "metadata": {},
   "outputs": [],
   "source": []
  }
 ],
 "metadata": {
  "kernelspec": {
   "display_name": "Python 3 (ipykernel)",
   "language": "python",
   "name": "python3"
  },
  "language_info": {
   "codemirror_mode": {
    "name": "ipython",
    "version": 3
   },
   "file_extension": ".py",
   "mimetype": "text/x-python",
   "name": "python",
   "nbconvert_exporter": "python",
   "pygments_lexer": "ipython3",
   "version": "3.10.2"
  }
 },
 "nbformat": 4,
 "nbformat_minor": 5
}
